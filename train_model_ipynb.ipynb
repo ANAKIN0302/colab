{
  "nbformat": 4,
  "nbformat_minor": 0,
  "metadata": {
    "colab": {
      "provenance": [],
      "gpuType": "T4"
    },
    "kernelspec": {
      "name": "python3",
      "display_name": "Python 3"
    },
    "language_info": {
      "name": "python"
    },
    "accelerator": "GPU"
  },
  "cells": [
    {
      "cell_type": "code",
      "execution_count": 1,
      "metadata": {
        "id": "Qd9kH74MSlpv",
        "colab": {
          "base_uri": "https://localhost:8080/"
        },
        "outputId": "dd4cd74c-bb57-474c-cbd5-5beb1d7ab1eb"
      },
      "outputs": [
        {
          "output_type": "stream",
          "name": "stdout",
          "text": [
            "Mounted at /content/drive\n"
          ]
        }
      ],
      "source": [
        "from google.colab import drive\n",
        "drive.mount('/content/drive')"
      ]
    },
    {
      "cell_type": "code",
      "source": [
        "from google.colab import runtime\n",
        "runtime.unassign()"
      ],
      "metadata": {
        "id": "kGNHcG6cnRT4"
      },
      "execution_count": null,
      "outputs": []
    },
    {
      "cell_type": "code",
      "source": [
        "!pip install ultralytics"
      ],
      "metadata": {
        "colab": {
          "base_uri": "https://localhost:8080/"
        },
        "id": "rSQVWS_jzbvS",
        "outputId": "c32159e6-8972-4fe3-b3eb-108b70dc5c4a"
      },
      "execution_count": 2,
      "outputs": [
        {
          "output_type": "stream",
          "name": "stdout",
          "text": [
            "Collecting ultralytics\n",
            "  Downloading ultralytics-8.2.86-py3-none-any.whl.metadata (41 kB)\n",
            "\u001b[?25l     \u001b[90m━━━━━━━━━━━━━━━━━━━━━━━━━━━━━━━━━━━━━━━━\u001b[0m \u001b[32m0.0/41.8 kB\u001b[0m \u001b[31m?\u001b[0m eta \u001b[36m-:--:--\u001b[0m\r\u001b[2K     \u001b[90m━━━━━━━━━━━━━━━━━━━━━━━━━━━━━━━━━━━━━━━━\u001b[0m \u001b[32m41.8/41.8 kB\u001b[0m \u001b[31m3.3 MB/s\u001b[0m eta \u001b[36m0:00:00\u001b[0m\n",
            "\u001b[?25hRequirement already satisfied: numpy<2.0.0,>=1.23.0 in /usr/local/lib/python3.10/dist-packages (from ultralytics) (1.26.4)\n",
            "Requirement already satisfied: matplotlib>=3.3.0 in /usr/local/lib/python3.10/dist-packages (from ultralytics) (3.7.1)\n",
            "Requirement already satisfied: opencv-python>=4.6.0 in /usr/local/lib/python3.10/dist-packages (from ultralytics) (4.10.0.84)\n",
            "Requirement already satisfied: pillow>=7.1.2 in /usr/local/lib/python3.10/dist-packages (from ultralytics) (9.4.0)\n",
            "Requirement already satisfied: pyyaml>=5.3.1 in /usr/local/lib/python3.10/dist-packages (from ultralytics) (6.0.2)\n",
            "Requirement already satisfied: requests>=2.23.0 in /usr/local/lib/python3.10/dist-packages (from ultralytics) (2.32.3)\n",
            "Requirement already satisfied: scipy>=1.4.1 in /usr/local/lib/python3.10/dist-packages (from ultralytics) (1.13.1)\n",
            "Requirement already satisfied: torch>=1.8.0 in /usr/local/lib/python3.10/dist-packages (from ultralytics) (2.4.0+cu121)\n",
            "Requirement already satisfied: torchvision>=0.9.0 in /usr/local/lib/python3.10/dist-packages (from ultralytics) (0.19.0+cu121)\n",
            "Requirement already satisfied: tqdm>=4.64.0 in /usr/local/lib/python3.10/dist-packages (from ultralytics) (4.66.5)\n",
            "Requirement already satisfied: psutil in /usr/local/lib/python3.10/dist-packages (from ultralytics) (5.9.5)\n",
            "Requirement already satisfied: py-cpuinfo in /usr/local/lib/python3.10/dist-packages (from ultralytics) (9.0.0)\n",
            "Requirement already satisfied: pandas>=1.1.4 in /usr/local/lib/python3.10/dist-packages (from ultralytics) (2.1.4)\n",
            "Requirement already satisfied: seaborn>=0.11.0 in /usr/local/lib/python3.10/dist-packages (from ultralytics) (0.13.1)\n",
            "Collecting ultralytics-thop>=2.0.0 (from ultralytics)\n",
            "  Downloading ultralytics_thop-2.0.6-py3-none-any.whl.metadata (9.1 kB)\n",
            "Requirement already satisfied: contourpy>=1.0.1 in /usr/local/lib/python3.10/dist-packages (from matplotlib>=3.3.0->ultralytics) (1.2.1)\n",
            "Requirement already satisfied: cycler>=0.10 in /usr/local/lib/python3.10/dist-packages (from matplotlib>=3.3.0->ultralytics) (0.12.1)\n",
            "Requirement already satisfied: fonttools>=4.22.0 in /usr/local/lib/python3.10/dist-packages (from matplotlib>=3.3.0->ultralytics) (4.53.1)\n",
            "Requirement already satisfied: kiwisolver>=1.0.1 in /usr/local/lib/python3.10/dist-packages (from matplotlib>=3.3.0->ultralytics) (1.4.5)\n",
            "Requirement already satisfied: packaging>=20.0 in /usr/local/lib/python3.10/dist-packages (from matplotlib>=3.3.0->ultralytics) (24.1)\n",
            "Requirement already satisfied: pyparsing>=2.3.1 in /usr/local/lib/python3.10/dist-packages (from matplotlib>=3.3.0->ultralytics) (3.1.4)\n",
            "Requirement already satisfied: python-dateutil>=2.7 in /usr/local/lib/python3.10/dist-packages (from matplotlib>=3.3.0->ultralytics) (2.8.2)\n",
            "Requirement already satisfied: pytz>=2020.1 in /usr/local/lib/python3.10/dist-packages (from pandas>=1.1.4->ultralytics) (2024.1)\n",
            "Requirement already satisfied: tzdata>=2022.1 in /usr/local/lib/python3.10/dist-packages (from pandas>=1.1.4->ultralytics) (2024.1)\n",
            "Requirement already satisfied: charset-normalizer<4,>=2 in /usr/local/lib/python3.10/dist-packages (from requests>=2.23.0->ultralytics) (3.3.2)\n",
            "Requirement already satisfied: idna<4,>=2.5 in /usr/local/lib/python3.10/dist-packages (from requests>=2.23.0->ultralytics) (3.8)\n",
            "Requirement already satisfied: urllib3<3,>=1.21.1 in /usr/local/lib/python3.10/dist-packages (from requests>=2.23.0->ultralytics) (2.0.7)\n",
            "Requirement already satisfied: certifi>=2017.4.17 in /usr/local/lib/python3.10/dist-packages (from requests>=2.23.0->ultralytics) (2024.7.4)\n",
            "Requirement already satisfied: filelock in /usr/local/lib/python3.10/dist-packages (from torch>=1.8.0->ultralytics) (3.15.4)\n",
            "Requirement already satisfied: typing-extensions>=4.8.0 in /usr/local/lib/python3.10/dist-packages (from torch>=1.8.0->ultralytics) (4.12.2)\n",
            "Requirement already satisfied: sympy in /usr/local/lib/python3.10/dist-packages (from torch>=1.8.0->ultralytics) (1.13.2)\n",
            "Requirement already satisfied: networkx in /usr/local/lib/python3.10/dist-packages (from torch>=1.8.0->ultralytics) (3.3)\n",
            "Requirement already satisfied: jinja2 in /usr/local/lib/python3.10/dist-packages (from torch>=1.8.0->ultralytics) (3.1.4)\n",
            "Requirement already satisfied: fsspec in /usr/local/lib/python3.10/dist-packages (from torch>=1.8.0->ultralytics) (2024.6.1)\n",
            "Requirement already satisfied: six>=1.5 in /usr/local/lib/python3.10/dist-packages (from python-dateutil>=2.7->matplotlib>=3.3.0->ultralytics) (1.16.0)\n",
            "Requirement already satisfied: MarkupSafe>=2.0 in /usr/local/lib/python3.10/dist-packages (from jinja2->torch>=1.8.0->ultralytics) (2.1.5)\n",
            "Requirement already satisfied: mpmath<1.4,>=1.1.0 in /usr/local/lib/python3.10/dist-packages (from sympy->torch>=1.8.0->ultralytics) (1.3.0)\n",
            "Downloading ultralytics-8.2.86-py3-none-any.whl (872 kB)\n",
            "\u001b[2K   \u001b[90m━━━━━━━━━━━━━━━━━━━━━━━━━━━━━━━━━━━━━━━━\u001b[0m \u001b[32m872.0/872.0 kB\u001b[0m \u001b[31m55.1 MB/s\u001b[0m eta \u001b[36m0:00:00\u001b[0m\n",
            "\u001b[?25hDownloading ultralytics_thop-2.0.6-py3-none-any.whl (26 kB)\n",
            "Installing collected packages: ultralytics-thop, ultralytics\n",
            "Successfully installed ultralytics-8.2.86 ultralytics-thop-2.0.6\n"
          ]
        }
      ]
    },
    {
      "cell_type": "code",
      "source": [
        "import os\n",
        "\n",
        "# 验证数据集路径\n",
        "train_dir = '/content/drive/MyDrive/organized_dataset/images/train'\n",
        "val_dir = '/content/drive/MyDrive/organized_dataset/images/val'\n",
        "\n",
        "# 检查训练和验证图像路径是否存在\n",
        "if os.path.exists(train_dir) and os.path.exists(val_dir):\n",
        "    print(\"训练和验证图像路径存在\")\n",
        "else:\n",
        "    print(\"训练或验证图像路径不存在\")\n",
        "\n",
        "# 检查 YAML 文件路径\n",
        "yaml_path = '/content/drive/MyDrive/organized_dataset/your_dataset.yaml'\n",
        "if os.path.exists(yaml_path):\n",
        "    print(\"YAML 文件路径存在\")\n",
        "else:\n",
        "    print(\"YAML 文件路径不存在\")"
      ],
      "metadata": {
        "colab": {
          "base_uri": "https://localhost:8080/"
        },
        "id": "Ro_mEo73cUiV",
        "outputId": "e1fd29dc-c2be-4be1-9721-9dca84c4dee9"
      },
      "execution_count": 3,
      "outputs": [
        {
          "output_type": "stream",
          "name": "stdout",
          "text": [
            "训练和验证图像路径存在\n",
            "YAML 文件路径存在\n"
          ]
        }
      ]
    },
    {
      "cell_type": "code",
      "source": [
        "# 定义YAML配置内容\n",
        "data_yaml = \"\"\"\n",
        "train: /content/drive/MyDrive/organized_dataset/images/train\n",
        "val: /content/drive/MyDrive/organized_dataset/images/val\n",
        "\n",
        "nc: 3  # 类别数量\n",
        "names:\n",
        "  - Initial\n",
        "  - Middle\n",
        "  - Harvest  # 类别名称\n",
        "\"\"\"\n",
        "\n",
        "# 保存YAML文件到指定路径\n",
        "yaml_path = '/content/drive/MyDrive/organized_dataset/your_dataset.yaml'\n",
        "with open(yaml_path, 'w') as file:\n",
        "    file.write(data_yaml)\n",
        "\n",
        "print(f\"YAML文件已创建并保存到: {yaml_path}\")"
      ],
      "metadata": {
        "colab": {
          "base_uri": "https://localhost:8080/"
        },
        "id": "A2We_AM6cg_2",
        "outputId": "0e7c5d07-029d-4e45-e35a-83daa87692ee"
      },
      "execution_count": 4,
      "outputs": [
        {
          "output_type": "stream",
          "name": "stdout",
          "text": [
            "YAML文件已创建并保存到: /content/drive/MyDrive/organized_dataset/your_dataset.yaml\n"
          ]
        }
      ]
    },
    {
      "cell_type": "code",
      "source": [
        "#檢查YAML\n",
        "with open('/content/drive/MyDrive/colabhw/dataset/organized_dataset/your_dataset.yaml', 'r') as file:\n",
        "    yaml_content = file.read()\n",
        "    print(yaml_content)"
      ],
      "metadata": {
        "colab": {
          "base_uri": "https://localhost:8080/"
        },
        "id": "0jCmWYcagfJA",
        "outputId": "5e2b7642-81ff-460d-c9cf-89a2849526e0"
      },
      "execution_count": 5,
      "outputs": [
        {
          "output_type": "stream",
          "name": "stdout",
          "text": [
            "\n",
            "train: /content/drive/MyDrive/colabhw/dataset/organized_dataset/images/train\n",
            "val: /content/drive/MyDrive/colabhw/dataset/organized_dataset/images/val\n",
            "\n",
            "nc: 3  # 类别数量\n",
            "names:\n",
            "  - Initial\n",
            "  - Middle\n",
            "  - Harvest  # 类别名称\n",
            "\n"
          ]
        }
      ]
    },
    {
      "cell_type": "code",
      "source": [
        "from ultralytics import YOLO\n",
        "\n",
        "# 加载 YOLOv8 预训练模型\n",
        "model = YOLO('yolov8n.pt')  # 可以选择不同的模型\n",
        "\n",
        "# 开始训练\n",
        "model.train(data='/content/drive/MyDrive/colabhw/dataset/organized_dataset/your_dataset.yaml',\n",
        "            epochs=100,  # 训练的轮数\n",
        "            imgsz=640,  # 输入图像大小\n",
        "            batch=16,    # 批次大小\n",
        "            name='yolov8-tomato',  # 保存模型的名称\n",
        "            save=True)  # 确保训练结果被保存"
      ],
      "metadata": {
        "colab": {
          "base_uri": "https://localhost:8080/"
        },
        "collapsed": true,
        "id": "4AS8HkEPg0vD",
        "outputId": "106b500a-a9e2-4c0f-881e-3db63ac2347d"
      },
      "execution_count": 6,
      "outputs": [
        {
          "metadata": {
            "tags": null
          },
          "name": "stdout",
          "output_type": "stream",
          "text": [
            "Downloading https://github.com/ultralytics/assets/releases/download/v8.2.0/yolov8n.pt to 'yolov8n.pt'...\n"
          ]
        },
        {
          "metadata": {
            "tags": null
          },
          "name": "stderr",
          "output_type": "stream",
          "text": [
            "100%|██████████| 6.25M/6.25M [00:00<00:00, 384MB/s]\n"
          ]
        },
        {
          "metadata": {
            "tags": null
          },
          "name": "stdout",
          "output_type": "stream",
          "text": [
            "Ultralytics YOLOv8.2.86 🚀 Python-3.10.12 torch-2.4.0+cu121 CUDA:0 (Tesla T4, 15102MiB)\n",
            "\u001b[34m\u001b[1mengine/trainer: \u001b[0mtask=detect, mode=train, model=yolov8n.pt, data=/content/drive/MyDrive/colabhw/dataset/organized_dataset/your_dataset.yaml, epochs=100, time=None, patience=100, batch=16, imgsz=640, save=True, save_period=-1, cache=False, device=None, workers=8, project=None, name=yolov8-tomato, exist_ok=False, pretrained=True, optimizer=auto, verbose=True, seed=0, deterministic=True, single_cls=False, rect=False, cos_lr=False, close_mosaic=10, resume=False, amp=True, fraction=1.0, profile=False, freeze=None, multi_scale=False, overlap_mask=True, mask_ratio=4, dropout=0.0, val=True, split=val, save_json=False, save_hybrid=False, conf=None, iou=0.7, max_det=300, half=False, dnn=False, plots=True, source=None, vid_stride=1, stream_buffer=False, visualize=False, augment=False, agnostic_nms=False, classes=None, retina_masks=False, embed=None, show=False, save_frames=False, save_txt=False, save_conf=False, save_crop=False, show_labels=True, show_conf=True, show_boxes=True, line_width=None, format=torchscript, keras=False, optimize=False, int8=False, dynamic=False, simplify=False, opset=None, workspace=4, nms=False, lr0=0.01, lrf=0.01, momentum=0.937, weight_decay=0.0005, warmup_epochs=3.0, warmup_momentum=0.8, warmup_bias_lr=0.1, box=7.5, cls=0.5, dfl=1.5, pose=12.0, kobj=1.0, label_smoothing=0.0, nbs=64, hsv_h=0.015, hsv_s=0.7, hsv_v=0.4, degrees=0.0, translate=0.1, scale=0.5, shear=0.0, perspective=0.0, flipud=0.0, fliplr=0.5, bgr=0.0, mosaic=1.0, mixup=0.0, copy_paste=0.0, auto_augment=randaugment, erasing=0.4, crop_fraction=1.0, cfg=None, tracker=botsort.yaml, save_dir=runs/detect/yolov8-tomato\n",
            "Downloading https://ultralytics.com/assets/Arial.ttf to '/root/.config/Ultralytics/Arial.ttf'...\n"
          ]
        },
        {
          "metadata": {
            "tags": null
          },
          "name": "stderr",
          "output_type": "stream",
          "text": [
            "100%|██████████| 755k/755k [00:00<00:00, 94.8MB/s]\n"
          ]
        },
        {
          "metadata": {
            "tags": null
          },
          "name": "stdout",
          "output_type": "stream",
          "text": [
            "Overriding model.yaml nc=80 with nc=3\n",
            "\n",
            "                   from  n    params  module                                       arguments                     \n",
            "  0                  -1  1       464  ultralytics.nn.modules.conv.Conv             [3, 16, 3, 2]                 \n",
            "  1                  -1  1      4672  ultralytics.nn.modules.conv.Conv             [16, 32, 3, 2]                \n",
            "  2                  -1  1      7360  ultralytics.nn.modules.block.C2f             [32, 32, 1, True]             \n",
            "  3                  -1  1     18560  ultralytics.nn.modules.conv.Conv             [32, 64, 3, 2]                \n",
            "  4                  -1  2     49664  ultralytics.nn.modules.block.C2f             [64, 64, 2, True]             \n",
            "  5                  -1  1     73984  ultralytics.nn.modules.conv.Conv             [64, 128, 3, 2]               \n",
            "  6                  -1  2    197632  ultralytics.nn.modules.block.C2f             [128, 128, 2, True]           \n",
            "  7                  -1  1    295424  ultralytics.nn.modules.conv.Conv             [128, 256, 3, 2]              \n",
            "  8                  -1  1    460288  ultralytics.nn.modules.block.C2f             [256, 256, 1, True]           \n",
            "  9                  -1  1    164608  ultralytics.nn.modules.block.SPPF            [256, 256, 5]                 \n",
            " 10                  -1  1         0  torch.nn.modules.upsampling.Upsample         [None, 2, 'nearest']          \n",
            " 11             [-1, 6]  1         0  ultralytics.nn.modules.conv.Concat           [1]                           \n",
            " 12                  -1  1    148224  ultralytics.nn.modules.block.C2f             [384, 128, 1]                 \n",
            " 13                  -1  1         0  torch.nn.modules.upsampling.Upsample         [None, 2, 'nearest']          \n",
            " 14             [-1, 4]  1         0  ultralytics.nn.modules.conv.Concat           [1]                           \n",
            " 15                  -1  1     37248  ultralytics.nn.modules.block.C2f             [192, 64, 1]                  \n",
            " 16                  -1  1     36992  ultralytics.nn.modules.conv.Conv             [64, 64, 3, 2]                \n",
            " 17            [-1, 12]  1         0  ultralytics.nn.modules.conv.Concat           [1]                           \n",
            " 18                  -1  1    123648  ultralytics.nn.modules.block.C2f             [192, 128, 1]                 \n",
            " 19                  -1  1    147712  ultralytics.nn.modules.conv.Conv             [128, 128, 3, 2]              \n",
            " 20             [-1, 9]  1         0  ultralytics.nn.modules.conv.Concat           [1]                           \n",
            " 21                  -1  1    493056  ultralytics.nn.modules.block.C2f             [384, 256, 1]                 \n",
            " 22        [15, 18, 21]  1    751897  ultralytics.nn.modules.head.Detect           [3, [64, 128, 256]]           \n",
            "Model summary: 225 layers, 3,011,433 parameters, 3,011,417 gradients, 8.2 GFLOPs\n",
            "\n",
            "Transferred 319/355 items from pretrained weights\n",
            "\u001b[34m\u001b[1mTensorBoard: \u001b[0mStart with 'tensorboard --logdir runs/detect/yolov8-tomato', view at http://localhost:6006/\n",
            "Freezing layer 'model.22.dfl.conv.weight'\n",
            "\u001b[34m\u001b[1mAMP: \u001b[0mrunning Automatic Mixed Precision (AMP) checks with YOLOv8n...\n",
            "\u001b[34m\u001b[1mAMP: \u001b[0mchecks passed ✅\n"
          ]
        },
        {
          "metadata": {
            "tags": null
          },
          "name": "stderr",
          "output_type": "stream",
          "text": [
            "/usr/local/lib/python3.10/dist-packages/ultralytics/engine/trainer.py:268: FutureWarning: `torch.cuda.amp.GradScaler(args...)` is deprecated. Please use `torch.amp.GradScaler('cuda', args...)` instead.\n",
            "  self.scaler = torch.cuda.amp.GradScaler(enabled=self.amp)\n",
            "\u001b[34m\u001b[1mtrain: \u001b[0mScanning /content/drive/.shortcut-targets-by-id/1ts4O7s6g1qhD0beDdYNoBCz2KYOctugJ/colabhw/dataset/organized_dataset/labels/train... 347 images, 0 backgrounds, 0 corrupt: 100%|██████████| 347/347 [05:41<00:00,  1.02it/s]\n"
          ]
        },
        {
          "metadata": {
            "tags": null
          },
          "name": "stdout",
          "output_type": "stream",
          "text": [
            "\u001b[34m\u001b[1mtrain: \u001b[0mNew cache created: /content/drive/.shortcut-targets-by-id/1ts4O7s6g1qhD0beDdYNoBCz2KYOctugJ/colabhw/dataset/organized_dataset/labels/train.cache\n",
            "\u001b[34m\u001b[1malbumentations: \u001b[0mBlur(p=0.01, blur_limit=(3, 7)), MedianBlur(p=0.01, blur_limit=(3, 7)), ToGray(p=0.01), CLAHE(p=0.01, clip_limit=(1, 4.0), tile_grid_size=(8, 8))\n"
          ]
        },
        {
          "metadata": {
            "tags": null
          },
          "name": "stderr",
          "output_type": "stream",
          "text": [
            "/usr/lib/python3.10/multiprocessing/popen_fork.py:66: RuntimeWarning: os.fork() was called. os.fork() is incompatible with multithreaded code, and JAX is multithreaded, so this will likely lead to a deadlock.\n",
            "  self.pid = os.fork()\n",
            "\u001b[34m\u001b[1mval: \u001b[0mScanning /content/drive/.shortcut-targets-by-id/1ts4O7s6g1qhD0beDdYNoBCz2KYOctugJ/colabhw/dataset/organized_dataset/labels/val... 105 images, 0 backgrounds, 0 corrupt: 100%|██████████| 105/105 [01:37<00:00,  1.08it/s]"
          ]
        },
        {
          "metadata": {
            "tags": null
          },
          "name": "stdout",
          "output_type": "stream",
          "text": [
            "\u001b[34m\u001b[1mval: \u001b[0mNew cache created: /content/drive/.shortcut-targets-by-id/1ts4O7s6g1qhD0beDdYNoBCz2KYOctugJ/colabhw/dataset/organized_dataset/labels/val.cache\n"
          ]
        },
        {
          "metadata": {
            "tags": null
          },
          "name": "stderr",
          "output_type": "stream",
          "text": [
            "\n"
          ]
        },
        {
          "metadata": {
            "tags": null
          },
          "name": "stdout",
          "output_type": "stream",
          "text": [
            "Plotting labels to runs/detect/yolov8-tomato/labels.jpg... \n",
            "\u001b[34m\u001b[1moptimizer:\u001b[0m 'optimizer=auto' found, ignoring 'lr0=0.01' and 'momentum=0.937' and determining best 'optimizer', 'lr0' and 'momentum' automatically... \n",
            "\u001b[34m\u001b[1moptimizer:\u001b[0m AdamW(lr=0.001429, momentum=0.9) with parameter groups 57 weight(decay=0.0), 64 weight(decay=0.0005), 63 bias(decay=0.0)\n",
            "\u001b[34m\u001b[1mTensorBoard: \u001b[0mmodel graph visualization added ✅\n",
            "Image sizes 640 train, 640 val\n",
            "Using 2 dataloader workers\n",
            "Logging results to \u001b[1mruns/detect/yolov8-tomato\u001b[0m\n",
            "Starting training for 100 epochs...\n",
            "\n",
            "      Epoch    GPU_mem   box_loss   cls_loss   dfl_loss  Instances       Size\n"
          ]
        },
        {
          "metadata": {
            "tags": null
          },
          "name": "stderr",
          "output_type": "stream",
          "text": [
            "      1/100      2.51G      3.526      4.091      2.725        253        640: 100%|██████████| 22/22 [00:56<00:00,  2.56s/it]\n",
            "                 Class     Images  Instances      Box(P          R      mAP50  mAP50-95): 100%|██████████| 4/4 [00:06<00:00,  1.65s/it]"
          ]
        },
        {
          "metadata": {
            "tags": null
          },
          "name": "stdout",
          "output_type": "stream",
          "text": [
            "                   all        105       1125   0.000665    0.00533   0.000339   9.72e-05\n"
          ]
        },
        {
          "metadata": {
            "tags": null
          },
          "name": "stderr",
          "output_type": "stream",
          "text": [
            "\n"
          ]
        },
        {
          "metadata": {
            "tags": null
          },
          "name": "stdout",
          "output_type": "stream",
          "text": [
            "\n",
            "      Epoch    GPU_mem   box_loss   cls_loss   dfl_loss  Instances       Size\n"
          ]
        },
        {
          "output_type": "stream",
          "name": "stderr",
          "text": [
            "      2/100      2.39G      2.949      3.206      2.065        147        640: 100%|██████████| 22/22 [00:55<00:00,  2.50s/it]\n",
            "                 Class     Images  Instances      Box(P          R      mAP50  mAP50-95): 100%|██████████| 4/4 [00:02<00:00,  1.73it/s]"
          ]
        },
        {
          "output_type": "stream",
          "name": "stdout",
          "text": [
            "                   all        105       1125      0.016      0.222     0.0122    0.00399\n"
          ]
        },
        {
          "output_type": "stream",
          "name": "stderr",
          "text": [
            "\n"
          ]
        },
        {
          "output_type": "stream",
          "name": "stdout",
          "text": [
            "\n",
            "      Epoch    GPU_mem   box_loss   cls_loss   dfl_loss  Instances       Size\n"
          ]
        },
        {
          "output_type": "stream",
          "name": "stderr",
          "text": [
            "      3/100      2.61G      2.855      2.962      1.974        173        640: 100%|██████████| 22/22 [01:00<00:00,  2.74s/it]\n",
            "                 Class     Images  Instances      Box(P          R      mAP50  mAP50-95): 100%|██████████| 4/4 [00:02<00:00,  1.72it/s]"
          ]
        },
        {
          "output_type": "stream",
          "name": "stdout",
          "text": [
            "                   all        105       1125     0.0203      0.072     0.0101    0.00286\n"
          ]
        },
        {
          "output_type": "stream",
          "name": "stderr",
          "text": [
            "\n"
          ]
        },
        {
          "output_type": "stream",
          "name": "stdout",
          "text": [
            "\n",
            "      Epoch    GPU_mem   box_loss   cls_loss   dfl_loss  Instances       Size\n"
          ]
        },
        {
          "output_type": "stream",
          "name": "stderr",
          "text": [
            "      4/100      2.51G      2.793      2.883      1.913        194        640: 100%|██████████| 22/22 [00:54<00:00,  2.49s/it]\n",
            "                 Class     Images  Instances      Box(P          R      mAP50  mAP50-95): 100%|██████████| 4/4 [00:02<00:00,  1.48it/s]"
          ]
        },
        {
          "output_type": "stream",
          "name": "stdout",
          "text": [
            "                   all        105       1125     0.0303     0.0996     0.0136    0.00453\n"
          ]
        },
        {
          "output_type": "stream",
          "name": "stderr",
          "text": [
            "\n"
          ]
        },
        {
          "output_type": "stream",
          "name": "stdout",
          "text": [
            "\n",
            "      Epoch    GPU_mem   box_loss   cls_loss   dfl_loss  Instances       Size\n"
          ]
        },
        {
          "output_type": "stream",
          "name": "stderr",
          "text": [
            "      5/100      2.46G      2.829      2.871      1.984        121        640: 100%|██████████| 22/22 [00:55<00:00,  2.53s/it]\n",
            "                 Class     Images  Instances      Box(P          R      mAP50  mAP50-95): 100%|██████████| 4/4 [00:01<00:00,  2.10it/s]"
          ]
        },
        {
          "output_type": "stream",
          "name": "stdout",
          "text": [
            "                   all        105       1125     0.0186      0.056     0.0096    0.00284\n"
          ]
        },
        {
          "output_type": "stream",
          "name": "stderr",
          "text": [
            "\n"
          ]
        },
        {
          "output_type": "stream",
          "name": "stdout",
          "text": [
            "\n",
            "      Epoch    GPU_mem   box_loss   cls_loss   dfl_loss  Instances       Size\n"
          ]
        },
        {
          "output_type": "stream",
          "name": "stderr",
          "text": [
            "      6/100      2.62G       2.73       2.79      1.923        221        640: 100%|██████████| 22/22 [00:55<00:00,  2.50s/it]\n",
            "                 Class     Images  Instances      Box(P          R      mAP50  mAP50-95): 100%|██████████| 4/4 [00:02<00:00,  1.50it/s]"
          ]
        },
        {
          "output_type": "stream",
          "name": "stdout",
          "text": [
            "                   all        105       1125     0.0114      0.184     0.0108    0.00296\n"
          ]
        },
        {
          "output_type": "stream",
          "name": "stderr",
          "text": [
            "\n"
          ]
        },
        {
          "output_type": "stream",
          "name": "stdout",
          "text": [
            "\n",
            "      Epoch    GPU_mem   box_loss   cls_loss   dfl_loss  Instances       Size\n"
          ]
        },
        {
          "output_type": "stream",
          "name": "stderr",
          "text": [
            "      7/100      2.39G      2.701      2.778      1.953        168        640: 100%|██████████| 22/22 [00:55<00:00,  2.51s/it]\n",
            "                 Class     Images  Instances      Box(P          R      mAP50  mAP50-95): 100%|██████████| 4/4 [00:01<00:00,  2.16it/s]\n"
          ]
        },
        {
          "output_type": "stream",
          "name": "stdout",
          "text": [
            "                   all        105       1125     0.0326     0.0889      0.014    0.00457\n",
            "\n",
            "      Epoch    GPU_mem   box_loss   cls_loss   dfl_loss  Instances       Size\n"
          ]
        },
        {
          "output_type": "stream",
          "name": "stderr",
          "text": [
            "      8/100      2.29G      2.721      2.798      1.961        178        640: 100%|██████████| 22/22 [00:54<00:00,  2.48s/it]\n",
            "                 Class     Images  Instances      Box(P          R      mAP50  mAP50-95): 100%|██████████| 4/4 [00:02<00:00,  2.00it/s]"
          ]
        },
        {
          "output_type": "stream",
          "name": "stdout",
          "text": [
            "                   all        105       1125     0.0277      0.157      0.018    0.00708\n"
          ]
        },
        {
          "output_type": "stream",
          "name": "stderr",
          "text": [
            "\n"
          ]
        },
        {
          "output_type": "stream",
          "name": "stdout",
          "text": [
            "\n",
            "      Epoch    GPU_mem   box_loss   cls_loss   dfl_loss  Instances       Size\n"
          ]
        },
        {
          "output_type": "stream",
          "name": "stderr",
          "text": [
            "      9/100      2.41G      2.678      2.719      1.924        205        640: 100%|██████████| 22/22 [00:57<00:00,  2.59s/it]\n",
            "                 Class     Images  Instances      Box(P          R      mAP50  mAP50-95): 100%|██████████| 4/4 [00:01<00:00,  2.04it/s]\n"
          ]
        },
        {
          "output_type": "stream",
          "name": "stdout",
          "text": [
            "                   all        105       1125     0.0183      0.495     0.0276    0.00872\n",
            "\n",
            "      Epoch    GPU_mem   box_loss   cls_loss   dfl_loss  Instances       Size\n"
          ]
        },
        {
          "output_type": "stream",
          "name": "stderr",
          "text": [
            "     10/100      2.44G      2.582      2.721      1.944        149        640: 100%|██████████| 22/22 [00:55<00:00,  2.52s/it]\n",
            "                 Class     Images  Instances      Box(P          R      mAP50  mAP50-95): 100%|██████████| 4/4 [00:01<00:00,  2.44it/s]"
          ]
        },
        {
          "output_type": "stream",
          "name": "stdout",
          "text": [
            "                   all        105       1125     0.0153      0.418     0.0219    0.00943\n"
          ]
        },
        {
          "output_type": "stream",
          "name": "stderr",
          "text": [
            "\n"
          ]
        },
        {
          "output_type": "stream",
          "name": "stdout",
          "text": [
            "\n",
            "      Epoch    GPU_mem   box_loss   cls_loss   dfl_loss  Instances       Size\n"
          ]
        },
        {
          "output_type": "stream",
          "name": "stderr",
          "text": [
            "     11/100      2.53G      2.575      2.696      1.929        177        640: 100%|██████████| 22/22 [00:53<00:00,  2.41s/it]\n",
            "                 Class     Images  Instances      Box(P          R      mAP50  mAP50-95): 100%|██████████| 4/4 [00:03<00:00,  1.24it/s]"
          ]
        },
        {
          "output_type": "stream",
          "name": "stdout",
          "text": [
            "                   all        105       1125      0.018       0.33     0.0177    0.00602\n"
          ]
        },
        {
          "output_type": "stream",
          "name": "stderr",
          "text": [
            "\n"
          ]
        },
        {
          "output_type": "stream",
          "name": "stdout",
          "text": [
            "\n",
            "      Epoch    GPU_mem   box_loss   cls_loss   dfl_loss  Instances       Size\n"
          ]
        },
        {
          "output_type": "stream",
          "name": "stderr",
          "text": [
            "     12/100      2.49G      2.596      2.697      1.918        154        640: 100%|██████████| 22/22 [00:53<00:00,  2.42s/it]\n",
            "                 Class     Images  Instances      Box(P          R      mAP50  mAP50-95): 100%|██████████| 4/4 [00:01<00:00,  2.11it/s]"
          ]
        },
        {
          "output_type": "stream",
          "name": "stdout",
          "text": [
            "                   all        105       1125     0.0181      0.373     0.0222    0.00723\n"
          ]
        },
        {
          "output_type": "stream",
          "name": "stderr",
          "text": [
            "\n"
          ]
        },
        {
          "output_type": "stream",
          "name": "stdout",
          "text": [
            "\n",
            "      Epoch    GPU_mem   box_loss   cls_loss   dfl_loss  Instances       Size\n"
          ]
        },
        {
          "output_type": "stream",
          "name": "stderr",
          "text": [
            "     13/100      2.38G      2.533       2.67      1.889        173        640: 100%|██████████| 22/22 [00:52<00:00,  2.38s/it]\n",
            "                 Class     Images  Instances      Box(P          R      mAP50  mAP50-95): 100%|██████████| 4/4 [00:01<00:00,  2.18it/s]"
          ]
        },
        {
          "output_type": "stream",
          "name": "stdout",
          "text": [
            "                   all        105       1125     0.0933       0.15     0.0509     0.0158\n"
          ]
        },
        {
          "output_type": "stream",
          "name": "stderr",
          "text": [
            "\n"
          ]
        },
        {
          "output_type": "stream",
          "name": "stdout",
          "text": [
            "\n",
            "      Epoch    GPU_mem   box_loss   cls_loss   dfl_loss  Instances       Size\n"
          ]
        },
        {
          "output_type": "stream",
          "name": "stderr",
          "text": [
            "     14/100      2.44G      2.553      2.605       1.88        161        640: 100%|██████████| 22/22 [00:52<00:00,  2.40s/it]\n",
            "                 Class     Images  Instances      Box(P          R      mAP50  mAP50-95): 100%|██████████| 4/4 [00:02<00:00,  1.41it/s]"
          ]
        },
        {
          "output_type": "stream",
          "name": "stdout",
          "text": [
            "                   all        105       1125     0.0926      0.125      0.043     0.0123\n"
          ]
        },
        {
          "output_type": "stream",
          "name": "stderr",
          "text": [
            "\n"
          ]
        },
        {
          "output_type": "stream",
          "name": "stdout",
          "text": [
            "\n",
            "      Epoch    GPU_mem   box_loss   cls_loss   dfl_loss  Instances       Size\n"
          ]
        },
        {
          "output_type": "stream",
          "name": "stderr",
          "text": [
            "     15/100      2.52G      2.541      2.597       1.89        251        640: 100%|██████████| 22/22 [00:55<00:00,  2.54s/it]\n",
            "                 Class     Images  Instances      Box(P          R      mAP50  mAP50-95): 100%|██████████| 4/4 [00:01<00:00,  2.38it/s]"
          ]
        },
        {
          "output_type": "stream",
          "name": "stdout",
          "text": [
            "                   all        105       1125     0.0719      0.108       0.03     0.0108\n"
          ]
        },
        {
          "output_type": "stream",
          "name": "stderr",
          "text": [
            "\n"
          ]
        },
        {
          "output_type": "stream",
          "name": "stdout",
          "text": [
            "\n",
            "      Epoch    GPU_mem   box_loss   cls_loss   dfl_loss  Instances       Size\n"
          ]
        },
        {
          "output_type": "stream",
          "name": "stderr",
          "text": [
            "     16/100      2.39G      2.509      2.638      1.883        155        640: 100%|██████████| 22/22 [00:55<00:00,  2.50s/it]\n",
            "                 Class     Images  Instances      Box(P          R      mAP50  mAP50-95): 100%|██████████| 4/4 [00:01<00:00,  2.25it/s]"
          ]
        },
        {
          "output_type": "stream",
          "name": "stdout",
          "text": [
            "                   all        105       1125      0.105     0.0587     0.0331     0.0109\n"
          ]
        },
        {
          "output_type": "stream",
          "name": "stderr",
          "text": [
            "\n"
          ]
        },
        {
          "output_type": "stream",
          "name": "stdout",
          "text": [
            "\n",
            "      Epoch    GPU_mem   box_loss   cls_loss   dfl_loss  Instances       Size\n"
          ]
        },
        {
          "output_type": "stream",
          "name": "stderr",
          "text": [
            "     17/100      2.57G      2.524      2.611      1.887        222        640: 100%|██████████| 22/22 [00:57<00:00,  2.60s/it]\n",
            "                 Class     Images  Instances      Box(P          R      mAP50  mAP50-95): 100%|██████████| 4/4 [00:01<00:00,  2.21it/s]"
          ]
        },
        {
          "output_type": "stream",
          "name": "stdout",
          "text": [
            "                   all        105       1125      0.111     0.0924     0.0495     0.0156\n"
          ]
        },
        {
          "output_type": "stream",
          "name": "stderr",
          "text": [
            "\n"
          ]
        },
        {
          "output_type": "stream",
          "name": "stdout",
          "text": [
            "\n",
            "      Epoch    GPU_mem   box_loss   cls_loss   dfl_loss  Instances       Size\n"
          ]
        },
        {
          "output_type": "stream",
          "name": "stderr",
          "text": [
            "     18/100      2.34G      2.467      2.618      1.842        132        640: 100%|██████████| 22/22 [00:53<00:00,  2.43s/it]\n",
            "                 Class     Images  Instances      Box(P          R      mAP50  mAP50-95): 100%|██████████| 4/4 [00:01<00:00,  2.19it/s]"
          ]
        },
        {
          "output_type": "stream",
          "name": "stdout",
          "text": [
            "                   all        105       1125      0.108      0.124     0.0421     0.0137\n"
          ]
        },
        {
          "output_type": "stream",
          "name": "stderr",
          "text": [
            "\n"
          ]
        },
        {
          "output_type": "stream",
          "name": "stdout",
          "text": [
            "\n",
            "      Epoch    GPU_mem   box_loss   cls_loss   dfl_loss  Instances       Size\n"
          ]
        },
        {
          "output_type": "stream",
          "name": "stderr",
          "text": [
            "     19/100      2.42G      2.455      2.566      1.845        172        640: 100%|██████████| 22/22 [00:50<00:00,  2.31s/it]\n",
            "                 Class     Images  Instances      Box(P          R      mAP50  mAP50-95): 100%|██████████| 4/4 [00:02<00:00,  1.73it/s]"
          ]
        },
        {
          "output_type": "stream",
          "name": "stdout",
          "text": [
            "                   all        105       1125     0.0473     0.0827     0.0186    0.00589\n"
          ]
        },
        {
          "output_type": "stream",
          "name": "stderr",
          "text": [
            "\n"
          ]
        },
        {
          "output_type": "stream",
          "name": "stdout",
          "text": [
            "\n",
            "      Epoch    GPU_mem   box_loss   cls_loss   dfl_loss  Instances       Size\n"
          ]
        },
        {
          "output_type": "stream",
          "name": "stderr",
          "text": [
            "     20/100      2.65G      2.461      2.575      1.872        159        640: 100%|██████████| 22/22 [00:50<00:00,  2.31s/it]\n",
            "                 Class     Images  Instances      Box(P          R      mAP50  mAP50-95): 100%|██████████| 4/4 [00:02<00:00,  1.34it/s]"
          ]
        },
        {
          "output_type": "stream",
          "name": "stdout",
          "text": [
            "                   all        105       1125      0.129     0.0862     0.0434     0.0151\n"
          ]
        },
        {
          "output_type": "stream",
          "name": "stderr",
          "text": [
            "\n"
          ]
        },
        {
          "output_type": "stream",
          "name": "stdout",
          "text": [
            "\n",
            "      Epoch    GPU_mem   box_loss   cls_loss   dfl_loss  Instances       Size\n"
          ]
        },
        {
          "output_type": "stream",
          "name": "stderr",
          "text": [
            "     21/100      2.63G      2.435      2.542      1.839        229        640: 100%|██████████| 22/22 [00:51<00:00,  2.33s/it]\n",
            "                 Class     Images  Instances      Box(P          R      mAP50  mAP50-95): 100%|██████████| 4/4 [00:01<00:00,  2.39it/s]"
          ]
        },
        {
          "output_type": "stream",
          "name": "stdout",
          "text": [
            "                   all        105       1125      0.188      0.108      0.066     0.0216\n"
          ]
        },
        {
          "output_type": "stream",
          "name": "stderr",
          "text": [
            "\n"
          ]
        },
        {
          "output_type": "stream",
          "name": "stdout",
          "text": [
            "\n",
            "      Epoch    GPU_mem   box_loss   cls_loss   dfl_loss  Instances       Size\n"
          ]
        },
        {
          "output_type": "stream",
          "name": "stderr",
          "text": [
            "     22/100      2.33G      2.472      2.556      1.846        133        640: 100%|██████████| 22/22 [00:50<00:00,  2.30s/it]\n",
            "                 Class     Images  Instances      Box(P          R      mAP50  mAP50-95): 100%|██████████| 4/4 [00:01<00:00,  2.38it/s]"
          ]
        },
        {
          "output_type": "stream",
          "name": "stdout",
          "text": [
            "                   all        105       1125      0.102      0.157     0.0498     0.0158\n"
          ]
        },
        {
          "output_type": "stream",
          "name": "stderr",
          "text": [
            "\n"
          ]
        },
        {
          "output_type": "stream",
          "name": "stdout",
          "text": [
            "\n",
            "      Epoch    GPU_mem   box_loss   cls_loss   dfl_loss  Instances       Size\n"
          ]
        },
        {
          "output_type": "stream",
          "name": "stderr",
          "text": [
            "     23/100      2.52G      2.433      2.544      1.827        225        640: 100%|██████████| 22/22 [00:50<00:00,  2.28s/it]\n",
            "                 Class     Images  Instances      Box(P          R      mAP50  mAP50-95): 100%|██████████| 4/4 [00:01<00:00,  2.08it/s]"
          ]
        },
        {
          "output_type": "stream",
          "name": "stdout",
          "text": [
            "                   all        105       1125     0.0915      0.134     0.0442     0.0156\n"
          ]
        },
        {
          "output_type": "stream",
          "name": "stderr",
          "text": [
            "\n"
          ]
        },
        {
          "output_type": "stream",
          "name": "stdout",
          "text": [
            "\n",
            "      Epoch    GPU_mem   box_loss   cls_loss   dfl_loss  Instances       Size\n"
          ]
        },
        {
          "output_type": "stream",
          "name": "stderr",
          "text": [
            "     24/100      2.46G       2.38      2.513      1.793        147        640: 100%|██████████| 22/22 [00:54<00:00,  2.46s/it]\n",
            "                 Class     Images  Instances      Box(P          R      mAP50  mAP50-95): 100%|██████████| 4/4 [00:01<00:00,  2.30it/s]"
          ]
        },
        {
          "output_type": "stream",
          "name": "stdout",
          "text": [
            "                   all        105       1125      0.128      0.124     0.0589     0.0208\n"
          ]
        },
        {
          "output_type": "stream",
          "name": "stderr",
          "text": [
            "\n"
          ]
        },
        {
          "output_type": "stream",
          "name": "stdout",
          "text": [
            "\n",
            "      Epoch    GPU_mem   box_loss   cls_loss   dfl_loss  Instances       Size\n"
          ]
        },
        {
          "output_type": "stream",
          "name": "stderr",
          "text": [
            "     25/100      2.41G       2.37       2.48       1.79        206        640: 100%|██████████| 22/22 [00:56<00:00,  2.58s/it]\n",
            "                 Class     Images  Instances      Box(P          R      mAP50  mAP50-95): 100%|██████████| 4/4 [00:02<00:00,  1.52it/s]"
          ]
        },
        {
          "output_type": "stream",
          "name": "stdout",
          "text": [
            "                   all        105       1125      0.146      0.103     0.0582     0.0174\n"
          ]
        },
        {
          "output_type": "stream",
          "name": "stderr",
          "text": [
            "\n"
          ]
        },
        {
          "output_type": "stream",
          "name": "stdout",
          "text": [
            "\n",
            "      Epoch    GPU_mem   box_loss   cls_loss   dfl_loss  Instances       Size\n"
          ]
        },
        {
          "output_type": "stream",
          "name": "stderr",
          "text": [
            "     26/100      2.46G      2.377      2.466      1.797        248        640: 100%|██████████| 22/22 [00:53<00:00,  2.42s/it]\n",
            "                 Class     Images  Instances      Box(P          R      mAP50  mAP50-95): 100%|██████████| 4/4 [00:01<00:00,  2.28it/s]"
          ]
        },
        {
          "output_type": "stream",
          "name": "stdout",
          "text": [
            "                   all        105       1125      0.132     0.0818     0.0435     0.0147\n"
          ]
        },
        {
          "output_type": "stream",
          "name": "stderr",
          "text": [
            "\n"
          ]
        },
        {
          "output_type": "stream",
          "name": "stdout",
          "text": [
            "\n",
            "      Epoch    GPU_mem   box_loss   cls_loss   dfl_loss  Instances       Size\n"
          ]
        },
        {
          "output_type": "stream",
          "name": "stderr",
          "text": [
            "     27/100      2.51G      2.381      2.394      1.753        190        640: 100%|██████████| 22/22 [00:47<00:00,  2.18s/it]\n",
            "                 Class     Images  Instances      Box(P          R      mAP50  mAP50-95): 100%|██████████| 4/4 [00:01<00:00,  2.17it/s]"
          ]
        },
        {
          "output_type": "stream",
          "name": "stdout",
          "text": [
            "                   all        105       1125      0.163     0.0907     0.0529     0.0185\n"
          ]
        },
        {
          "output_type": "stream",
          "name": "stderr",
          "text": [
            "\n"
          ]
        },
        {
          "output_type": "stream",
          "name": "stdout",
          "text": [
            "\n",
            "      Epoch    GPU_mem   box_loss   cls_loss   dfl_loss  Instances       Size\n"
          ]
        },
        {
          "output_type": "stream",
          "name": "stderr",
          "text": [
            "     28/100      2.35G      2.324      2.445       1.77        180        640: 100%|██████████| 22/22 [00:47<00:00,  2.17s/it]\n",
            "                 Class     Images  Instances      Box(P          R      mAP50  mAP50-95): 100%|██████████| 4/4 [00:02<00:00,  1.87it/s]"
          ]
        },
        {
          "output_type": "stream",
          "name": "stdout",
          "text": [
            "                   all        105       1125      0.113     0.0907     0.0469     0.0149\n"
          ]
        },
        {
          "output_type": "stream",
          "name": "stderr",
          "text": [
            "\n"
          ]
        },
        {
          "output_type": "stream",
          "name": "stdout",
          "text": [
            "\n",
            "      Epoch    GPU_mem   box_loss   cls_loss   dfl_loss  Instances       Size\n"
          ]
        },
        {
          "output_type": "stream",
          "name": "stderr",
          "text": [
            "     29/100       2.5G      2.327      2.413      1.774        132        640: 100%|██████████| 22/22 [00:52<00:00,  2.38s/it]\n",
            "                 Class     Images  Instances      Box(P          R      mAP50  mAP50-95): 100%|██████████| 4/4 [00:01<00:00,  2.24it/s]"
          ]
        },
        {
          "output_type": "stream",
          "name": "stdout",
          "text": [
            "                   all        105       1125      0.193      0.106     0.0641     0.0211\n"
          ]
        },
        {
          "output_type": "stream",
          "name": "stderr",
          "text": [
            "\n"
          ]
        },
        {
          "output_type": "stream",
          "name": "stdout",
          "text": [
            "\n",
            "      Epoch    GPU_mem   box_loss   cls_loss   dfl_loss  Instances       Size\n"
          ]
        },
        {
          "output_type": "stream",
          "name": "stderr",
          "text": [
            "     30/100      2.86G      2.385      2.426      1.773        211        640: 100%|██████████| 22/22 [00:55<00:00,  2.54s/it]\n",
            "                 Class     Images  Instances      Box(P          R      mAP50  mAP50-95): 100%|██████████| 4/4 [00:03<00:00,  1.26it/s]"
          ]
        },
        {
          "output_type": "stream",
          "name": "stdout",
          "text": [
            "                   all        105       1125      0.194      0.139     0.0895     0.0334\n"
          ]
        },
        {
          "output_type": "stream",
          "name": "stderr",
          "text": [
            "\n"
          ]
        },
        {
          "output_type": "stream",
          "name": "stdout",
          "text": [
            "\n",
            "      Epoch    GPU_mem   box_loss   cls_loss   dfl_loss  Instances       Size\n"
          ]
        },
        {
          "output_type": "stream",
          "name": "stderr",
          "text": [
            "     31/100      2.62G      2.317      2.432      1.768        161        640: 100%|██████████| 22/22 [00:55<00:00,  2.53s/it]\n",
            "                 Class     Images  Instances      Box(P          R      mAP50  mAP50-95): 100%|██████████| 4/4 [00:01<00:00,  2.39it/s]\n"
          ]
        },
        {
          "output_type": "stream",
          "name": "stdout",
          "text": [
            "                   all        105       1125      0.176      0.116     0.0758     0.0238\n",
            "\n",
            "      Epoch    GPU_mem   box_loss   cls_loss   dfl_loss  Instances       Size\n"
          ]
        },
        {
          "output_type": "stream",
          "name": "stderr",
          "text": [
            "     32/100      2.41G      2.302      2.385      1.744        150        640: 100%|██████████| 22/22 [00:56<00:00,  2.55s/it]\n",
            "                 Class     Images  Instances      Box(P          R      mAP50  mAP50-95): 100%|██████████| 4/4 [00:03<00:00,  1.31it/s]"
          ]
        },
        {
          "output_type": "stream",
          "name": "stdout",
          "text": [
            "                   all        105       1125      0.124      0.116      0.046     0.0167\n"
          ]
        },
        {
          "output_type": "stream",
          "name": "stderr",
          "text": [
            "\n"
          ]
        },
        {
          "output_type": "stream",
          "name": "stdout",
          "text": [
            "\n",
            "      Epoch    GPU_mem   box_loss   cls_loss   dfl_loss  Instances       Size\n"
          ]
        },
        {
          "output_type": "stream",
          "name": "stderr",
          "text": [
            "     33/100      2.46G      2.303      2.355      1.736        182        640: 100%|██████████| 22/22 [00:54<00:00,  2.50s/it]\n",
            "                 Class     Images  Instances      Box(P          R      mAP50  mAP50-95): 100%|██████████| 4/4 [00:01<00:00,  2.60it/s]"
          ]
        },
        {
          "output_type": "stream",
          "name": "stdout",
          "text": [
            "                   all        105       1125      0.184      0.112     0.0646     0.0218\n"
          ]
        },
        {
          "output_type": "stream",
          "name": "stderr",
          "text": [
            "\n"
          ]
        },
        {
          "output_type": "stream",
          "name": "stdout",
          "text": [
            "\n",
            "      Epoch    GPU_mem   box_loss   cls_loss   dfl_loss  Instances       Size\n"
          ]
        },
        {
          "output_type": "stream",
          "name": "stderr",
          "text": [
            "     34/100      2.55G      2.256      2.397      1.724        148        640: 100%|██████████| 22/22 [00:55<00:00,  2.53s/it]\n",
            "                 Class     Images  Instances      Box(P          R      mAP50  mAP50-95): 100%|██████████| 4/4 [00:02<00:00,  1.46it/s]"
          ]
        },
        {
          "output_type": "stream",
          "name": "stdout",
          "text": [
            "                   all        105       1125      0.179       0.14     0.0793     0.0265\n"
          ]
        },
        {
          "output_type": "stream",
          "name": "stderr",
          "text": [
            "\n"
          ]
        },
        {
          "output_type": "stream",
          "name": "stdout",
          "text": [
            "\n",
            "      Epoch    GPU_mem   box_loss   cls_loss   dfl_loss  Instances       Size\n"
          ]
        },
        {
          "output_type": "stream",
          "name": "stderr",
          "text": [
            "     35/100       2.7G      2.283      2.386      1.757        174        640: 100%|██████████| 22/22 [00:53<00:00,  2.42s/it]\n",
            "                 Class     Images  Instances      Box(P          R      mAP50  mAP50-95): 100%|██████████| 4/4 [00:02<00:00,  1.94it/s]"
          ]
        },
        {
          "output_type": "stream",
          "name": "stdout",
          "text": [
            "                   all        105       1125      0.217      0.135     0.0803     0.0268\n"
          ]
        },
        {
          "output_type": "stream",
          "name": "stderr",
          "text": [
            "\n"
          ]
        },
        {
          "output_type": "stream",
          "name": "stdout",
          "text": [
            "\n",
            "      Epoch    GPU_mem   box_loss   cls_loss   dfl_loss  Instances       Size\n"
          ]
        },
        {
          "output_type": "stream",
          "name": "stderr",
          "text": [
            "     36/100       2.4G      2.232      2.343      1.752        219        640: 100%|██████████| 22/22 [00:55<00:00,  2.54s/it]\n",
            "                 Class     Images  Instances      Box(P          R      mAP50  mAP50-95): 100%|██████████| 4/4 [00:01<00:00,  2.42it/s]\n"
          ]
        },
        {
          "output_type": "stream",
          "name": "stdout",
          "text": [
            "                   all        105       1125      0.136      0.117     0.0591     0.0211\n",
            "\n",
            "      Epoch    GPU_mem   box_loss   cls_loss   dfl_loss  Instances       Size\n"
          ]
        },
        {
          "output_type": "stream",
          "name": "stderr",
          "text": [
            "     37/100      2.52G      2.253       2.32      1.713        182        640: 100%|██████████| 22/22 [00:54<00:00,  2.48s/it]\n",
            "                 Class     Images  Instances      Box(P          R      mAP50  mAP50-95): 100%|██████████| 4/4 [00:02<00:00,  1.38it/s]"
          ]
        },
        {
          "output_type": "stream",
          "name": "stdout",
          "text": [
            "                   all        105       1125      0.208      0.124     0.0845     0.0312\n"
          ]
        },
        {
          "output_type": "stream",
          "name": "stderr",
          "text": [
            "\n"
          ]
        },
        {
          "output_type": "stream",
          "name": "stdout",
          "text": [
            "\n",
            "      Epoch    GPU_mem   box_loss   cls_loss   dfl_loss  Instances       Size\n"
          ]
        },
        {
          "output_type": "stream",
          "name": "stderr",
          "text": [
            "     38/100       2.6G      2.226      2.299      1.708        190        640: 100%|██████████| 22/22 [00:53<00:00,  2.44s/it]\n",
            "                 Class     Images  Instances      Box(P          R      mAP50  mAP50-95): 100%|██████████| 4/4 [00:01<00:00,  2.48it/s]"
          ]
        },
        {
          "output_type": "stream",
          "name": "stdout",
          "text": [
            "                   all        105       1125       0.19      0.142     0.0867     0.0306\n"
          ]
        },
        {
          "output_type": "stream",
          "name": "stderr",
          "text": [
            "\n"
          ]
        },
        {
          "output_type": "stream",
          "name": "stdout",
          "text": [
            "\n",
            "      Epoch    GPU_mem   box_loss   cls_loss   dfl_loss  Instances       Size\n"
          ]
        },
        {
          "output_type": "stream",
          "name": "stderr",
          "text": [
            "     39/100      2.51G      2.179       2.26       1.69        190        640: 100%|██████████| 22/22 [00:55<00:00,  2.51s/it]\n",
            "                 Class     Images  Instances      Box(P          R      mAP50  mAP50-95): 100%|██████████| 4/4 [00:01<00:00,  2.05it/s]"
          ]
        },
        {
          "output_type": "stream",
          "name": "stdout",
          "text": [
            "                   all        105       1125      0.198      0.164      0.101     0.0367\n"
          ]
        },
        {
          "output_type": "stream",
          "name": "stderr",
          "text": [
            "\n"
          ]
        },
        {
          "output_type": "stream",
          "name": "stdout",
          "text": [
            "\n",
            "      Epoch    GPU_mem   box_loss   cls_loss   dfl_loss  Instances       Size\n"
          ]
        },
        {
          "output_type": "stream",
          "name": "stderr",
          "text": [
            "     40/100       2.5G      2.205      2.276      1.707        163        640: 100%|██████████| 22/22 [00:54<00:00,  2.48s/it]\n",
            "                 Class     Images  Instances      Box(P          R      mAP50  mAP50-95): 100%|██████████| 4/4 [00:03<00:00,  1.33it/s]"
          ]
        },
        {
          "output_type": "stream",
          "name": "stdout",
          "text": [
            "                   all        105       1125       0.22      0.148      0.107      0.041\n"
          ]
        },
        {
          "output_type": "stream",
          "name": "stderr",
          "text": [
            "\n"
          ]
        },
        {
          "output_type": "stream",
          "name": "stdout",
          "text": [
            "\n",
            "      Epoch    GPU_mem   box_loss   cls_loss   dfl_loss  Instances       Size\n"
          ]
        },
        {
          "output_type": "stream",
          "name": "stderr",
          "text": [
            "     41/100      2.68G      2.186      2.239      1.687        253        640: 100%|██████████| 22/22 [00:58<00:00,  2.64s/it]\n",
            "                 Class     Images  Instances      Box(P          R      mAP50  mAP50-95): 100%|██████████| 4/4 [00:01<00:00,  2.24it/s]"
          ]
        },
        {
          "output_type": "stream",
          "name": "stdout",
          "text": [
            "                   all        105       1125      0.228      0.149     0.0869     0.0309\n"
          ]
        },
        {
          "output_type": "stream",
          "name": "stderr",
          "text": [
            "\n"
          ]
        },
        {
          "output_type": "stream",
          "name": "stdout",
          "text": [
            "\n",
            "      Epoch    GPU_mem   box_loss   cls_loss   dfl_loss  Instances       Size\n"
          ]
        },
        {
          "output_type": "stream",
          "name": "stderr",
          "text": [
            "     42/100      2.66G       2.16      2.215      1.696        161        640: 100%|██████████| 22/22 [00:59<00:00,  2.72s/it]\n",
            "                 Class     Images  Instances      Box(P          R      mAP50  mAP50-95): 100%|██████████| 4/4 [00:02<00:00,  1.94it/s]"
          ]
        },
        {
          "output_type": "stream",
          "name": "stdout",
          "text": [
            "                   all        105       1125      0.242      0.157      0.109      0.041\n"
          ]
        },
        {
          "output_type": "stream",
          "name": "stderr",
          "text": [
            "\n"
          ]
        },
        {
          "output_type": "stream",
          "name": "stdout",
          "text": [
            "\n",
            "      Epoch    GPU_mem   box_loss   cls_loss   dfl_loss  Instances       Size\n"
          ]
        },
        {
          "output_type": "stream",
          "name": "stderr",
          "text": [
            "     43/100      2.31G      2.141      2.228      1.673        107        640: 100%|██████████| 22/22 [00:56<00:00,  2.55s/it]\n",
            "                 Class     Images  Instances      Box(P          R      mAP50  mAP50-95): 100%|██████████| 4/4 [00:01<00:00,  2.19it/s]"
          ]
        },
        {
          "output_type": "stream",
          "name": "stdout",
          "text": [
            "                   all        105       1125      0.273      0.164      0.117     0.0428\n"
          ]
        },
        {
          "output_type": "stream",
          "name": "stderr",
          "text": [
            "\n"
          ]
        },
        {
          "output_type": "stream",
          "name": "stdout",
          "text": [
            "\n",
            "      Epoch    GPU_mem   box_loss   cls_loss   dfl_loss  Instances       Size\n"
          ]
        },
        {
          "output_type": "stream",
          "name": "stderr",
          "text": [
            "     44/100      2.52G      2.133      2.213      1.673        219        640: 100%|██████████| 22/22 [00:57<00:00,  2.63s/it]\n",
            "                 Class     Images  Instances      Box(P          R      mAP50  mAP50-95): 100%|██████████| 4/4 [00:02<00:00,  1.64it/s]"
          ]
        },
        {
          "output_type": "stream",
          "name": "stdout",
          "text": [
            "                   all        105       1125      0.229      0.169      0.107     0.0371\n"
          ]
        },
        {
          "output_type": "stream",
          "name": "stderr",
          "text": [
            "\n"
          ]
        },
        {
          "output_type": "stream",
          "name": "stdout",
          "text": [
            "\n",
            "      Epoch    GPU_mem   box_loss   cls_loss   dfl_loss  Instances       Size\n"
          ]
        },
        {
          "output_type": "stream",
          "name": "stderr",
          "text": [
            "     45/100      2.54G      2.152      2.182      1.665        177        640: 100%|██████████| 22/22 [00:57<00:00,  2.59s/it]\n",
            "                 Class     Images  Instances      Box(P          R      mAP50  mAP50-95): 100%|██████████| 4/4 [00:01<00:00,  2.09it/s]"
          ]
        },
        {
          "output_type": "stream",
          "name": "stdout",
          "text": [
            "                   all        105       1125      0.173      0.139     0.0697       0.02\n"
          ]
        },
        {
          "output_type": "stream",
          "name": "stderr",
          "text": [
            "\n"
          ]
        },
        {
          "output_type": "stream",
          "name": "stdout",
          "text": [
            "\n",
            "      Epoch    GPU_mem   box_loss   cls_loss   dfl_loss  Instances       Size\n"
          ]
        },
        {
          "output_type": "stream",
          "name": "stderr",
          "text": [
            "     46/100      2.64G      2.124      2.155      1.659        200        640: 100%|██████████| 22/22 [00:52<00:00,  2.39s/it]\n",
            "                 Class     Images  Instances      Box(P          R      mAP50  mAP50-95): 100%|██████████| 4/4 [00:02<00:00,  1.54it/s]"
          ]
        },
        {
          "output_type": "stream",
          "name": "stdout",
          "text": [
            "                   all        105       1125      0.269      0.192      0.115     0.0424\n"
          ]
        },
        {
          "output_type": "stream",
          "name": "stderr",
          "text": [
            "\n"
          ]
        },
        {
          "output_type": "stream",
          "name": "stdout",
          "text": [
            "\n",
            "      Epoch    GPU_mem   box_loss   cls_loss   dfl_loss  Instances       Size\n"
          ]
        },
        {
          "output_type": "stream",
          "name": "stderr",
          "text": [
            "     47/100      2.58G      2.126      2.178      1.667        178        640: 100%|██████████| 22/22 [00:54<00:00,  2.46s/it]\n",
            "                 Class     Images  Instances      Box(P          R      mAP50  mAP50-95): 100%|██████████| 4/4 [00:01<00:00,  2.10it/s]"
          ]
        },
        {
          "output_type": "stream",
          "name": "stdout",
          "text": [
            "                   all        105       1125      0.253      0.196      0.121     0.0438\n"
          ]
        },
        {
          "output_type": "stream",
          "name": "stderr",
          "text": [
            "\n"
          ]
        },
        {
          "output_type": "stream",
          "name": "stdout",
          "text": [
            "\n",
            "      Epoch    GPU_mem   box_loss   cls_loss   dfl_loss  Instances       Size\n"
          ]
        },
        {
          "output_type": "stream",
          "name": "stderr",
          "text": [
            "     48/100      2.56G      2.093       2.11      1.648        239        640: 100%|██████████| 22/22 [00:56<00:00,  2.55s/it]\n",
            "                 Class     Images  Instances      Box(P          R      mAP50  mAP50-95): 100%|██████████| 4/4 [00:01<00:00,  2.42it/s]"
          ]
        },
        {
          "output_type": "stream",
          "name": "stdout",
          "text": [
            "                   all        105       1125      0.266      0.116     0.0874     0.0319\n"
          ]
        },
        {
          "output_type": "stream",
          "name": "stderr",
          "text": [
            "\n"
          ]
        },
        {
          "output_type": "stream",
          "name": "stdout",
          "text": [
            "\n",
            "      Epoch    GPU_mem   box_loss   cls_loss   dfl_loss  Instances       Size\n"
          ]
        },
        {
          "output_type": "stream",
          "name": "stderr",
          "text": [
            "     49/100      2.55G      2.095      2.139      1.611        231        640: 100%|██████████| 22/22 [00:49<00:00,  2.25s/it]\n",
            "                 Class     Images  Instances      Box(P          R      mAP50  mAP50-95): 100%|██████████| 4/4 [00:01<00:00,  2.05it/s]"
          ]
        },
        {
          "output_type": "stream",
          "name": "stdout",
          "text": [
            "                   all        105       1125      0.295      0.175      0.129     0.0464\n"
          ]
        },
        {
          "output_type": "stream",
          "name": "stderr",
          "text": [
            "\n"
          ]
        },
        {
          "output_type": "stream",
          "name": "stdout",
          "text": [
            "\n",
            "      Epoch    GPU_mem   box_loss   cls_loss   dfl_loss  Instances       Size\n"
          ]
        },
        {
          "output_type": "stream",
          "name": "stderr",
          "text": [
            "     50/100       2.4G        2.1      2.144      1.627        150        640: 100%|██████████| 22/22 [00:50<00:00,  2.28s/it]\n",
            "                 Class     Images  Instances      Box(P          R      mAP50  mAP50-95): 100%|██████████| 4/4 [00:02<00:00,  1.58it/s]"
          ]
        },
        {
          "output_type": "stream",
          "name": "stdout",
          "text": [
            "                   all        105       1125      0.317      0.176      0.134     0.0459\n"
          ]
        },
        {
          "output_type": "stream",
          "name": "stderr",
          "text": [
            "\n"
          ]
        },
        {
          "output_type": "stream",
          "name": "stdout",
          "text": [
            "\n",
            "      Epoch    GPU_mem   box_loss   cls_loss   dfl_loss  Instances       Size\n"
          ]
        },
        {
          "output_type": "stream",
          "name": "stderr",
          "text": [
            "     51/100      2.63G      2.102      2.118      1.653        240        640: 100%|██████████| 22/22 [00:52<00:00,  2.40s/it]\n",
            "                 Class     Images  Instances      Box(P          R      mAP50  mAP50-95): 100%|██████████| 4/4 [00:02<00:00,  1.62it/s]"
          ]
        },
        {
          "output_type": "stream",
          "name": "stdout",
          "text": [
            "                   all        105       1125      0.257      0.183      0.122     0.0424\n"
          ]
        },
        {
          "output_type": "stream",
          "name": "stderr",
          "text": [
            "\n"
          ]
        },
        {
          "output_type": "stream",
          "name": "stdout",
          "text": [
            "\n",
            "      Epoch    GPU_mem   box_loss   cls_loss   dfl_loss  Instances       Size\n"
          ]
        },
        {
          "output_type": "stream",
          "name": "stderr",
          "text": [
            "     52/100      2.52G      2.103      2.099      1.639        174        640: 100%|██████████| 22/22 [00:51<00:00,  2.34s/it]\n",
            "                 Class     Images  Instances      Box(P          R      mAP50  mAP50-95): 100%|██████████| 4/4 [00:01<00:00,  2.17it/s]"
          ]
        },
        {
          "output_type": "stream",
          "name": "stdout",
          "text": [
            "                   all        105       1125      0.273      0.198      0.138     0.0497\n"
          ]
        },
        {
          "output_type": "stream",
          "name": "stderr",
          "text": [
            "\n"
          ]
        },
        {
          "output_type": "stream",
          "name": "stdout",
          "text": [
            "\n",
            "      Epoch    GPU_mem   box_loss   cls_loss   dfl_loss  Instances       Size\n"
          ]
        },
        {
          "output_type": "stream",
          "name": "stderr",
          "text": [
            "     53/100      2.68G      2.085      2.083      1.618        125        640: 100%|██████████| 22/22 [00:52<00:00,  2.39s/it]\n",
            "                 Class     Images  Instances      Box(P          R      mAP50  mAP50-95): 100%|██████████| 4/4 [00:01<00:00,  2.23it/s]"
          ]
        },
        {
          "output_type": "stream",
          "name": "stdout",
          "text": [
            "                   all        105       1125      0.244      0.205      0.136     0.0522\n"
          ]
        },
        {
          "output_type": "stream",
          "name": "stderr",
          "text": [
            "\n"
          ]
        },
        {
          "output_type": "stream",
          "name": "stdout",
          "text": [
            "\n",
            "      Epoch    GPU_mem   box_loss   cls_loss   dfl_loss  Instances       Size\n"
          ]
        },
        {
          "output_type": "stream",
          "name": "stderr",
          "text": [
            "     54/100      2.51G      2.057      2.097      1.624        169        640: 100%|██████████| 22/22 [00:52<00:00,  2.37s/it]\n",
            "                 Class     Images  Instances      Box(P          R      mAP50  mAP50-95): 100%|██████████| 4/4 [00:02<00:00,  1.93it/s]"
          ]
        },
        {
          "output_type": "stream",
          "name": "stdout",
          "text": [
            "                   all        105       1125      0.249      0.188      0.129     0.0506\n"
          ]
        },
        {
          "output_type": "stream",
          "name": "stderr",
          "text": [
            "\n"
          ]
        },
        {
          "output_type": "stream",
          "name": "stdout",
          "text": [
            "\n",
            "      Epoch    GPU_mem   box_loss   cls_loss   dfl_loss  Instances       Size\n"
          ]
        },
        {
          "output_type": "stream",
          "name": "stderr",
          "text": [
            "     55/100      2.48G      2.074      2.083      1.628        148        640: 100%|██████████| 22/22 [00:54<00:00,  2.48s/it]\n",
            "                 Class     Images  Instances      Box(P          R      mAP50  mAP50-95): 100%|██████████| 4/4 [00:02<00:00,  1.77it/s]"
          ]
        },
        {
          "output_type": "stream",
          "name": "stdout",
          "text": [
            "                   all        105       1125      0.283        0.2      0.156     0.0571\n"
          ]
        },
        {
          "output_type": "stream",
          "name": "stderr",
          "text": [
            "\n"
          ]
        },
        {
          "output_type": "stream",
          "name": "stdout",
          "text": [
            "\n",
            "      Epoch    GPU_mem   box_loss   cls_loss   dfl_loss  Instances       Size\n"
          ]
        },
        {
          "output_type": "stream",
          "name": "stderr",
          "text": [
            "     56/100      2.67G      2.063       2.04      1.606        152        640: 100%|██████████| 22/22 [00:51<00:00,  2.34s/it]\n",
            "                 Class     Images  Instances      Box(P          R      mAP50  mAP50-95): 100%|██████████| 4/4 [00:01<00:00,  2.40it/s]"
          ]
        },
        {
          "output_type": "stream",
          "name": "stdout",
          "text": [
            "                   all        105       1125        0.3      0.217      0.161     0.0601\n"
          ]
        },
        {
          "output_type": "stream",
          "name": "stderr",
          "text": [
            "\n"
          ]
        },
        {
          "output_type": "stream",
          "name": "stdout",
          "text": [
            "\n",
            "      Epoch    GPU_mem   box_loss   cls_loss   dfl_loss  Instances       Size\n"
          ]
        },
        {
          "output_type": "stream",
          "name": "stderr",
          "text": [
            "     57/100      2.61G      2.021      2.007      1.576        254        640: 100%|██████████| 22/22 [00:52<00:00,  2.41s/it]\n",
            "                 Class     Images  Instances      Box(P          R      mAP50  mAP50-95): 100%|██████████| 4/4 [00:01<00:00,  2.44it/s]\n"
          ]
        },
        {
          "output_type": "stream",
          "name": "stdout",
          "text": [
            "                   all        105       1125        0.3      0.224      0.162      0.063\n",
            "\n",
            "      Epoch    GPU_mem   box_loss   cls_loss   dfl_loss  Instances       Size\n"
          ]
        },
        {
          "output_type": "stream",
          "name": "stderr",
          "text": [
            "     58/100      2.58G          2      1.978      1.572        182        640: 100%|██████████| 22/22 [00:53<00:00,  2.42s/it]\n",
            "                 Class     Images  Instances      Box(P          R      mAP50  mAP50-95): 100%|██████████| 4/4 [00:02<00:00,  1.55it/s]"
          ]
        },
        {
          "output_type": "stream",
          "name": "stdout",
          "text": [
            "                   all        105       1125       0.31      0.222      0.164     0.0656\n"
          ]
        },
        {
          "output_type": "stream",
          "name": "stderr",
          "text": [
            "\n"
          ]
        },
        {
          "output_type": "stream",
          "name": "stdout",
          "text": [
            "\n",
            "      Epoch    GPU_mem   box_loss   cls_loss   dfl_loss  Instances       Size\n"
          ]
        },
        {
          "output_type": "stream",
          "name": "stderr",
          "text": [
            "     59/100      2.63G      2.036      1.996      1.589        159        640: 100%|██████████| 22/22 [00:55<00:00,  2.51s/it]\n",
            "                 Class     Images  Instances      Box(P          R      mAP50  mAP50-95): 100%|██████████| 4/4 [00:01<00:00,  2.20it/s]"
          ]
        },
        {
          "output_type": "stream",
          "name": "stdout",
          "text": [
            "                   all        105       1125      0.303      0.215      0.144     0.0538\n"
          ]
        },
        {
          "output_type": "stream",
          "name": "stderr",
          "text": [
            "\n"
          ]
        },
        {
          "output_type": "stream",
          "name": "stdout",
          "text": [
            "\n",
            "      Epoch    GPU_mem   box_loss   cls_loss   dfl_loss  Instances       Size\n"
          ]
        },
        {
          "output_type": "stream",
          "name": "stderr",
          "text": [
            "     60/100      2.45G      1.965      1.966       1.56        136        640: 100%|██████████| 22/22 [00:51<00:00,  2.34s/it]\n",
            "                 Class     Images  Instances      Box(P          R      mAP50  mAP50-95): 100%|██████████| 4/4 [00:01<00:00,  2.58it/s]"
          ]
        },
        {
          "output_type": "stream",
          "name": "stdout",
          "text": [
            "                   all        105       1125      0.303      0.176      0.134     0.0547\n"
          ]
        },
        {
          "output_type": "stream",
          "name": "stderr",
          "text": [
            "\n"
          ]
        },
        {
          "output_type": "stream",
          "name": "stdout",
          "text": [
            "\n",
            "      Epoch    GPU_mem   box_loss   cls_loss   dfl_loss  Instances       Size\n"
          ]
        },
        {
          "output_type": "stream",
          "name": "stderr",
          "text": [
            "     61/100      2.67G      2.031      1.977      1.571        301        640: 100%|██████████| 22/22 [00:54<00:00,  2.47s/it]\n",
            "                 Class     Images  Instances      Box(P          R      mAP50  mAP50-95): 100%|██████████| 4/4 [00:02<00:00,  1.55it/s]"
          ]
        },
        {
          "output_type": "stream",
          "name": "stdout",
          "text": [
            "                   all        105       1125      0.245      0.209      0.119     0.0438\n"
          ]
        },
        {
          "output_type": "stream",
          "name": "stderr",
          "text": [
            "\n"
          ]
        },
        {
          "output_type": "stream",
          "name": "stdout",
          "text": [
            "\n",
            "      Epoch    GPU_mem   box_loss   cls_loss   dfl_loss  Instances       Size\n"
          ]
        },
        {
          "output_type": "stream",
          "name": "stderr",
          "text": [
            "     62/100      2.43G      2.007      1.965      1.569        219        640: 100%|██████████| 22/22 [00:52<00:00,  2.38s/it]\n",
            "                 Class     Images  Instances      Box(P          R      mAP50  mAP50-95): 100%|██████████| 4/4 [00:01<00:00,  2.23it/s]"
          ]
        },
        {
          "output_type": "stream",
          "name": "stdout",
          "text": [
            "                   all        105       1125      0.346      0.198       0.15     0.0546\n"
          ]
        },
        {
          "output_type": "stream",
          "name": "stderr",
          "text": [
            "\n"
          ]
        },
        {
          "output_type": "stream",
          "name": "stdout",
          "text": [
            "\n",
            "      Epoch    GPU_mem   box_loss   cls_loss   dfl_loss  Instances       Size\n"
          ]
        },
        {
          "output_type": "stream",
          "name": "stderr",
          "text": [
            "     63/100      2.32G      1.978      1.919      1.554        170        640: 100%|██████████| 22/22 [00:55<00:00,  2.54s/it]\n",
            "                 Class     Images  Instances      Box(P          R      mAP50  mAP50-95): 100%|██████████| 4/4 [00:01<00:00,  2.48it/s]\n"
          ]
        },
        {
          "output_type": "stream",
          "name": "stdout",
          "text": [
            "                   all        105       1125      0.315      0.186      0.144      0.053\n",
            "\n",
            "      Epoch    GPU_mem   box_loss   cls_loss   dfl_loss  Instances       Size\n"
          ]
        },
        {
          "output_type": "stream",
          "name": "stderr",
          "text": [
            "     64/100      2.64G      1.987      1.937      1.549        150        640: 100%|██████████| 22/22 [00:55<00:00,  2.53s/it]\n",
            "                 Class     Images  Instances      Box(P          R      mAP50  mAP50-95): 100%|██████████| 4/4 [00:02<00:00,  1.63it/s]"
          ]
        },
        {
          "output_type": "stream",
          "name": "stdout",
          "text": [
            "                   all        105       1125       0.29      0.164      0.122     0.0414\n"
          ]
        },
        {
          "output_type": "stream",
          "name": "stderr",
          "text": [
            "\n"
          ]
        },
        {
          "output_type": "stream",
          "name": "stdout",
          "text": [
            "\n",
            "      Epoch    GPU_mem   box_loss   cls_loss   dfl_loss  Instances       Size\n"
          ]
        },
        {
          "output_type": "stream",
          "name": "stderr",
          "text": [
            "     65/100       2.5G      1.976      1.931       1.53        155        640: 100%|██████████| 22/22 [00:53<00:00,  2.42s/it]\n",
            "                 Class     Images  Instances      Box(P          R      mAP50  mAP50-95): 100%|██████████| 4/4 [00:02<00:00,  1.93it/s]"
          ]
        },
        {
          "output_type": "stream",
          "name": "stdout",
          "text": [
            "                   all        105       1125      0.288      0.196      0.148     0.0549\n"
          ]
        },
        {
          "output_type": "stream",
          "name": "stderr",
          "text": [
            "\n"
          ]
        },
        {
          "output_type": "stream",
          "name": "stdout",
          "text": [
            "\n",
            "      Epoch    GPU_mem   box_loss   cls_loss   dfl_loss  Instances       Size\n"
          ]
        },
        {
          "output_type": "stream",
          "name": "stderr",
          "text": [
            "     66/100      2.41G      1.944       1.89      1.554        207        640: 100%|██████████| 22/22 [00:53<00:00,  2.45s/it]\n",
            "                 Class     Images  Instances      Box(P          R      mAP50  mAP50-95): 100%|██████████| 4/4 [00:01<00:00,  2.25it/s]"
          ]
        },
        {
          "output_type": "stream",
          "name": "stdout",
          "text": [
            "                   all        105       1125      0.224      0.208      0.112     0.0404\n"
          ]
        },
        {
          "output_type": "stream",
          "name": "stderr",
          "text": [
            "\n"
          ]
        },
        {
          "output_type": "stream",
          "name": "stdout",
          "text": [
            "\n",
            "      Epoch    GPU_mem   box_loss   cls_loss   dfl_loss  Instances       Size\n"
          ]
        },
        {
          "output_type": "stream",
          "name": "stderr",
          "text": [
            "     67/100       2.4G      1.994      1.927      1.551        186        640: 100%|██████████| 22/22 [00:50<00:00,  2.28s/it]\n",
            "                 Class     Images  Instances      Box(P          R      mAP50  mAP50-95): 100%|██████████| 4/4 [00:01<00:00,  2.69it/s]"
          ]
        },
        {
          "output_type": "stream",
          "name": "stdout",
          "text": [
            "                   all        105       1125      0.303      0.212      0.145     0.0528\n"
          ]
        },
        {
          "output_type": "stream",
          "name": "stderr",
          "text": [
            "\n"
          ]
        },
        {
          "output_type": "stream",
          "name": "stdout",
          "text": [
            "\n",
            "      Epoch    GPU_mem   box_loss   cls_loss   dfl_loss  Instances       Size\n"
          ]
        },
        {
          "output_type": "stream",
          "name": "stderr",
          "text": [
            "     68/100      2.62G      1.955      1.887      1.534        162        640: 100%|██████████| 22/22 [00:53<00:00,  2.45s/it]\n",
            "                 Class     Images  Instances      Box(P          R      mAP50  mAP50-95): 100%|██████████| 4/4 [00:01<00:00,  2.12it/s]"
          ]
        },
        {
          "output_type": "stream",
          "name": "stdout",
          "text": [
            "                   all        105       1125      0.353      0.227       0.18     0.0649\n"
          ]
        },
        {
          "output_type": "stream",
          "name": "stderr",
          "text": [
            "\n"
          ]
        },
        {
          "output_type": "stream",
          "name": "stdout",
          "text": [
            "\n",
            "      Epoch    GPU_mem   box_loss   cls_loss   dfl_loss  Instances       Size\n"
          ]
        },
        {
          "output_type": "stream",
          "name": "stderr",
          "text": [
            "     69/100      2.43G          2      1.915      1.542        237        640: 100%|██████████| 22/22 [00:50<00:00,  2.31s/it]\n",
            "                 Class     Images  Instances      Box(P          R      mAP50  mAP50-95): 100%|██████████| 4/4 [00:02<00:00,  1.50it/s]"
          ]
        },
        {
          "output_type": "stream",
          "name": "stdout",
          "text": [
            "                   all        105       1125      0.241      0.198      0.118     0.0422\n"
          ]
        },
        {
          "output_type": "stream",
          "name": "stderr",
          "text": [
            "\n"
          ]
        },
        {
          "output_type": "stream",
          "name": "stdout",
          "text": [
            "\n",
            "      Epoch    GPU_mem   box_loss   cls_loss   dfl_loss  Instances       Size\n"
          ]
        },
        {
          "output_type": "stream",
          "name": "stderr",
          "text": [
            "     70/100      2.46G      1.949      1.885      1.541        150        640: 100%|██████████| 22/22 [00:53<00:00,  2.43s/it]\n",
            "                 Class     Images  Instances      Box(P          R      mAP50  mAP50-95): 100%|██████████| 4/4 [00:01<00:00,  2.01it/s]"
          ]
        },
        {
          "output_type": "stream",
          "name": "stdout",
          "text": [
            "                   all        105       1125       0.29      0.196      0.145     0.0532\n"
          ]
        },
        {
          "output_type": "stream",
          "name": "stderr",
          "text": [
            "\n"
          ]
        },
        {
          "output_type": "stream",
          "name": "stdout",
          "text": [
            "\n",
            "      Epoch    GPU_mem   box_loss   cls_loss   dfl_loss  Instances       Size\n"
          ]
        },
        {
          "output_type": "stream",
          "name": "stderr",
          "text": [
            "     71/100      2.35G      1.956      1.854      1.535        123        640: 100%|██████████| 22/22 [00:56<00:00,  2.55s/it]\n",
            "                 Class     Images  Instances      Box(P          R      mAP50  mAP50-95): 100%|██████████| 4/4 [00:01<00:00,  2.53it/s]"
          ]
        },
        {
          "output_type": "stream",
          "name": "stdout",
          "text": [
            "                   all        105       1125      0.277       0.19      0.132     0.0483\n"
          ]
        },
        {
          "output_type": "stream",
          "name": "stderr",
          "text": [
            "\n"
          ]
        },
        {
          "output_type": "stream",
          "name": "stdout",
          "text": [
            "\n",
            "      Epoch    GPU_mem   box_loss   cls_loss   dfl_loss  Instances       Size\n"
          ]
        },
        {
          "output_type": "stream",
          "name": "stderr",
          "text": [
            "     72/100      2.42G      1.921      1.875      1.545        210        640: 100%|██████████| 22/22 [00:59<00:00,  2.72s/it]\n",
            "                 Class     Images  Instances      Box(P          R      mAP50  mAP50-95): 100%|██████████| 4/4 [00:01<00:00,  2.15it/s]"
          ]
        },
        {
          "output_type": "stream",
          "name": "stdout",
          "text": [
            "                   all        105       1125      0.264       0.22       0.13     0.0496\n"
          ]
        },
        {
          "output_type": "stream",
          "name": "stderr",
          "text": [
            "\n"
          ]
        },
        {
          "output_type": "stream",
          "name": "stdout",
          "text": [
            "\n",
            "      Epoch    GPU_mem   box_loss   cls_loss   dfl_loss  Instances       Size\n"
          ]
        },
        {
          "output_type": "stream",
          "name": "stderr",
          "text": [
            "     73/100      2.63G      1.902       1.83      1.513        233        640: 100%|██████████| 22/22 [00:51<00:00,  2.34s/it]\n",
            "                 Class     Images  Instances      Box(P          R      mAP50  mAP50-95): 100%|██████████| 4/4 [00:01<00:00,  2.19it/s]"
          ]
        },
        {
          "output_type": "stream",
          "name": "stdout",
          "text": [
            "                   all        105       1125      0.297      0.221       0.16     0.0626\n"
          ]
        },
        {
          "output_type": "stream",
          "name": "stderr",
          "text": [
            "\n"
          ]
        },
        {
          "output_type": "stream",
          "name": "stdout",
          "text": [
            "\n",
            "      Epoch    GPU_mem   box_loss   cls_loss   dfl_loss  Instances       Size\n"
          ]
        },
        {
          "output_type": "stream",
          "name": "stderr",
          "text": [
            "     74/100      2.54G      1.912      1.844      1.513        151        640: 100%|██████████| 22/22 [00:54<00:00,  2.49s/it]\n",
            "                 Class     Images  Instances      Box(P          R      mAP50  mAP50-95): 100%|██████████| 4/4 [00:01<00:00,  2.32it/s]"
          ]
        },
        {
          "output_type": "stream",
          "name": "stdout",
          "text": [
            "                   all        105       1125      0.274      0.173      0.121     0.0483\n"
          ]
        },
        {
          "output_type": "stream",
          "name": "stderr",
          "text": [
            "\n"
          ]
        },
        {
          "output_type": "stream",
          "name": "stdout",
          "text": [
            "\n",
            "      Epoch    GPU_mem   box_loss   cls_loss   dfl_loss  Instances       Size\n"
          ]
        },
        {
          "output_type": "stream",
          "name": "stderr",
          "text": [
            "     75/100      2.42G      1.892      1.807      1.503        246        640: 100%|██████████| 22/22 [00:59<00:00,  2.68s/it]\n",
            "                 Class     Images  Instances      Box(P          R      mAP50  mAP50-95): 100%|██████████| 4/4 [00:02<00:00,  1.44it/s]"
          ]
        },
        {
          "output_type": "stream",
          "name": "stdout",
          "text": [
            "                   all        105       1125      0.311      0.185      0.138     0.0513\n"
          ]
        },
        {
          "output_type": "stream",
          "name": "stderr",
          "text": [
            "\n"
          ]
        },
        {
          "output_type": "stream",
          "name": "stdout",
          "text": [
            "\n",
            "      Epoch    GPU_mem   box_loss   cls_loss   dfl_loss  Instances       Size\n"
          ]
        },
        {
          "output_type": "stream",
          "name": "stderr",
          "text": [
            "     76/100      2.53G      1.868      1.776      1.497        134        640: 100%|██████████| 22/22 [00:50<00:00,  2.29s/it]\n",
            "                 Class     Images  Instances      Box(P          R      mAP50  mAP50-95): 100%|██████████| 4/4 [00:01<00:00,  2.01it/s]"
          ]
        },
        {
          "output_type": "stream",
          "name": "stdout",
          "text": [
            "                   all        105       1125      0.287      0.203      0.151     0.0607\n"
          ]
        },
        {
          "output_type": "stream",
          "name": "stderr",
          "text": [
            "\n"
          ]
        },
        {
          "output_type": "stream",
          "name": "stdout",
          "text": [
            "\n",
            "      Epoch    GPU_mem   box_loss   cls_loss   dfl_loss  Instances       Size\n"
          ]
        },
        {
          "output_type": "stream",
          "name": "stderr",
          "text": [
            "     77/100      2.48G      1.916      1.837      1.524        212        640: 100%|██████████| 22/22 [00:51<00:00,  2.33s/it]\n",
            "                 Class     Images  Instances      Box(P          R      mAP50  mAP50-95): 100%|██████████| 4/4 [00:01<00:00,  2.55it/s]"
          ]
        },
        {
          "output_type": "stream",
          "name": "stdout",
          "text": [
            "                   all        105       1125      0.283      0.215      0.152     0.0548\n"
          ]
        },
        {
          "output_type": "stream",
          "name": "stderr",
          "text": [
            "\n"
          ]
        },
        {
          "output_type": "stream",
          "name": "stdout",
          "text": [
            "\n",
            "      Epoch    GPU_mem   box_loss   cls_loss   dfl_loss  Instances       Size\n"
          ]
        },
        {
          "output_type": "stream",
          "name": "stderr",
          "text": [
            "     78/100      2.62G      1.911      1.805      1.531        150        640: 100%|██████████| 22/22 [00:51<00:00,  2.34s/it]\n",
            "                 Class     Images  Instances      Box(P          R      mAP50  mAP50-95): 100%|██████████| 4/4 [00:01<00:00,  2.50it/s]"
          ]
        },
        {
          "output_type": "stream",
          "name": "stdout",
          "text": [
            "                   all        105       1125      0.313      0.205      0.162     0.0614\n"
          ]
        },
        {
          "output_type": "stream",
          "name": "stderr",
          "text": [
            "\n"
          ]
        },
        {
          "output_type": "stream",
          "name": "stdout",
          "text": [
            "\n",
            "      Epoch    GPU_mem   box_loss   cls_loss   dfl_loss  Instances       Size\n"
          ]
        },
        {
          "output_type": "stream",
          "name": "stderr",
          "text": [
            "     79/100      2.58G      1.887      1.761      1.497        244        640: 100%|██████████| 22/22 [00:51<00:00,  2.36s/it]\n",
            "                 Class     Images  Instances      Box(P          R      mAP50  mAP50-95): 100%|██████████| 4/4 [00:01<00:00,  2.32it/s]"
          ]
        },
        {
          "output_type": "stream",
          "name": "stdout",
          "text": [
            "                   all        105       1125      0.282      0.198      0.143     0.0525\n"
          ]
        },
        {
          "output_type": "stream",
          "name": "stderr",
          "text": [
            "\n"
          ]
        },
        {
          "output_type": "stream",
          "name": "stdout",
          "text": [
            "\n",
            "      Epoch    GPU_mem   box_loss   cls_loss   dfl_loss  Instances       Size\n"
          ]
        },
        {
          "output_type": "stream",
          "name": "stderr",
          "text": [
            "     80/100      2.36G      1.889      1.761      1.505        167        640: 100%|██████████| 22/22 [00:52<00:00,  2.39s/it]\n",
            "                 Class     Images  Instances      Box(P          R      mAP50  mAP50-95): 100%|██████████| 4/4 [00:02<00:00,  1.89it/s]"
          ]
        },
        {
          "output_type": "stream",
          "name": "stdout",
          "text": [
            "                   all        105       1125       0.27      0.206      0.139     0.0527\n"
          ]
        },
        {
          "output_type": "stream",
          "name": "stderr",
          "text": [
            "\n"
          ]
        },
        {
          "output_type": "stream",
          "name": "stdout",
          "text": [
            "\n",
            "      Epoch    GPU_mem   box_loss   cls_loss   dfl_loss  Instances       Size\n"
          ]
        },
        {
          "output_type": "stream",
          "name": "stderr",
          "text": [
            "     81/100      2.48G      1.893       1.75      1.507        180        640: 100%|██████████| 22/22 [00:54<00:00,  2.46s/it]\n",
            "                 Class     Images  Instances      Box(P          R      mAP50  mAP50-95): 100%|██████████| 4/4 [00:02<00:00,  1.50it/s]\n"
          ]
        },
        {
          "output_type": "stream",
          "name": "stdout",
          "text": [
            "                   all        105       1125      0.289      0.204       0.14     0.0521\n",
            "\n",
            "      Epoch    GPU_mem   box_loss   cls_loss   dfl_loss  Instances       Size\n"
          ]
        },
        {
          "output_type": "stream",
          "name": "stderr",
          "text": [
            "     82/100      2.52G       1.84      1.725      1.479        134        640: 100%|██████████| 22/22 [00:51<00:00,  2.36s/it]\n",
            "                 Class     Images  Instances      Box(P          R      mAP50  mAP50-95): 100%|██████████| 4/4 [00:01<00:00,  2.41it/s]"
          ]
        },
        {
          "output_type": "stream",
          "name": "stdout",
          "text": [
            "                   all        105       1125      0.303      0.212      0.151     0.0556\n"
          ]
        },
        {
          "output_type": "stream",
          "name": "stderr",
          "text": [
            "\n"
          ]
        },
        {
          "output_type": "stream",
          "name": "stdout",
          "text": [
            "\n",
            "      Epoch    GPU_mem   box_loss   cls_loss   dfl_loss  Instances       Size\n"
          ]
        },
        {
          "output_type": "stream",
          "name": "stderr",
          "text": [
            "     83/100      2.38G      1.826      1.712      1.464        243        640: 100%|██████████| 22/22 [00:56<00:00,  2.57s/it]\n",
            "                 Class     Images  Instances      Box(P          R      mAP50  mAP50-95): 100%|██████████| 4/4 [00:01<00:00,  2.10it/s]"
          ]
        },
        {
          "output_type": "stream",
          "name": "stdout",
          "text": [
            "                   all        105       1125      0.348      0.226      0.182     0.0686\n"
          ]
        },
        {
          "output_type": "stream",
          "name": "stderr",
          "text": [
            "\n"
          ]
        },
        {
          "output_type": "stream",
          "name": "stdout",
          "text": [
            "\n",
            "      Epoch    GPU_mem   box_loss   cls_loss   dfl_loss  Instances       Size\n"
          ]
        },
        {
          "output_type": "stream",
          "name": "stderr",
          "text": [
            "     84/100      2.58G      1.885      1.767      1.491        216        640: 100%|██████████| 22/22 [00:53<00:00,  2.42s/it]\n",
            "                 Class     Images  Instances      Box(P          R      mAP50  mAP50-95): 100%|██████████| 4/4 [00:02<00:00,  1.45it/s]"
          ]
        },
        {
          "output_type": "stream",
          "name": "stdout",
          "text": [
            "                   all        105       1125       0.33      0.207      0.165     0.0633\n"
          ]
        },
        {
          "output_type": "stream",
          "name": "stderr",
          "text": [
            "\n"
          ]
        },
        {
          "output_type": "stream",
          "name": "stdout",
          "text": [
            "\n",
            "      Epoch    GPU_mem   box_loss   cls_loss   dfl_loss  Instances       Size\n"
          ]
        },
        {
          "output_type": "stream",
          "name": "stderr",
          "text": [
            "     85/100      2.52G      1.854      1.702      1.469        183        640: 100%|██████████| 22/22 [00:57<00:00,  2.60s/it]\n",
            "                 Class     Images  Instances      Box(P          R      mAP50  mAP50-95): 100%|██████████| 4/4 [00:01<00:00,  2.32it/s]"
          ]
        },
        {
          "output_type": "stream",
          "name": "stdout",
          "text": [
            "                   all        105       1125      0.301      0.194      0.152     0.0572\n"
          ]
        },
        {
          "output_type": "stream",
          "name": "stderr",
          "text": [
            "\n"
          ]
        },
        {
          "output_type": "stream",
          "name": "stdout",
          "text": [
            "\n",
            "      Epoch    GPU_mem   box_loss   cls_loss   dfl_loss  Instances       Size\n"
          ]
        },
        {
          "output_type": "stream",
          "name": "stderr",
          "text": [
            "     86/100      2.62G      1.831      1.703      1.479        208        640: 100%|██████████| 22/22 [00:59<00:00,  2.69s/it]\n",
            "                 Class     Images  Instances      Box(P          R      mAP50  mAP50-95): 100%|██████████| 4/4 [00:02<00:00,  1.61it/s]"
          ]
        },
        {
          "output_type": "stream",
          "name": "stdout",
          "text": [
            "                   all        105       1125      0.309      0.186      0.139     0.0495\n"
          ]
        },
        {
          "output_type": "stream",
          "name": "stderr",
          "text": [
            "\n"
          ]
        },
        {
          "output_type": "stream",
          "name": "stdout",
          "text": [
            "\n",
            "      Epoch    GPU_mem   box_loss   cls_loss   dfl_loss  Instances       Size\n"
          ]
        },
        {
          "output_type": "stream",
          "name": "stderr",
          "text": [
            "     87/100      2.51G      1.815      1.721      1.465        146        640: 100%|██████████| 22/22 [00:50<00:00,  2.30s/it]\n",
            "                 Class     Images  Instances      Box(P          R      mAP50  mAP50-95): 100%|██████████| 4/4 [00:01<00:00,  2.29it/s]"
          ]
        },
        {
          "output_type": "stream",
          "name": "stdout",
          "text": [
            "                   all        105       1125       0.27      0.189      0.134     0.0512\n"
          ]
        },
        {
          "output_type": "stream",
          "name": "stderr",
          "text": [
            "\n"
          ]
        },
        {
          "output_type": "stream",
          "name": "stdout",
          "text": [
            "\n",
            "      Epoch    GPU_mem   box_loss   cls_loss   dfl_loss  Instances       Size\n"
          ]
        },
        {
          "output_type": "stream",
          "name": "stderr",
          "text": [
            "     88/100      2.35G      1.817      1.659       1.45        155        640: 100%|██████████| 22/22 [00:57<00:00,  2.60s/it]\n",
            "                 Class     Images  Instances      Box(P          R      mAP50  mAP50-95): 100%|██████████| 4/4 [00:01<00:00,  2.53it/s]"
          ]
        },
        {
          "output_type": "stream",
          "name": "stdout",
          "text": [
            "                   all        105       1125      0.275      0.204      0.138      0.052\n"
          ]
        },
        {
          "output_type": "stream",
          "name": "stderr",
          "text": [
            "\n"
          ]
        },
        {
          "output_type": "stream",
          "name": "stdout",
          "text": [
            "\n",
            "      Epoch    GPU_mem   box_loss   cls_loss   dfl_loss  Instances       Size\n"
          ]
        },
        {
          "output_type": "stream",
          "name": "stderr",
          "text": [
            "     89/100      2.55G      1.808      1.683      1.447        221        640: 100%|██████████| 22/22 [00:57<00:00,  2.60s/it]\n",
            "                 Class     Images  Instances      Box(P          R      mAP50  mAP50-95): 100%|██████████| 4/4 [00:02<00:00,  1.39it/s]"
          ]
        },
        {
          "output_type": "stream",
          "name": "stdout",
          "text": [
            "                   all        105       1125      0.312      0.226      0.169     0.0628\n"
          ]
        },
        {
          "output_type": "stream",
          "name": "stderr",
          "text": [
            "\n"
          ]
        },
        {
          "output_type": "stream",
          "name": "stdout",
          "text": [
            "\n",
            "      Epoch    GPU_mem   box_loss   cls_loss   dfl_loss  Instances       Size\n"
          ]
        },
        {
          "output_type": "stream",
          "name": "stderr",
          "text": [
            "     90/100       2.4G       1.82      1.702       1.44        216        640: 100%|██████████| 22/22 [00:53<00:00,  2.44s/it]\n",
            "                 Class     Images  Instances      Box(P          R      mAP50  mAP50-95): 100%|██████████| 4/4 [00:01<00:00,  2.31it/s]"
          ]
        },
        {
          "output_type": "stream",
          "name": "stdout",
          "text": [
            "                   all        105       1125      0.327      0.244      0.182     0.0717\n"
          ]
        },
        {
          "output_type": "stream",
          "name": "stderr",
          "text": [
            "\n"
          ]
        },
        {
          "output_type": "stream",
          "name": "stdout",
          "text": [
            "Closing dataloader mosaic\n",
            "\u001b[34m\u001b[1malbumentations: \u001b[0mBlur(p=0.01, blur_limit=(3, 7)), MedianBlur(p=0.01, blur_limit=(3, 7)), ToGray(p=0.01), CLAHE(p=0.01, clip_limit=(1, 4.0), tile_grid_size=(8, 8))\n"
          ]
        },
        {
          "output_type": "stream",
          "name": "stderr",
          "text": [
            "/usr/lib/python3.10/multiprocessing/popen_fork.py:66: RuntimeWarning: os.fork() was called. os.fork() is incompatible with multithreaded code, and JAX is multithreaded, so this will likely lead to a deadlock.\n",
            "  self.pid = os.fork()\n"
          ]
        },
        {
          "output_type": "stream",
          "name": "stdout",
          "text": [
            "\n",
            "      Epoch    GPU_mem   box_loss   cls_loss   dfl_loss  Instances       Size\n"
          ]
        },
        {
          "output_type": "stream",
          "name": "stderr",
          "text": [
            "     91/100      2.19G      1.777      1.729      1.489        108        640: 100%|██████████| 22/22 [01:10<00:00,  3.20s/it]\n",
            "                 Class     Images  Instances      Box(P          R      mAP50  mAP50-95): 100%|██████████| 4/4 [00:01<00:00,  2.48it/s]"
          ]
        },
        {
          "output_type": "stream",
          "name": "stdout",
          "text": [
            "                   all        105       1125      0.319      0.227      0.159     0.0605\n"
          ]
        },
        {
          "output_type": "stream",
          "name": "stderr",
          "text": [
            "\n"
          ]
        },
        {
          "output_type": "stream",
          "name": "stdout",
          "text": [
            "\n",
            "      Epoch    GPU_mem   box_loss   cls_loss   dfl_loss  Instances       Size\n"
          ]
        },
        {
          "output_type": "stream",
          "name": "stderr",
          "text": [
            "     92/100      2.22G      1.747      1.631      1.462        124        640: 100%|██████████| 22/22 [00:55<00:00,  2.53s/it]\n",
            "                 Class     Images  Instances      Box(P          R      mAP50  mAP50-95): 100%|██████████| 4/4 [00:02<00:00,  1.49it/s]"
          ]
        },
        {
          "output_type": "stream",
          "name": "stdout",
          "text": [
            "                   all        105       1125      0.282      0.221      0.147     0.0539\n"
          ]
        },
        {
          "output_type": "stream",
          "name": "stderr",
          "text": [
            "\n"
          ]
        },
        {
          "output_type": "stream",
          "name": "stdout",
          "text": [
            "\n",
            "      Epoch    GPU_mem   box_loss   cls_loss   dfl_loss  Instances       Size\n"
          ]
        },
        {
          "output_type": "stream",
          "name": "stderr",
          "text": [
            "     93/100      2.16G      1.697      1.596      1.437         88        640: 100%|██████████| 22/22 [00:57<00:00,  2.60s/it]\n",
            "                 Class     Images  Instances      Box(P          R      mAP50  mAP50-95): 100%|██████████| 4/4 [00:01<00:00,  2.23it/s]"
          ]
        },
        {
          "output_type": "stream",
          "name": "stdout",
          "text": [
            "                   all        105       1125      0.278      0.229      0.154      0.058\n"
          ]
        },
        {
          "output_type": "stream",
          "name": "stderr",
          "text": [
            "\n"
          ]
        },
        {
          "output_type": "stream",
          "name": "stdout",
          "text": [
            "\n",
            "      Epoch    GPU_mem   box_loss   cls_loss   dfl_loss  Instances       Size\n"
          ]
        },
        {
          "output_type": "stream",
          "name": "stderr",
          "text": [
            "     94/100      2.15G      1.707      1.551      1.407        122        640: 100%|██████████| 22/22 [00:55<00:00,  2.50s/it]\n",
            "                 Class     Images  Instances      Box(P          R      mAP50  mAP50-95): 100%|██████████| 4/4 [00:01<00:00,  2.23it/s]"
          ]
        },
        {
          "output_type": "stream",
          "name": "stdout",
          "text": [
            "                   all        105       1125      0.319      0.209      0.163     0.0603\n"
          ]
        },
        {
          "output_type": "stream",
          "name": "stderr",
          "text": [
            "\n"
          ]
        },
        {
          "output_type": "stream",
          "name": "stdout",
          "text": [
            "\n",
            "      Epoch    GPU_mem   box_loss   cls_loss   dfl_loss  Instances       Size\n"
          ]
        },
        {
          "output_type": "stream",
          "name": "stderr",
          "text": [
            "     95/100      2.19G      1.681      1.521      1.404        102        640: 100%|██████████| 22/22 [00:55<00:00,  2.52s/it]\n",
            "                 Class     Images  Instances      Box(P          R      mAP50  mAP50-95): 100%|██████████| 4/4 [00:02<00:00,  1.44it/s]"
          ]
        },
        {
          "output_type": "stream",
          "name": "stdout",
          "text": [
            "                   all        105       1125      0.311      0.218      0.159     0.0619\n"
          ]
        },
        {
          "output_type": "stream",
          "name": "stderr",
          "text": [
            "\n"
          ]
        },
        {
          "output_type": "stream",
          "name": "stdout",
          "text": [
            "\n",
            "      Epoch    GPU_mem   box_loss   cls_loss   dfl_loss  Instances       Size\n"
          ]
        },
        {
          "output_type": "stream",
          "name": "stderr",
          "text": [
            "     96/100      2.19G       1.66      1.506      1.392         77        640: 100%|██████████| 22/22 [00:57<00:00,  2.59s/it]\n",
            "                 Class     Images  Instances      Box(P          R      mAP50  mAP50-95): 100%|██████████| 4/4 [00:01<00:00,  2.52it/s]"
          ]
        },
        {
          "output_type": "stream",
          "name": "stdout",
          "text": [
            "                   all        105       1125      0.276      0.222      0.152      0.059\n"
          ]
        },
        {
          "output_type": "stream",
          "name": "stderr",
          "text": [
            "\n"
          ]
        },
        {
          "output_type": "stream",
          "name": "stdout",
          "text": [
            "\n",
            "      Epoch    GPU_mem   box_loss   cls_loss   dfl_loss  Instances       Size\n"
          ]
        },
        {
          "output_type": "stream",
          "name": "stderr",
          "text": [
            "     97/100      2.21G      1.663      1.512      1.387        108        640: 100%|██████████| 22/22 [00:53<00:00,  2.42s/it]\n",
            "                 Class     Images  Instances      Box(P          R      mAP50  mAP50-95): 100%|██████████| 4/4 [00:01<00:00,  2.88it/s]"
          ]
        },
        {
          "output_type": "stream",
          "name": "stdout",
          "text": [
            "                   all        105       1125      0.302      0.211      0.159     0.0614\n"
          ]
        },
        {
          "output_type": "stream",
          "name": "stderr",
          "text": [
            "\n"
          ]
        },
        {
          "output_type": "stream",
          "name": "stdout",
          "text": [
            "\n",
            "      Epoch    GPU_mem   box_loss   cls_loss   dfl_loss  Instances       Size\n"
          ]
        },
        {
          "output_type": "stream",
          "name": "stderr",
          "text": [
            "     98/100      2.18G      1.651      1.502      1.391        106        640: 100%|██████████| 22/22 [00:51<00:00,  2.35s/it]\n",
            "                 Class     Images  Instances      Box(P          R      mAP50  mAP50-95): 100%|██████████| 4/4 [00:01<00:00,  2.99it/s]\n"
          ]
        },
        {
          "output_type": "stream",
          "name": "stdout",
          "text": [
            "                   all        105       1125      0.311      0.215      0.164     0.0641\n",
            "\n",
            "      Epoch    GPU_mem   box_loss   cls_loss   dfl_loss  Instances       Size\n"
          ]
        },
        {
          "output_type": "stream",
          "name": "stderr",
          "text": [
            "     99/100      2.21G      1.624      1.471      1.376         71        640: 100%|██████████| 22/22 [00:54<00:00,  2.47s/it]\n",
            "                 Class     Images  Instances      Box(P          R      mAP50  mAP50-95): 100%|██████████| 4/4 [00:02<00:00,  1.42it/s]"
          ]
        },
        {
          "output_type": "stream",
          "name": "stdout",
          "text": [
            "                   all        105       1125       0.32       0.22      0.167     0.0649\n"
          ]
        },
        {
          "output_type": "stream",
          "name": "stderr",
          "text": [
            "\n"
          ]
        },
        {
          "output_type": "stream",
          "name": "stdout",
          "text": [
            "\n",
            "      Epoch    GPU_mem   box_loss   cls_loss   dfl_loss  Instances       Size\n"
          ]
        },
        {
          "output_type": "stream",
          "name": "stderr",
          "text": [
            "    100/100      2.19G      1.639      1.468      1.373         97        640: 100%|██████████| 22/22 [00:56<00:00,  2.57s/it]\n",
            "                 Class     Images  Instances      Box(P          R      mAP50  mAP50-95): 100%|██████████| 4/4 [00:01<00:00,  2.18it/s]"
          ]
        },
        {
          "output_type": "stream",
          "name": "stdout",
          "text": [
            "                   all        105       1125      0.313      0.223      0.165     0.0638\n"
          ]
        },
        {
          "output_type": "stream",
          "name": "stderr",
          "text": [
            "\n"
          ]
        },
        {
          "output_type": "stream",
          "name": "stdout",
          "text": [
            "\n",
            "100 epochs completed in 1.649 hours.\n",
            "Optimizer stripped from runs/detect/yolov8-tomato/weights/last.pt, 6.2MB\n",
            "Optimizer stripped from runs/detect/yolov8-tomato/weights/best.pt, 6.2MB\n",
            "\n",
            "Validating runs/detect/yolov8-tomato/weights/best.pt...\n",
            "Ultralytics YOLOv8.2.86 🚀 Python-3.10.12 torch-2.4.0+cu121 CUDA:0 (Tesla T4, 15102MiB)\n",
            "Model summary (fused): 168 layers, 3,006,233 parameters, 0 gradients, 8.1 GFLOPs\n"
          ]
        },
        {
          "output_type": "stream",
          "name": "stderr",
          "text": [
            "                 Class     Images  Instances      Box(P          R      mAP50  mAP50-95): 100%|██████████| 4/4 [00:22<00:00,  5.62s/it]\n"
          ]
        },
        {
          "output_type": "stream",
          "name": "stdout",
          "text": [
            "                   all        105       1125      0.331      0.244      0.182     0.0713\n",
            "               Initial        105       1125      0.331      0.244      0.182     0.0713\n",
            "Speed: 0.3ms preprocess, 2.8ms inference, 0.0ms loss, 3.2ms postprocess per image\n",
            "Results saved to \u001b[1mruns/detect/yolov8-tomato\u001b[0m\n"
          ]
        },
        {
          "output_type": "execute_result",
          "data": {
            "text/plain": [
              "ultralytics.utils.metrics.DetMetrics object with attributes:\n",
              "\n",
              "ap_class_index: array([0])\n",
              "box: ultralytics.utils.metrics.Metric object\n",
              "confusion_matrix: <ultralytics.utils.metrics.ConfusionMatrix object at 0x7dc0a420e980>\n",
              "curves: ['Precision-Recall(B)', 'F1-Confidence(B)', 'Precision-Confidence(B)', 'Recall-Confidence(B)']\n",
              "curves_results: [[array([          0,    0.001001,    0.002002,    0.003003,    0.004004,    0.005005,    0.006006,    0.007007,    0.008008,    0.009009,     0.01001,    0.011011,    0.012012,    0.013013,    0.014014,    0.015015,    0.016016,    0.017017,    0.018018,    0.019019,     0.02002,    0.021021,    0.022022,    0.023023,\n",
              "          0.024024,    0.025025,    0.026026,    0.027027,    0.028028,    0.029029,     0.03003,    0.031031,    0.032032,    0.033033,    0.034034,    0.035035,    0.036036,    0.037037,    0.038038,    0.039039,     0.04004,    0.041041,    0.042042,    0.043043,    0.044044,    0.045045,    0.046046,    0.047047,\n",
              "          0.048048,    0.049049,     0.05005,    0.051051,    0.052052,    0.053053,    0.054054,    0.055055,    0.056056,    0.057057,    0.058058,    0.059059,     0.06006,    0.061061,    0.062062,    0.063063,    0.064064,    0.065065,    0.066066,    0.067067,    0.068068,    0.069069,     0.07007,    0.071071,\n",
              "          0.072072,    0.073073,    0.074074,    0.075075,    0.076076,    0.077077,    0.078078,    0.079079,     0.08008,    0.081081,    0.082082,    0.083083,    0.084084,    0.085085,    0.086086,    0.087087,    0.088088,    0.089089,     0.09009,    0.091091,    0.092092,    0.093093,    0.094094,    0.095095,\n",
              "          0.096096,    0.097097,    0.098098,    0.099099,      0.1001,      0.1011,      0.1021,      0.1031,      0.1041,     0.10511,     0.10611,     0.10711,     0.10811,     0.10911,     0.11011,     0.11111,     0.11211,     0.11311,     0.11411,     0.11512,     0.11612,     0.11712,     0.11812,     0.11912,\n",
              "           0.12012,     0.12112,     0.12212,     0.12312,     0.12412,     0.12513,     0.12613,     0.12713,     0.12813,     0.12913,     0.13013,     0.13113,     0.13213,     0.13313,     0.13413,     0.13514,     0.13614,     0.13714,     0.13814,     0.13914,     0.14014,     0.14114,     0.14214,     0.14314,\n",
              "           0.14414,     0.14515,     0.14615,     0.14715,     0.14815,     0.14915,     0.15015,     0.15115,     0.15215,     0.15315,     0.15415,     0.15516,     0.15616,     0.15716,     0.15816,     0.15916,     0.16016,     0.16116,     0.16216,     0.16316,     0.16416,     0.16517,     0.16617,     0.16717,\n",
              "           0.16817,     0.16917,     0.17017,     0.17117,     0.17217,     0.17317,     0.17417,     0.17518,     0.17618,     0.17718,     0.17818,     0.17918,     0.18018,     0.18118,     0.18218,     0.18318,     0.18418,     0.18519,     0.18619,     0.18719,     0.18819,     0.18919,     0.19019,     0.19119,\n",
              "           0.19219,     0.19319,     0.19419,      0.1952,      0.1962,      0.1972,      0.1982,      0.1992,      0.2002,      0.2012,      0.2022,      0.2032,      0.2042,     0.20521,     0.20621,     0.20721,     0.20821,     0.20921,     0.21021,     0.21121,     0.21221,     0.21321,     0.21421,     0.21522,\n",
              "           0.21622,     0.21722,     0.21822,     0.21922,     0.22022,     0.22122,     0.22222,     0.22322,     0.22422,     0.22523,     0.22623,     0.22723,     0.22823,     0.22923,     0.23023,     0.23123,     0.23223,     0.23323,     0.23423,     0.23524,     0.23624,     0.23724,     0.23824,     0.23924,\n",
              "           0.24024,     0.24124,     0.24224,     0.24324,     0.24424,     0.24525,     0.24625,     0.24725,     0.24825,     0.24925,     0.25025,     0.25125,     0.25225,     0.25325,     0.25425,     0.25526,     0.25626,     0.25726,     0.25826,     0.25926,     0.26026,     0.26126,     0.26226,     0.26326,\n",
              "           0.26426,     0.26527,     0.26627,     0.26727,     0.26827,     0.26927,     0.27027,     0.27127,     0.27227,     0.27327,     0.27427,     0.27528,     0.27628,     0.27728,     0.27828,     0.27928,     0.28028,     0.28128,     0.28228,     0.28328,     0.28428,     0.28529,     0.28629,     0.28729,\n",
              "           0.28829,     0.28929,     0.29029,     0.29129,     0.29229,     0.29329,     0.29429,      0.2953,      0.2963,      0.2973,      0.2983,      0.2993,      0.3003,      0.3013,      0.3023,      0.3033,      0.3043,     0.30531,     0.30631,     0.30731,     0.30831,     0.30931,     0.31031,     0.31131,\n",
              "           0.31231,     0.31331,     0.31431,     0.31532,     0.31632,     0.31732,     0.31832,     0.31932,     0.32032,     0.32132,     0.32232,     0.32332,     0.32432,     0.32533,     0.32633,     0.32733,     0.32833,     0.32933,     0.33033,     0.33133,     0.33233,     0.33333,     0.33433,     0.33534,\n",
              "           0.33634,     0.33734,     0.33834,     0.33934,     0.34034,     0.34134,     0.34234,     0.34334,     0.34434,     0.34535,     0.34635,     0.34735,     0.34835,     0.34935,     0.35035,     0.35135,     0.35235,     0.35335,     0.35435,     0.35536,     0.35636,     0.35736,     0.35836,     0.35936,\n",
              "           0.36036,     0.36136,     0.36236,     0.36336,     0.36436,     0.36537,     0.36637,     0.36737,     0.36837,     0.36937,     0.37037,     0.37137,     0.37237,     0.37337,     0.37437,     0.37538,     0.37638,     0.37738,     0.37838,     0.37938,     0.38038,     0.38138,     0.38238,     0.38338,\n",
              "           0.38438,     0.38539,     0.38639,     0.38739,     0.38839,     0.38939,     0.39039,     0.39139,     0.39239,     0.39339,     0.39439,      0.3954,      0.3964,      0.3974,      0.3984,      0.3994,      0.4004,      0.4014,      0.4024,      0.4034,      0.4044,     0.40541,     0.40641,     0.40741,\n",
              "           0.40841,     0.40941,     0.41041,     0.41141,     0.41241,     0.41341,     0.41441,     0.41542,     0.41642,     0.41742,     0.41842,     0.41942,     0.42042,     0.42142,     0.42242,     0.42342,     0.42442,     0.42543,     0.42643,     0.42743,     0.42843,     0.42943,     0.43043,     0.43143,\n",
              "           0.43243,     0.43343,     0.43443,     0.43544,     0.43644,     0.43744,     0.43844,     0.43944,     0.44044,     0.44144,     0.44244,     0.44344,     0.44444,     0.44545,     0.44645,     0.44745,     0.44845,     0.44945,     0.45045,     0.45145,     0.45245,     0.45345,     0.45445,     0.45546,\n",
              "           0.45646,     0.45746,     0.45846,     0.45946,     0.46046,     0.46146,     0.46246,     0.46346,     0.46446,     0.46547,     0.46647,     0.46747,     0.46847,     0.46947,     0.47047,     0.47147,     0.47247,     0.47347,     0.47447,     0.47548,     0.47648,     0.47748,     0.47848,     0.47948,\n",
              "           0.48048,     0.48148,     0.48248,     0.48348,     0.48448,     0.48549,     0.48649,     0.48749,     0.48849,     0.48949,     0.49049,     0.49149,     0.49249,     0.49349,     0.49449,      0.4955,      0.4965,      0.4975,      0.4985,      0.4995,      0.5005,      0.5015,      0.5025,      0.5035,\n",
              "            0.5045,     0.50551,     0.50651,     0.50751,     0.50851,     0.50951,     0.51051,     0.51151,     0.51251,     0.51351,     0.51451,     0.51552,     0.51652,     0.51752,     0.51852,     0.51952,     0.52052,     0.52152,     0.52252,     0.52352,     0.52452,     0.52553,     0.52653,     0.52753,\n",
              "           0.52853,     0.52953,     0.53053,     0.53153,     0.53253,     0.53353,     0.53453,     0.53554,     0.53654,     0.53754,     0.53854,     0.53954,     0.54054,     0.54154,     0.54254,     0.54354,     0.54454,     0.54555,     0.54655,     0.54755,     0.54855,     0.54955,     0.55055,     0.55155,\n",
              "           0.55255,     0.55355,     0.55455,     0.55556,     0.55656,     0.55756,     0.55856,     0.55956,     0.56056,     0.56156,     0.56256,     0.56356,     0.56456,     0.56557,     0.56657,     0.56757,     0.56857,     0.56957,     0.57057,     0.57157,     0.57257,     0.57357,     0.57457,     0.57558,\n",
              "           0.57658,     0.57758,     0.57858,     0.57958,     0.58058,     0.58158,     0.58258,     0.58358,     0.58458,     0.58559,     0.58659,     0.58759,     0.58859,     0.58959,     0.59059,     0.59159,     0.59259,     0.59359,     0.59459,      0.5956,      0.5966,      0.5976,      0.5986,      0.5996,\n",
              "            0.6006,      0.6016,      0.6026,      0.6036,      0.6046,     0.60561,     0.60661,     0.60761,     0.60861,     0.60961,     0.61061,     0.61161,     0.61261,     0.61361,     0.61461,     0.61562,     0.61662,     0.61762,     0.61862,     0.61962,     0.62062,     0.62162,     0.62262,     0.62362,\n",
              "           0.62462,     0.62563,     0.62663,     0.62763,     0.62863,     0.62963,     0.63063,     0.63163,     0.63263,     0.63363,     0.63463,     0.63564,     0.63664,     0.63764,     0.63864,     0.63964,     0.64064,     0.64164,     0.64264,     0.64364,     0.64464,     0.64565,     0.64665,     0.64765,\n",
              "           0.64865,     0.64965,     0.65065,     0.65165,     0.65265,     0.65365,     0.65465,     0.65566,     0.65666,     0.65766,     0.65866,     0.65966,     0.66066,     0.66166,     0.66266,     0.66366,     0.66466,     0.66567,     0.66667,     0.66767,     0.66867,     0.66967,     0.67067,     0.67167,\n",
              "           0.67267,     0.67367,     0.67467,     0.67568,     0.67668,     0.67768,     0.67868,     0.67968,     0.68068,     0.68168,     0.68268,     0.68368,     0.68468,     0.68569,     0.68669,     0.68769,     0.68869,     0.68969,     0.69069,     0.69169,     0.69269,     0.69369,     0.69469,      0.6957,\n",
              "            0.6967,      0.6977,      0.6987,      0.6997,      0.7007,      0.7017,      0.7027,      0.7037,      0.7047,     0.70571,     0.70671,     0.70771,     0.70871,     0.70971,     0.71071,     0.71171,     0.71271,     0.71371,     0.71471,     0.71572,     0.71672,     0.71772,     0.71872,     0.71972,\n",
              "           0.72072,     0.72172,     0.72272,     0.72372,     0.72472,     0.72573,     0.72673,     0.72773,     0.72873,     0.72973,     0.73073,     0.73173,     0.73273,     0.73373,     0.73473,     0.73574,     0.73674,     0.73774,     0.73874,     0.73974,     0.74074,     0.74174,     0.74274,     0.74374,\n",
              "           0.74474,     0.74575,     0.74675,     0.74775,     0.74875,     0.74975,     0.75075,     0.75175,     0.75275,     0.75375,     0.75475,     0.75576,     0.75676,     0.75776,     0.75876,     0.75976,     0.76076,     0.76176,     0.76276,     0.76376,     0.76476,     0.76577,     0.76677,     0.76777,\n",
              "           0.76877,     0.76977,     0.77077,     0.77177,     0.77277,     0.77377,     0.77477,     0.77578,     0.77678,     0.77778,     0.77878,     0.77978,     0.78078,     0.78178,     0.78278,     0.78378,     0.78478,     0.78579,     0.78679,     0.78779,     0.78879,     0.78979,     0.79079,     0.79179,\n",
              "           0.79279,     0.79379,     0.79479,      0.7958,      0.7968,      0.7978,      0.7988,      0.7998,      0.8008,      0.8018,      0.8028,      0.8038,      0.8048,     0.80581,     0.80681,     0.80781,     0.80881,     0.80981,     0.81081,     0.81181,     0.81281,     0.81381,     0.81481,     0.81582,\n",
              "           0.81682,     0.81782,     0.81882,     0.81982,     0.82082,     0.82182,     0.82282,     0.82382,     0.82482,     0.82583,     0.82683,     0.82783,     0.82883,     0.82983,     0.83083,     0.83183,     0.83283,     0.83383,     0.83483,     0.83584,     0.83684,     0.83784,     0.83884,     0.83984,\n",
              "           0.84084,     0.84184,     0.84284,     0.84384,     0.84484,     0.84585,     0.84685,     0.84785,     0.84885,     0.84985,     0.85085,     0.85185,     0.85285,     0.85385,     0.85485,     0.85586,     0.85686,     0.85786,     0.85886,     0.85986,     0.86086,     0.86186,     0.86286,     0.86386,\n",
              "           0.86486,     0.86587,     0.86687,     0.86787,     0.86887,     0.86987,     0.87087,     0.87187,     0.87287,     0.87387,     0.87487,     0.87588,     0.87688,     0.87788,     0.87888,     0.87988,     0.88088,     0.88188,     0.88288,     0.88388,     0.88488,     0.88589,     0.88689,     0.88789,\n",
              "           0.88889,     0.88989,     0.89089,     0.89189,     0.89289,     0.89389,     0.89489,      0.8959,      0.8969,      0.8979,      0.8989,      0.8999,      0.9009,      0.9019,      0.9029,      0.9039,      0.9049,     0.90591,     0.90691,     0.90791,     0.90891,     0.90991,     0.91091,     0.91191,\n",
              "           0.91291,     0.91391,     0.91491,     0.91592,     0.91692,     0.91792,     0.91892,     0.91992,     0.92092,     0.92192,     0.92292,     0.92392,     0.92492,     0.92593,     0.92693,     0.92793,     0.92893,     0.92993,     0.93093,     0.93193,     0.93293,     0.93393,     0.93493,     0.93594,\n",
              "           0.93694,     0.93794,     0.93894,     0.93994,     0.94094,     0.94194,     0.94294,     0.94394,     0.94494,     0.94595,     0.94695,     0.94795,     0.94895,     0.94995,     0.95095,     0.95195,     0.95295,     0.95395,     0.95495,     0.95596,     0.95696,     0.95796,     0.95896,     0.95996,\n",
              "           0.96096,     0.96196,     0.96296,     0.96396,     0.96496,     0.96597,     0.96697,     0.96797,     0.96897,     0.96997,     0.97097,     0.97197,     0.97297,     0.97397,     0.97497,     0.97598,     0.97698,     0.97798,     0.97898,     0.97998,     0.98098,     0.98198,     0.98298,     0.98398,\n",
              "           0.98498,     0.98599,     0.98699,     0.98799,     0.98899,     0.98999,     0.99099,     0.99199,     0.99299,     0.99399,     0.99499,       0.996,       0.997,       0.998,       0.999,           1]), array([[          1,           1,           1,           1,     0.72727,     0.72727,     0.72727,     0.72727,     0.66667,     0.66667,     0.66667,     0.66667,     0.66667,     0.66667,     0.66667,     0.66667,     0.66667,     0.66667,     0.66667,     0.66667,     0.66667,     0.66667,     0.66667,\n",
              "            0.66667,     0.65217,     0.65217,     0.65217,     0.64706,     0.64706,     0.64706,       0.625,       0.625,     0.61957,     0.61957,     0.61957,     0.61957,     0.61957,     0.61957,     0.61957,     0.61957,     0.61957,     0.61957,     0.61957,     0.61957,     0.61957,     0.61957,\n",
              "            0.61957,     0.61957,     0.61957,     0.61957,     0.61957,     0.61765,     0.61765,     0.61765,     0.61765,     0.61765,     0.60377,     0.60185,     0.57252,     0.57252,     0.57252,     0.57252,     0.57252,     0.57252,     0.57252,     0.57252,     0.57252,     0.56471,     0.56471,\n",
              "            0.56471,     0.56471,     0.56471,     0.56471,     0.56471,     0.56471,     0.56471,     0.56471,     0.56471,     0.56471,     0.56471,     0.56471,     0.56471,     0.56471,     0.56471,     0.56471,     0.56471,     0.56395,     0.53846,     0.53846,     0.53846,     0.53846,     0.53846,\n",
              "            0.53846,     0.53846,     0.53846,     0.53846,     0.53846,     0.53846,     0.53846,     0.53846,      0.5381,     0.52535,      0.5157,         0.5,         0.5,         0.5,         0.5,     0.49398,     0.49398,     0.49398,     0.49012,     0.48276,      0.4812,      0.4812,     0.47813,\n",
              "            0.47813,     0.47813,     0.47813,     0.47813,     0.47813,     0.47813,     0.47813,     0.47813,     0.47813,     0.47813,     0.47813,     0.47813,     0.47813,     0.47813,     0.47813,     0.47813,     0.47813,     0.47813,     0.47813,     0.47813,     0.47813,     0.47678,     0.47576,\n",
              "            0.47576,     0.47576,     0.47447,     0.47262,     0.47262,     0.47262,     0.47262,     0.47262,     0.47143,     0.46893,     0.46779,     0.46216,     0.46216,     0.46216,     0.45767,     0.45767,     0.45455,     0.45455,     0.45244,     0.45161,     0.45161,     0.45161,     0.45161,\n",
              "            0.45161,     0.44743,     0.44578,     0.44578,     0.44213,     0.44213,     0.44213,     0.44213,     0.44213,     0.44138,     0.43498,     0.43498,     0.43326,     0.43326,     0.43326,       0.431,       0.431,       0.431,       0.431,       0.431,     0.42977,     0.42977,     0.42798,\n",
              "            0.42798,     0.42683,     0.42683,     0.42315,     0.42315,     0.42157,     0.42157,      0.4186,     0.41366,     0.41366,     0.41321,     0.41045,     0.41002,     0.40993,     0.40993,     0.40283,     0.40283,     0.40283,     0.40283,     0.40105,     0.39691,     0.39691,     0.38926,\n",
              "            0.38742,     0.38699,     0.38699,     0.38699,     0.38699,     0.38057,     0.38035,     0.37461,     0.37213,     0.37082,     0.36567,     0.36553,     0.36337,     0.36337,     0.36337,     0.36167,     0.36143,     0.36143,     0.35664,     0.35664,     0.35655,     0.35537,     0.35537,\n",
              "            0.34933,     0.34933,     0.34933,     0.34823,     0.34823,     0.34823,     0.34726,     0.34496,     0.33965,     0.33835,     0.33748,     0.33415,     0.33374,     0.33293,     0.33013,     0.32624,      0.3211,      0.3211,      0.3211,     0.32082,     0.32082,     0.31991,     0.31991,\n",
              "            0.31991,     0.31469,     0.31176,     0.31176,     0.31071,     0.31071,     0.31071,     0.31071,     0.30721,      0.3047,      0.3047,      0.3047,     0.30343,     0.30343,     0.30343,      0.3017,      0.2959,      0.2935,      0.2935,      0.2935,     0.29345,     0.29345,     0.29273,\n",
              "            0.28957,     0.28862,     0.28755,     0.28689,     0.28597,     0.28597,     0.28597,     0.28155,     0.28084,     0.28084,     0.27707,     0.27707,     0.27707,     0.27627,     0.27548,     0.27402,     0.27198,     0.27198,     0.26539,     0.26179,     0.25772,     0.24705,     0.24543,\n",
              "            0.24527,     0.24493,     0.24477,     0.24465,     0.24465,     0.24465,     0.24397,     0.24245,     0.24128,     0.23898,     0.23738,     0.23537,     0.23214,     0.22977,     0.22271,     0.21947,     0.21673,     0.21641,     0.21108,     0.21019,     0.20991,     0.20903,     0.20817,\n",
              "            0.20648,     0.20577,     0.19859,     0.19795,     0.19732,     0.19722,     0.19546,     0.19499,     0.19499,     0.19499,     0.19499,     0.19157,     0.19157,     0.18909,     0.18818,     0.18701,     0.18585,     0.18511,     0.18511,      0.1845,      0.1845,      0.1845,      0.1845,\n",
              "             0.1834,      0.1834,      0.1834,     0.18275,     0.18275,     0.18203,     0.18199,     0.18161,      0.1776,     0.17702,     0.17652,     0.17639,     0.17634,     0.17634,     0.17632,     0.17545,     0.17237,     0.17237,     0.17049,      0.1697,     0.16816,     0.16714,     0.16714,\n",
              "            0.16442,     0.16339,     0.16245,     0.16195,     0.16146,     0.16112,     0.16058,     0.15855,     0.15696,     0.15696,     0.15696,      0.1555,     0.15177,     0.14787,     0.14744,     0.14744,     0.14703,     0.14603,     0.14418,     0.14323,     0.13931,     0.13919,     0.13784,\n",
              "            0.13667,     0.13667,      0.1351,     0.13505,     0.13505,     0.13505,     0.13505,     0.13505,     0.13505,     0.13505,     0.13505,     0.13379,     0.13329,     0.13185,     0.13086,     0.13086,     0.13066,     0.12846,     0.12838,     0.12668,      0.1265,     0.12575,     0.12513,\n",
              "            0.12437,     0.12401,     0.12175,     0.12042,     0.12037,     0.11911,     0.11911,     0.11792,     0.11727,     0.11634,     0.11546,     0.11534,     0.11522,     0.11326,      0.1115,     0.11124,     0.11051,     0.11051,     0.11051,     0.11051,     0.11051,     0.11051,     0.10931,\n",
              "            0.10873,     0.10739,     0.10597,     0.10493,     0.10363,     0.10317,     0.10263,     0.10138,     0.10074,     0.10074,     0.10074,     0.10066,    0.098886,    0.097225,    0.097225,    0.096909,    0.096909,    0.096841,    0.095996,    0.095829,    0.095829,    0.095829,    0.095829,\n",
              "           0.094743,    0.094374,    0.093959,    0.093615,     0.09306,    0.092896,    0.092896,    0.092896,    0.092486,    0.092241,     0.09211,     0.09152,    0.091268,    0.091111,    0.090329,    0.090329,    0.090329,    0.090329,    0.088322,    0.088322,      0.0859,    0.085868,    0.085579,\n",
              "           0.085266,    0.083853,    0.083853,    0.083853,    0.083853,    0.083853,    0.083853,    0.082524,    0.082206,    0.081504,    0.081504,    0.081504,    0.080339,    0.080339,    0.080046,     0.07884,     0.07884,    0.078573,    0.078407,     0.07765,     0.07765,      0.0773,    0.076913,\n",
              "           0.076778,    0.076747,    0.075574,    0.075566,     0.07544,    0.074669,    0.074567,    0.073267,    0.073236,      0.0724,    0.071587,    0.071054,    0.069948,    0.069718,    0.069538,    0.069402,    0.068893,    0.068704,     0.06815,    0.068148,     0.06774,    0.067669,     0.06746,\n",
              "           0.067042,    0.066437,    0.065241,    0.065203,    0.064952,    0.064145,    0.063952,    0.062623,    0.061656,    0.061656,    0.061656,    0.060778,    0.060564,    0.060501,    0.060086,    0.060086,    0.060012,    0.060012,    0.059835,    0.058723,    0.058031,    0.058031,    0.057151,\n",
              "           0.057004,    0.057004,       0.057,    0.056672,    0.056672,    0.056672,    0.056672,    0.056558,     0.05646,    0.056338,    0.055997,    0.055628,    0.055628,    0.055531,    0.055411,    0.055325,    0.055287,    0.055287,     0.05497,    0.053563,    0.053563,     0.05244,     0.05244,\n",
              "           0.052419,    0.052179,    0.052043,    0.052043,     0.05124,    0.050579,    0.050579,    0.050334,    0.050245,    0.049196,    0.048556,    0.047674,    0.046479,    0.046247,    0.045913,    0.045796,    0.045582,    0.045205,     0.04516,    0.045133,    0.044976,    0.044944,    0.044789,\n",
              "           0.044693,    0.044693,    0.044532,     0.04451,     0.04451,    0.044368,    0.044368,    0.044254,    0.044062,    0.044013,     0.04391,    0.043352,    0.043145,    0.042785,    0.042785,    0.042692,    0.042692,    0.042492,     0.04225,    0.041879,    0.041879,    0.041879,    0.041791,\n",
              "           0.041704,    0.041659,    0.040717,    0.040717,    0.040717,     0.04058,    0.040207,    0.040005,    0.039953,    0.039953,    0.039856,    0.039725,    0.039475,     0.03945,    0.039046,    0.039046,    0.038861,    0.038336,    0.038111,    0.037888,    0.037708,    0.037646,    0.037468,\n",
              "           0.037355,    0.037088,    0.036431,    0.036295,    0.036295,    0.035882,    0.035882,    0.035583,    0.035583,    0.034776,    0.034743,    0.033973,    0.033675,    0.033569,    0.033202,    0.033021,    0.032476,    0.031936,    0.031624,    0.031591,    0.031141,    0.031043,     0.03075,\n",
              "           0.030481,    0.030148,    0.029837,    0.029687,    0.028991,    0.028991,    0.028967,    0.027679,    0.027434,    0.027434,    0.027357,    0.027068,    0.025847,     0.02536,    0.025283,    0.025203,    0.025124,    0.025044,    0.024965,    0.024885,    0.024806,    0.024726,    0.024647,\n",
              "           0.024567,    0.024488,    0.024408,    0.024329,    0.024249,     0.02417,     0.02409,    0.024011,    0.023931,    0.023852,    0.023772,    0.023693,    0.023613,    0.023534,    0.023454,    0.023375,    0.023295,    0.023216,    0.023136,    0.023057,    0.022977,    0.022898,    0.022818,\n",
              "           0.022739,    0.022659,     0.02258,      0.0225,    0.022421,    0.022341,    0.022262,    0.022182,    0.022103,    0.022023,    0.021944,    0.021864,    0.021785,    0.021705,    0.021626,    0.021546,    0.021467,    0.021387,    0.021308,    0.021228,    0.021149,    0.021069,    0.020989,\n",
              "            0.02091,     0.02083,    0.020751,    0.020671,    0.020592,    0.020512,    0.020433,    0.020353,    0.020274,    0.020194,    0.020115,    0.020035,    0.019956,    0.019876,    0.019797,    0.019717,    0.019638,    0.019558,    0.019479,    0.019399,     0.01932,     0.01924,    0.019161,\n",
              "           0.019081,    0.019002,    0.018922,    0.018843,    0.018763,    0.018684,    0.018604,    0.018525,    0.018445,    0.018366,    0.018286,    0.018207,    0.018127,    0.018048,    0.017968,    0.017889,    0.017809,     0.01773,     0.01765,    0.017571,    0.017491,    0.017412,    0.017332,\n",
              "           0.017253,    0.017173,    0.017094,    0.017014,    0.016935,    0.016855,    0.016776,    0.016696,    0.016617,    0.016537,    0.016458,    0.016378,    0.016299,    0.016219,     0.01614,     0.01606,    0.015981,    0.015901,    0.015822,    0.015742,    0.015663,    0.015583,    0.015504,\n",
              "           0.015424,    0.015345,    0.015265,    0.015186,    0.015106,    0.015027,    0.014947,    0.014868,    0.014788,    0.014709,    0.014629,     0.01455,     0.01447,    0.014391,    0.014311,    0.014232,    0.014152,    0.014073,    0.013993,    0.013913,    0.013834,    0.013754,    0.013675,\n",
              "           0.013595,    0.013516,    0.013436,    0.013357,    0.013277,    0.013198,    0.013118,    0.013039,    0.012959,     0.01288,      0.0128,    0.012721,    0.012641,    0.012562,    0.012482,    0.012403,    0.012323,    0.012244,    0.012164,    0.012085,    0.012005,    0.011926,    0.011846,\n",
              "           0.011767,    0.011687,    0.011608,    0.011528,    0.011449,    0.011369,     0.01129,     0.01121,    0.011131,    0.011051,    0.010972,    0.010892,    0.010813,    0.010733,    0.010654,    0.010574,    0.010495,    0.010415,    0.010336,    0.010256,    0.010177,    0.010097,    0.010018,\n",
              "          0.0099382,   0.0098587,   0.0097792,   0.0096997,   0.0096202,   0.0095407,   0.0094612,   0.0093817,   0.0093022,   0.0092227,   0.0091432,   0.0090636,   0.0089841,   0.0089046,   0.0088251,   0.0087456,   0.0086661,   0.0085866,   0.0085071,   0.0084276,   0.0083481,   0.0082686,   0.0081891,\n",
              "          0.0081096,   0.0080301,   0.0079506,   0.0078711,   0.0077916,   0.0077121,   0.0076325,    0.007553,   0.0074735,    0.007394,   0.0073145,    0.007235,   0.0071555,    0.007076,   0.0069965,    0.006917,   0.0068375,    0.006758,   0.0066785,    0.006599,   0.0065195,     0.00644,   0.0063605,\n",
              "          0.0062809,   0.0062014,   0.0061219,   0.0060424,   0.0059629,   0.0058834,   0.0058039,   0.0057244,   0.0056449,   0.0055654,   0.0054859,   0.0054064,   0.0053269,   0.0052474,   0.0051679,   0.0050884,   0.0050089,   0.0049294,   0.0048498,   0.0047703,   0.0046908,   0.0046113,   0.0045318,\n",
              "          0.0044523,   0.0043728,   0.0042933,   0.0042138,   0.0041343,   0.0040548,   0.0039753,   0.0038958,   0.0038163,   0.0037368,   0.0036573,   0.0035778,   0.0034982,   0.0034187,   0.0033392,   0.0032597,   0.0031802,   0.0031007,   0.0030212,   0.0029417,   0.0028622,   0.0027827,   0.0027032,\n",
              "          0.0026237,   0.0025442,   0.0024647,   0.0023852,   0.0023057,   0.0022262,   0.0021467,   0.0020671,   0.0019876,   0.0019081,   0.0018286,   0.0017491,   0.0016696,   0.0015901,   0.0015106,   0.0014311,   0.0013516,   0.0012721,   0.0011926,   0.0011131,   0.0010336,  0.00095407,  0.00087456,\n",
              "         0.00079506,  0.00071555,  0.00063605,  0.00055654,  0.00047703,  0.00039753,  0.00031802,  0.00023852,  0.00015901,  7.9506e-05,           0]]), 'Recall', 'Precision'], [array([          0,    0.001001,    0.002002,    0.003003,    0.004004,    0.005005,    0.006006,    0.007007,    0.008008,    0.009009,     0.01001,    0.011011,    0.012012,    0.013013,    0.014014,    0.015015,    0.016016,    0.017017,    0.018018,    0.019019,     0.02002,    0.021021,    0.022022,    0.023023,\n",
              "          0.024024,    0.025025,    0.026026,    0.027027,    0.028028,    0.029029,     0.03003,    0.031031,    0.032032,    0.033033,    0.034034,    0.035035,    0.036036,    0.037037,    0.038038,    0.039039,     0.04004,    0.041041,    0.042042,    0.043043,    0.044044,    0.045045,    0.046046,    0.047047,\n",
              "          0.048048,    0.049049,     0.05005,    0.051051,    0.052052,    0.053053,    0.054054,    0.055055,    0.056056,    0.057057,    0.058058,    0.059059,     0.06006,    0.061061,    0.062062,    0.063063,    0.064064,    0.065065,    0.066066,    0.067067,    0.068068,    0.069069,     0.07007,    0.071071,\n",
              "          0.072072,    0.073073,    0.074074,    0.075075,    0.076076,    0.077077,    0.078078,    0.079079,     0.08008,    0.081081,    0.082082,    0.083083,    0.084084,    0.085085,    0.086086,    0.087087,    0.088088,    0.089089,     0.09009,    0.091091,    0.092092,    0.093093,    0.094094,    0.095095,\n",
              "          0.096096,    0.097097,    0.098098,    0.099099,      0.1001,      0.1011,      0.1021,      0.1031,      0.1041,     0.10511,     0.10611,     0.10711,     0.10811,     0.10911,     0.11011,     0.11111,     0.11211,     0.11311,     0.11411,     0.11512,     0.11612,     0.11712,     0.11812,     0.11912,\n",
              "           0.12012,     0.12112,     0.12212,     0.12312,     0.12412,     0.12513,     0.12613,     0.12713,     0.12813,     0.12913,     0.13013,     0.13113,     0.13213,     0.13313,     0.13413,     0.13514,     0.13614,     0.13714,     0.13814,     0.13914,     0.14014,     0.14114,     0.14214,     0.14314,\n",
              "           0.14414,     0.14515,     0.14615,     0.14715,     0.14815,     0.14915,     0.15015,     0.15115,     0.15215,     0.15315,     0.15415,     0.15516,     0.15616,     0.15716,     0.15816,     0.15916,     0.16016,     0.16116,     0.16216,     0.16316,     0.16416,     0.16517,     0.16617,     0.16717,\n",
              "           0.16817,     0.16917,     0.17017,     0.17117,     0.17217,     0.17317,     0.17417,     0.17518,     0.17618,     0.17718,     0.17818,     0.17918,     0.18018,     0.18118,     0.18218,     0.18318,     0.18418,     0.18519,     0.18619,     0.18719,     0.18819,     0.18919,     0.19019,     0.19119,\n",
              "           0.19219,     0.19319,     0.19419,      0.1952,      0.1962,      0.1972,      0.1982,      0.1992,      0.2002,      0.2012,      0.2022,      0.2032,      0.2042,     0.20521,     0.20621,     0.20721,     0.20821,     0.20921,     0.21021,     0.21121,     0.21221,     0.21321,     0.21421,     0.21522,\n",
              "           0.21622,     0.21722,     0.21822,     0.21922,     0.22022,     0.22122,     0.22222,     0.22322,     0.22422,     0.22523,     0.22623,     0.22723,     0.22823,     0.22923,     0.23023,     0.23123,     0.23223,     0.23323,     0.23423,     0.23524,     0.23624,     0.23724,     0.23824,     0.23924,\n",
              "           0.24024,     0.24124,     0.24224,     0.24324,     0.24424,     0.24525,     0.24625,     0.24725,     0.24825,     0.24925,     0.25025,     0.25125,     0.25225,     0.25325,     0.25425,     0.25526,     0.25626,     0.25726,     0.25826,     0.25926,     0.26026,     0.26126,     0.26226,     0.26326,\n",
              "           0.26426,     0.26527,     0.26627,     0.26727,     0.26827,     0.26927,     0.27027,     0.27127,     0.27227,     0.27327,     0.27427,     0.27528,     0.27628,     0.27728,     0.27828,     0.27928,     0.28028,     0.28128,     0.28228,     0.28328,     0.28428,     0.28529,     0.28629,     0.28729,\n",
              "           0.28829,     0.28929,     0.29029,     0.29129,     0.29229,     0.29329,     0.29429,      0.2953,      0.2963,      0.2973,      0.2983,      0.2993,      0.3003,      0.3013,      0.3023,      0.3033,      0.3043,     0.30531,     0.30631,     0.30731,     0.30831,     0.30931,     0.31031,     0.31131,\n",
              "           0.31231,     0.31331,     0.31431,     0.31532,     0.31632,     0.31732,     0.31832,     0.31932,     0.32032,     0.32132,     0.32232,     0.32332,     0.32432,     0.32533,     0.32633,     0.32733,     0.32833,     0.32933,     0.33033,     0.33133,     0.33233,     0.33333,     0.33433,     0.33534,\n",
              "           0.33634,     0.33734,     0.33834,     0.33934,     0.34034,     0.34134,     0.34234,     0.34334,     0.34434,     0.34535,     0.34635,     0.34735,     0.34835,     0.34935,     0.35035,     0.35135,     0.35235,     0.35335,     0.35435,     0.35536,     0.35636,     0.35736,     0.35836,     0.35936,\n",
              "           0.36036,     0.36136,     0.36236,     0.36336,     0.36436,     0.36537,     0.36637,     0.36737,     0.36837,     0.36937,     0.37037,     0.37137,     0.37237,     0.37337,     0.37437,     0.37538,     0.37638,     0.37738,     0.37838,     0.37938,     0.38038,     0.38138,     0.38238,     0.38338,\n",
              "           0.38438,     0.38539,     0.38639,     0.38739,     0.38839,     0.38939,     0.39039,     0.39139,     0.39239,     0.39339,     0.39439,      0.3954,      0.3964,      0.3974,      0.3984,      0.3994,      0.4004,      0.4014,      0.4024,      0.4034,      0.4044,     0.40541,     0.40641,     0.40741,\n",
              "           0.40841,     0.40941,     0.41041,     0.41141,     0.41241,     0.41341,     0.41441,     0.41542,     0.41642,     0.41742,     0.41842,     0.41942,     0.42042,     0.42142,     0.42242,     0.42342,     0.42442,     0.42543,     0.42643,     0.42743,     0.42843,     0.42943,     0.43043,     0.43143,\n",
              "           0.43243,     0.43343,     0.43443,     0.43544,     0.43644,     0.43744,     0.43844,     0.43944,     0.44044,     0.44144,     0.44244,     0.44344,     0.44444,     0.44545,     0.44645,     0.44745,     0.44845,     0.44945,     0.45045,     0.45145,     0.45245,     0.45345,     0.45445,     0.45546,\n",
              "           0.45646,     0.45746,     0.45846,     0.45946,     0.46046,     0.46146,     0.46246,     0.46346,     0.46446,     0.46547,     0.46647,     0.46747,     0.46847,     0.46947,     0.47047,     0.47147,     0.47247,     0.47347,     0.47447,     0.47548,     0.47648,     0.47748,     0.47848,     0.47948,\n",
              "           0.48048,     0.48148,     0.48248,     0.48348,     0.48448,     0.48549,     0.48649,     0.48749,     0.48849,     0.48949,     0.49049,     0.49149,     0.49249,     0.49349,     0.49449,      0.4955,      0.4965,      0.4975,      0.4985,      0.4995,      0.5005,      0.5015,      0.5025,      0.5035,\n",
              "            0.5045,     0.50551,     0.50651,     0.50751,     0.50851,     0.50951,     0.51051,     0.51151,     0.51251,     0.51351,     0.51451,     0.51552,     0.51652,     0.51752,     0.51852,     0.51952,     0.52052,     0.52152,     0.52252,     0.52352,     0.52452,     0.52553,     0.52653,     0.52753,\n",
              "           0.52853,     0.52953,     0.53053,     0.53153,     0.53253,     0.53353,     0.53453,     0.53554,     0.53654,     0.53754,     0.53854,     0.53954,     0.54054,     0.54154,     0.54254,     0.54354,     0.54454,     0.54555,     0.54655,     0.54755,     0.54855,     0.54955,     0.55055,     0.55155,\n",
              "           0.55255,     0.55355,     0.55455,     0.55556,     0.55656,     0.55756,     0.55856,     0.55956,     0.56056,     0.56156,     0.56256,     0.56356,     0.56456,     0.56557,     0.56657,     0.56757,     0.56857,     0.56957,     0.57057,     0.57157,     0.57257,     0.57357,     0.57457,     0.57558,\n",
              "           0.57658,     0.57758,     0.57858,     0.57958,     0.58058,     0.58158,     0.58258,     0.58358,     0.58458,     0.58559,     0.58659,     0.58759,     0.58859,     0.58959,     0.59059,     0.59159,     0.59259,     0.59359,     0.59459,      0.5956,      0.5966,      0.5976,      0.5986,      0.5996,\n",
              "            0.6006,      0.6016,      0.6026,      0.6036,      0.6046,     0.60561,     0.60661,     0.60761,     0.60861,     0.60961,     0.61061,     0.61161,     0.61261,     0.61361,     0.61461,     0.61562,     0.61662,     0.61762,     0.61862,     0.61962,     0.62062,     0.62162,     0.62262,     0.62362,\n",
              "           0.62462,     0.62563,     0.62663,     0.62763,     0.62863,     0.62963,     0.63063,     0.63163,     0.63263,     0.63363,     0.63463,     0.63564,     0.63664,     0.63764,     0.63864,     0.63964,     0.64064,     0.64164,     0.64264,     0.64364,     0.64464,     0.64565,     0.64665,     0.64765,\n",
              "           0.64865,     0.64965,     0.65065,     0.65165,     0.65265,     0.65365,     0.65465,     0.65566,     0.65666,     0.65766,     0.65866,     0.65966,     0.66066,     0.66166,     0.66266,     0.66366,     0.66466,     0.66567,     0.66667,     0.66767,     0.66867,     0.66967,     0.67067,     0.67167,\n",
              "           0.67267,     0.67367,     0.67467,     0.67568,     0.67668,     0.67768,     0.67868,     0.67968,     0.68068,     0.68168,     0.68268,     0.68368,     0.68468,     0.68569,     0.68669,     0.68769,     0.68869,     0.68969,     0.69069,     0.69169,     0.69269,     0.69369,     0.69469,      0.6957,\n",
              "            0.6967,      0.6977,      0.6987,      0.6997,      0.7007,      0.7017,      0.7027,      0.7037,      0.7047,     0.70571,     0.70671,     0.70771,     0.70871,     0.70971,     0.71071,     0.71171,     0.71271,     0.71371,     0.71471,     0.71572,     0.71672,     0.71772,     0.71872,     0.71972,\n",
              "           0.72072,     0.72172,     0.72272,     0.72372,     0.72472,     0.72573,     0.72673,     0.72773,     0.72873,     0.72973,     0.73073,     0.73173,     0.73273,     0.73373,     0.73473,     0.73574,     0.73674,     0.73774,     0.73874,     0.73974,     0.74074,     0.74174,     0.74274,     0.74374,\n",
              "           0.74474,     0.74575,     0.74675,     0.74775,     0.74875,     0.74975,     0.75075,     0.75175,     0.75275,     0.75375,     0.75475,     0.75576,     0.75676,     0.75776,     0.75876,     0.75976,     0.76076,     0.76176,     0.76276,     0.76376,     0.76476,     0.76577,     0.76677,     0.76777,\n",
              "           0.76877,     0.76977,     0.77077,     0.77177,     0.77277,     0.77377,     0.77477,     0.77578,     0.77678,     0.77778,     0.77878,     0.77978,     0.78078,     0.78178,     0.78278,     0.78378,     0.78478,     0.78579,     0.78679,     0.78779,     0.78879,     0.78979,     0.79079,     0.79179,\n",
              "           0.79279,     0.79379,     0.79479,      0.7958,      0.7968,      0.7978,      0.7988,      0.7998,      0.8008,      0.8018,      0.8028,      0.8038,      0.8048,     0.80581,     0.80681,     0.80781,     0.80881,     0.80981,     0.81081,     0.81181,     0.81281,     0.81381,     0.81481,     0.81582,\n",
              "           0.81682,     0.81782,     0.81882,     0.81982,     0.82082,     0.82182,     0.82282,     0.82382,     0.82482,     0.82583,     0.82683,     0.82783,     0.82883,     0.82983,     0.83083,     0.83183,     0.83283,     0.83383,     0.83483,     0.83584,     0.83684,     0.83784,     0.83884,     0.83984,\n",
              "           0.84084,     0.84184,     0.84284,     0.84384,     0.84484,     0.84585,     0.84685,     0.84785,     0.84885,     0.84985,     0.85085,     0.85185,     0.85285,     0.85385,     0.85485,     0.85586,     0.85686,     0.85786,     0.85886,     0.85986,     0.86086,     0.86186,     0.86286,     0.86386,\n",
              "           0.86486,     0.86587,     0.86687,     0.86787,     0.86887,     0.86987,     0.87087,     0.87187,     0.87287,     0.87387,     0.87487,     0.87588,     0.87688,     0.87788,     0.87888,     0.87988,     0.88088,     0.88188,     0.88288,     0.88388,     0.88488,     0.88589,     0.88689,     0.88789,\n",
              "           0.88889,     0.88989,     0.89089,     0.89189,     0.89289,     0.89389,     0.89489,      0.8959,      0.8969,      0.8979,      0.8989,      0.8999,      0.9009,      0.9019,      0.9029,      0.9039,      0.9049,     0.90591,     0.90691,     0.90791,     0.90891,     0.90991,     0.91091,     0.91191,\n",
              "           0.91291,     0.91391,     0.91491,     0.91592,     0.91692,     0.91792,     0.91892,     0.91992,     0.92092,     0.92192,     0.92292,     0.92392,     0.92492,     0.92593,     0.92693,     0.92793,     0.92893,     0.92993,     0.93093,     0.93193,     0.93293,     0.93393,     0.93493,     0.93594,\n",
              "           0.93694,     0.93794,     0.93894,     0.93994,     0.94094,     0.94194,     0.94294,     0.94394,     0.94494,     0.94595,     0.94695,     0.94795,     0.94895,     0.94995,     0.95095,     0.95195,     0.95295,     0.95395,     0.95495,     0.95596,     0.95696,     0.95796,     0.95896,     0.95996,\n",
              "           0.96096,     0.96196,     0.96296,     0.96396,     0.96496,     0.96597,     0.96697,     0.96797,     0.96897,     0.96997,     0.97097,     0.97197,     0.97297,     0.97397,     0.97497,     0.97598,     0.97698,     0.97798,     0.97898,     0.97998,     0.98098,     0.98198,     0.98298,     0.98398,\n",
              "           0.98498,     0.98599,     0.98699,     0.98799,     0.98899,     0.98999,     0.99099,     0.99199,     0.99299,     0.99399,     0.99499,       0.996,       0.997,       0.998,       0.999,           1]), array([[   0.048872,    0.048872,     0.05176,    0.054397,    0.057549,    0.061079,    0.064638,     0.06848,    0.071875,    0.075087,     0.07829,    0.081914,    0.084534,    0.088521,    0.092842,    0.096535,     0.10078,     0.10313,     0.10669,     0.11037,     0.11462,     0.11847,     0.12182,\n",
              "            0.12559,     0.13015,     0.13337,     0.13671,     0.14012,     0.14329,     0.14708,     0.15182,     0.15387,     0.15608,     0.15835,     0.16112,     0.16459,     0.16766,     0.17203,     0.17614,     0.17699,     0.18128,     0.18373,     0.18563,     0.18917,     0.19232,     0.19445,\n",
              "            0.19764,      0.1988,     0.20157,     0.20137,     0.20381,     0.20638,      0.2096,      0.2127,     0.21484,     0.21765,      0.2209,     0.22239,     0.22517,     0.22618,     0.22885,     0.23036,     0.23233,     0.23455,     0.23649,     0.23576,     0.23879,     0.23977,     0.23958,\n",
              "            0.23969,     0.24028,     0.24092,     0.24221,     0.24332,     0.24544,     0.24496,     0.24605,     0.24665,     0.24915,     0.25134,     0.25227,     0.25303,     0.25381,     0.25449,     0.25591,     0.25689,     0.25845,     0.26037,     0.26187,     0.26406,     0.26471,     0.26647,\n",
              "            0.26699,     0.26839,      0.2698,     0.27095,      0.2695,     0.26935,     0.27002,     0.27121,      0.2742,     0.27602,       0.278,     0.28018,     0.28134,     0.28263,     0.28147,     0.28277,     0.28258,     0.28128,     0.28245,     0.28213,     0.28384,     0.28237,      0.2828,\n",
              "            0.28234,     0.28278,     0.28295,     0.28221,      0.2816,     0.28164,     0.28154,     0.28317,     0.28429,     0.28244,     0.28189,     0.28207,     0.28225,     0.28325,     0.28273,     0.28095,     0.28151,     0.28084,      0.2817,     0.28186,     0.28227,      0.2817,     0.28103,\n",
              "            0.28109,     0.28003,     0.27746,     0.27889,     0.27947,      0.2796,     0.28032,      0.2806,     0.28044,     0.28088,     0.27984,     0.28057,      0.2807,     0.27994,     0.28067,     0.28049,     0.28107,     0.27915,     0.27918,     0.27779,     0.27729,     0.27894,     0.27795,\n",
              "            0.27697,     0.27599,     0.27702,     0.27558,     0.27578,     0.27573,     0.27417,     0.27284,     0.27309,     0.27269,     0.27277,     0.27238,     0.27279,     0.27192,     0.27202,     0.27243,     0.27286,     0.27179,     0.27331,     0.27069,     0.27012,      0.2703,     0.27035,\n",
              "            0.26871,     0.26926,      0.2693,     0.26972,     0.27006,     0.27014,     0.27055,     0.27064,     0.26874,     0.26927,     0.26953,     0.26995,     0.26911,     0.26961,     0.26692,     0.26625,     0.26689,     0.26611,     0.26624,     0.26709,     0.26482,     0.26408,     0.26374,\n",
              "            0.26236,     0.26222,     0.26255,     0.26312,     0.26257,     0.26271,     0.26295,     0.26234,     0.26033,     0.26062,     0.26075,     0.25867,     0.25891,     0.25931,     0.25956,     0.25763,     0.25739,     0.25605,     0.25531,      0.2557,     0.25495,     0.25424,     0.25376,\n",
              "            0.24921,     0.24929,     0.24937,     0.25018,      0.2503,     0.24829,      0.2464,     0.24667,     0.24678,     0.24511,     0.24554,     0.24566,     0.24511,     0.24485,     0.24279,     0.24101,     0.24122,     0.24061,     0.23983,     0.23952,     0.23959,      0.2397,     0.23923,\n",
              "             0.2383,     0.23767,     0.23525,     0.23281,     0.23197,     0.23218,     0.23229,     0.23171,     0.23062,     0.23068,     0.22982,     0.22925,     0.22803,     0.22823,      0.2286,     0.22761,     0.22547,     0.22466,     0.22469,     0.22498,     0.22467,      0.2235,     0.22362,\n",
              "             0.2228,     0.22051,      0.2182,     0.21833,     0.21724,      0.2173,     0.21727,     0.21621,     0.21638,     0.21656,      0.2156,     0.21342,     0.21289,     0.21256,     0.21147,     0.21167,     0.21013,     0.20941,     0.20937,     0.20661,     0.20425,      0.2034,     0.20214,\n",
              "            0.20218,      0.2023,      0.2015,      0.2016,      0.2017,     0.19777,     0.19703,     0.19686,     0.19506,     0.19424,     0.19327,     0.19344,     0.19004,     0.18779,     0.18709,     0.18597,     0.18605,     0.18613,     0.18621,     0.18518,     0.18535,     0.18539,     0.18543,\n",
              "            0.18516,     0.18463,     0.18417,     0.18422,     0.18368,     0.18315,     0.18321,     0.18351,     0.18391,     0.18383,     0.18306,     0.18197,     0.18147,     0.18155,     0.18063,     0.18063,     0.17986,     0.17947,     0.17952,     0.17957,     0.17962,     0.17967,     0.17972,\n",
              "            0.17979,     0.17943,     0.17885,     0.17677,     0.17511,     0.17518,     0.17531,     0.17571,     0.17538,     0.17153,     0.17074,     0.17047,     0.17049,     0.17051,     0.17053,     0.17054,     0.17056,     0.17058,     0.16942,     0.16965,     0.16972,     0.16982,     0.16998,\n",
              "            0.17011,     0.17037,     0.17027,      0.1694,     0.16945,      0.1695,     0.16985,     0.16861,     0.16874,     0.16902,     0.16916,     0.16929,     0.16802,     0.16627,     0.16508,     0.16437,     0.16203,     0.16121,     0.16135,     0.15952,     0.15881,      0.1587,     0.15736,\n",
              "            0.15739,     0.15743,     0.15746,     0.15631,     0.15504,      0.1551,     0.15342,      0.1527,     0.15106,     0.15113,     0.15124,     0.15012,     0.14859,     0.14865,     0.14876,     0.14911,     0.14924,      0.1493,     0.14949,      0.1492,     0.14785,     0.14532,     0.14507,\n",
              "            0.14481,     0.14455,      0.1443,     0.14404,     0.14294,     0.14147,     0.13978,     0.13982,     0.13985,     0.13928,     0.13853,     0.13858,     0.13695,     0.13429,     0.13292,     0.13295,     0.13298,       0.133,     0.13257,     0.13157,     0.13161,     0.13165,     0.13069,\n",
              "            0.12919,     0.12857,     0.12819,     0.12781,     0.12744,     0.12616,     0.12449,     0.12323,     0.12311,     0.12321,     0.12327,     0.12332,     0.12283,     0.12232,     0.12184,     0.12187,      0.1219,     0.12184,     0.12097,     0.11909,     0.11916,     0.11921,     0.11928,\n",
              "            0.11866,     0.11712,     0.11408,     0.11253,     0.11099,     0.11034,     0.10995,     0.10956,     0.10917,     0.10913,     0.10926,     0.10929,     0.10932,     0.10749,     0.10709,      0.1067,     0.10631,     0.10632,     0.10636,     0.10486,     0.10488,      0.1049,     0.10493,\n",
              "            0.10502,      0.1051,     0.10512,     0.10514,     0.10516,      0.1052,     0.10528,     0.10537,     0.10499,     0.10391,     0.10395,      0.1037,     0.10291,     0.10237,     0.10158,     0.10078,    0.099989,    0.099433,    0.099115,    0.098796,    0.098478,     0.09816,    0.096535,\n",
              "           0.096576,    0.096597,    0.096617,    0.096637,    0.096047,    0.095248,    0.094447,    0.093646,    0.093542,    0.093568,    0.093594,    0.093632,    0.093672,    0.092899,    0.092095,     0.09129,     0.09054,     0.09054,    0.089734,    0.088963,    0.088424,    0.087886,    0.085812,\n",
              "           0.085488,    0.085164,    0.084839,    0.084515,    0.084301,    0.084313,    0.084325,    0.084337,    0.084349,    0.084361,     0.08398,    0.083167,    0.082568,    0.082161,    0.081754,    0.081347,    0.080854,    0.080311,    0.079767,    0.079618,     0.07964,    0.079663,    0.079039,\n",
              "           0.078222,    0.077738,    0.077329,    0.076919,     0.07651,    0.075474,     0.07489,    0.074922,    0.074113,     0.07335,    0.073381,    0.073431,    0.073126,    0.072577,    0.072027,    0.070735,    0.068388,    0.068057,    0.067725,    0.067393,    0.067062,    0.065642,    0.065405,\n",
              "           0.065433,    0.063824,    0.063838,    0.063852,    0.063865,    0.063873,     0.06388,    0.063888,    0.063895,    0.063902,     0.06391,    0.063917,    0.063924,    0.063931,    0.063938,    0.063945,    0.063952,    0.063959,    0.063965,    0.063972,    0.064005,     0.06335,    0.062399,\n",
              "            0.06241,    0.062421,    0.062432,    0.062442,    0.060818,    0.060831,    0.060845,    0.060858,    0.060135,    0.059194,    0.058772,    0.058351,    0.057929,    0.057468,    0.056905,    0.056342,    0.056084,    0.056108,    0.055848,    0.055169,    0.054491,    0.052856,    0.051195,\n",
              "           0.051199,    0.051203,    0.051206,     0.05121,    0.051214,    0.051218,    0.051222,    0.051226,     0.05123,    0.051234,    0.051237,    0.050333,    0.049004,    0.047919,    0.046277,    0.046289,      0.0463,    0.046312,     0.04465,    0.044655,    0.044605,     0.04296,    0.042467,\n",
              "           0.041974,    0.041481,    0.037897,    0.037795,    0.037693,    0.037591,    0.037489,    0.037387,    0.037285,    0.037182,     0.03708,    0.036978,    0.036876,    0.036774,    0.036672,    0.036569,    0.036467,    0.036365,    0.036157,    0.034573,    0.034584,    0.034594,    0.034562,\n",
              "           0.034313,    0.034063,    0.033814,    0.033565,    0.033316,    0.033067,    0.032902,    0.032908,    0.032914,     0.03292,    0.032926,    0.032752,    0.032364,    0.031975,    0.031586,    0.031223,    0.031229,    0.031235,     0.03124,    0.031246,    0.030921,    0.029391,    0.028688,\n",
              "           0.027986,    0.025429,    0.024547,    0.022583,    0.022331,    0.022078,    0.021826,    0.021573,     0.02132,    0.021068,    0.020764,    0.020409,    0.020055,    0.019701,    0.019346,    0.018936,    0.018492,    0.018049,    0.017605,    0.017486,     0.01749,    0.017495,     0.01744,\n",
              "           0.017253,    0.017065,    0.016878,    0.016691,    0.016503,    0.016316,    0.016129,    0.015941,    0.015762,    0.015764,    0.015766,    0.015769,    0.015771,    0.015773,    0.015775,    0.014942,    0.014036,    0.014042,    0.014046,    0.014062,    0.014066,    0.014069,    0.014072,\n",
              "           0.014073,    0.014073,    0.014073,    0.014074,    0.014074,    0.014075,    0.014075,    0.014076,    0.014076,    0.014077,    0.014077,    0.014078,    0.014078,    0.014078,    0.014079,    0.014079,     0.01408,     0.01408,     0.01408,    0.014081,    0.014081,    0.014082,    0.014082,\n",
              "           0.014083,    0.014083,    0.014083,    0.014084,    0.014084,     0.01405,    0.013751,    0.013452,    0.013153,    0.012854,    0.012555,     0.01202,    0.010823,    0.010495,    0.010386,    0.010277,    0.010168,    0.010059,   0.0099496,   0.0098406,   0.0097315,   0.0096224,   0.0095133,\n",
              "          0.0094042,   0.0092951,    0.009186,   0.0090769,   0.0089678,   0.0088586,   0.0087445,   0.0086282,   0.0085119,   0.0083956,   0.0082794,    0.008163,   0.0080467,   0.0079304,   0.0078141,   0.0076978,   0.0075814,   0.0074651,   0.0073487,   0.0072323,    0.007116,   0.0070677,   0.0070687,\n",
              "          0.0070696,   0.0070704,   0.0070713,   0.0070721,   0.0070728,    0.007074,    0.007076,   0.0070778,   0.0070794,   0.0070799,   0.0070802,   0.0070805,   0.0070808,    0.007081,   0.0070813,   0.0070816,   0.0070819,   0.0070821,   0.0070824,   0.0070826,   0.0070829,   0.0070831,   0.0070833,\n",
              "          0.0070836,   0.0070838,    0.007084,   0.0070843,   0.0070845,   0.0070847,   0.0070849,   0.0070851,   0.0070853,   0.0070855,   0.0070857,   0.0070859,   0.0066352,   0.0061826,   0.0057297,   0.0052965,   0.0050548,    0.004813,   0.0045712,   0.0043293,   0.0040873,   0.0038453,   0.0036033,\n",
              "          0.0028437,   0.0019347,           0,           0,           0,           0,           0,           0,           0,           0,           0,           0,           0,           0,           0,           0,           0,           0,           0,           0,           0,           0,           0,\n",
              "                  0,           0,           0,           0,           0,           0,           0,           0,           0,           0,           0,           0,           0,           0,           0,           0,           0,           0,           0,           0,           0,           0,           0,\n",
              "                  0,           0,           0,           0,           0,           0,           0,           0,           0,           0,           0,           0,           0,           0,           0,           0,           0,           0,           0,           0,           0,           0,           0,\n",
              "                  0,           0,           0,           0,           0,           0,           0,           0,           0,           0,           0,           0,           0,           0,           0,           0,           0,           0,           0,           0,           0,           0,           0,\n",
              "                  0,           0,           0,           0,           0,           0,           0,           0,           0,           0,           0,           0,           0,           0,           0,           0,           0,           0,           0,           0,           0,           0,           0,\n",
              "                  0,           0,           0,           0,           0,           0,           0,           0,           0,           0,           0,           0,           0,           0,           0,           0,           0,           0,           0,           0,           0,           0,           0,\n",
              "                  0,           0,           0,           0,           0,           0,           0,           0,           0,           0,           0]]), 'Confidence', 'F1'], [array([          0,    0.001001,    0.002002,    0.003003,    0.004004,    0.005005,    0.006006,    0.007007,    0.008008,    0.009009,     0.01001,    0.011011,    0.012012,    0.013013,    0.014014,    0.015015,    0.016016,    0.017017,    0.018018,    0.019019,     0.02002,    0.021021,    0.022022,    0.023023,\n",
              "          0.024024,    0.025025,    0.026026,    0.027027,    0.028028,    0.029029,     0.03003,    0.031031,    0.032032,    0.033033,    0.034034,    0.035035,    0.036036,    0.037037,    0.038038,    0.039039,     0.04004,    0.041041,    0.042042,    0.043043,    0.044044,    0.045045,    0.046046,    0.047047,\n",
              "          0.048048,    0.049049,     0.05005,    0.051051,    0.052052,    0.053053,    0.054054,    0.055055,    0.056056,    0.057057,    0.058058,    0.059059,     0.06006,    0.061061,    0.062062,    0.063063,    0.064064,    0.065065,    0.066066,    0.067067,    0.068068,    0.069069,     0.07007,    0.071071,\n",
              "          0.072072,    0.073073,    0.074074,    0.075075,    0.076076,    0.077077,    0.078078,    0.079079,     0.08008,    0.081081,    0.082082,    0.083083,    0.084084,    0.085085,    0.086086,    0.087087,    0.088088,    0.089089,     0.09009,    0.091091,    0.092092,    0.093093,    0.094094,    0.095095,\n",
              "          0.096096,    0.097097,    0.098098,    0.099099,      0.1001,      0.1011,      0.1021,      0.1031,      0.1041,     0.10511,     0.10611,     0.10711,     0.10811,     0.10911,     0.11011,     0.11111,     0.11211,     0.11311,     0.11411,     0.11512,     0.11612,     0.11712,     0.11812,     0.11912,\n",
              "           0.12012,     0.12112,     0.12212,     0.12312,     0.12412,     0.12513,     0.12613,     0.12713,     0.12813,     0.12913,     0.13013,     0.13113,     0.13213,     0.13313,     0.13413,     0.13514,     0.13614,     0.13714,     0.13814,     0.13914,     0.14014,     0.14114,     0.14214,     0.14314,\n",
              "           0.14414,     0.14515,     0.14615,     0.14715,     0.14815,     0.14915,     0.15015,     0.15115,     0.15215,     0.15315,     0.15415,     0.15516,     0.15616,     0.15716,     0.15816,     0.15916,     0.16016,     0.16116,     0.16216,     0.16316,     0.16416,     0.16517,     0.16617,     0.16717,\n",
              "           0.16817,     0.16917,     0.17017,     0.17117,     0.17217,     0.17317,     0.17417,     0.17518,     0.17618,     0.17718,     0.17818,     0.17918,     0.18018,     0.18118,     0.18218,     0.18318,     0.18418,     0.18519,     0.18619,     0.18719,     0.18819,     0.18919,     0.19019,     0.19119,\n",
              "           0.19219,     0.19319,     0.19419,      0.1952,      0.1962,      0.1972,      0.1982,      0.1992,      0.2002,      0.2012,      0.2022,      0.2032,      0.2042,     0.20521,     0.20621,     0.20721,     0.20821,     0.20921,     0.21021,     0.21121,     0.21221,     0.21321,     0.21421,     0.21522,\n",
              "           0.21622,     0.21722,     0.21822,     0.21922,     0.22022,     0.22122,     0.22222,     0.22322,     0.22422,     0.22523,     0.22623,     0.22723,     0.22823,     0.22923,     0.23023,     0.23123,     0.23223,     0.23323,     0.23423,     0.23524,     0.23624,     0.23724,     0.23824,     0.23924,\n",
              "           0.24024,     0.24124,     0.24224,     0.24324,     0.24424,     0.24525,     0.24625,     0.24725,     0.24825,     0.24925,     0.25025,     0.25125,     0.25225,     0.25325,     0.25425,     0.25526,     0.25626,     0.25726,     0.25826,     0.25926,     0.26026,     0.26126,     0.26226,     0.26326,\n",
              "           0.26426,     0.26527,     0.26627,     0.26727,     0.26827,     0.26927,     0.27027,     0.27127,     0.27227,     0.27327,     0.27427,     0.27528,     0.27628,     0.27728,     0.27828,     0.27928,     0.28028,     0.28128,     0.28228,     0.28328,     0.28428,     0.28529,     0.28629,     0.28729,\n",
              "           0.28829,     0.28929,     0.29029,     0.29129,     0.29229,     0.29329,     0.29429,      0.2953,      0.2963,      0.2973,      0.2983,      0.2993,      0.3003,      0.3013,      0.3023,      0.3033,      0.3043,     0.30531,     0.30631,     0.30731,     0.30831,     0.30931,     0.31031,     0.31131,\n",
              "           0.31231,     0.31331,     0.31431,     0.31532,     0.31632,     0.31732,     0.31832,     0.31932,     0.32032,     0.32132,     0.32232,     0.32332,     0.32432,     0.32533,     0.32633,     0.32733,     0.32833,     0.32933,     0.33033,     0.33133,     0.33233,     0.33333,     0.33433,     0.33534,\n",
              "           0.33634,     0.33734,     0.33834,     0.33934,     0.34034,     0.34134,     0.34234,     0.34334,     0.34434,     0.34535,     0.34635,     0.34735,     0.34835,     0.34935,     0.35035,     0.35135,     0.35235,     0.35335,     0.35435,     0.35536,     0.35636,     0.35736,     0.35836,     0.35936,\n",
              "           0.36036,     0.36136,     0.36236,     0.36336,     0.36436,     0.36537,     0.36637,     0.36737,     0.36837,     0.36937,     0.37037,     0.37137,     0.37237,     0.37337,     0.37437,     0.37538,     0.37638,     0.37738,     0.37838,     0.37938,     0.38038,     0.38138,     0.38238,     0.38338,\n",
              "           0.38438,     0.38539,     0.38639,     0.38739,     0.38839,     0.38939,     0.39039,     0.39139,     0.39239,     0.39339,     0.39439,      0.3954,      0.3964,      0.3974,      0.3984,      0.3994,      0.4004,      0.4014,      0.4024,      0.4034,      0.4044,     0.40541,     0.40641,     0.40741,\n",
              "           0.40841,     0.40941,     0.41041,     0.41141,     0.41241,     0.41341,     0.41441,     0.41542,     0.41642,     0.41742,     0.41842,     0.41942,     0.42042,     0.42142,     0.42242,     0.42342,     0.42442,     0.42543,     0.42643,     0.42743,     0.42843,     0.42943,     0.43043,     0.43143,\n",
              "           0.43243,     0.43343,     0.43443,     0.43544,     0.43644,     0.43744,     0.43844,     0.43944,     0.44044,     0.44144,     0.44244,     0.44344,     0.44444,     0.44545,     0.44645,     0.44745,     0.44845,     0.44945,     0.45045,     0.45145,     0.45245,     0.45345,     0.45445,     0.45546,\n",
              "           0.45646,     0.45746,     0.45846,     0.45946,     0.46046,     0.46146,     0.46246,     0.46346,     0.46446,     0.46547,     0.46647,     0.46747,     0.46847,     0.46947,     0.47047,     0.47147,     0.47247,     0.47347,     0.47447,     0.47548,     0.47648,     0.47748,     0.47848,     0.47948,\n",
              "           0.48048,     0.48148,     0.48248,     0.48348,     0.48448,     0.48549,     0.48649,     0.48749,     0.48849,     0.48949,     0.49049,     0.49149,     0.49249,     0.49349,     0.49449,      0.4955,      0.4965,      0.4975,      0.4985,      0.4995,      0.5005,      0.5015,      0.5025,      0.5035,\n",
              "            0.5045,     0.50551,     0.50651,     0.50751,     0.50851,     0.50951,     0.51051,     0.51151,     0.51251,     0.51351,     0.51451,     0.51552,     0.51652,     0.51752,     0.51852,     0.51952,     0.52052,     0.52152,     0.52252,     0.52352,     0.52452,     0.52553,     0.52653,     0.52753,\n",
              "           0.52853,     0.52953,     0.53053,     0.53153,     0.53253,     0.53353,     0.53453,     0.53554,     0.53654,     0.53754,     0.53854,     0.53954,     0.54054,     0.54154,     0.54254,     0.54354,     0.54454,     0.54555,     0.54655,     0.54755,     0.54855,     0.54955,     0.55055,     0.55155,\n",
              "           0.55255,     0.55355,     0.55455,     0.55556,     0.55656,     0.55756,     0.55856,     0.55956,     0.56056,     0.56156,     0.56256,     0.56356,     0.56456,     0.56557,     0.56657,     0.56757,     0.56857,     0.56957,     0.57057,     0.57157,     0.57257,     0.57357,     0.57457,     0.57558,\n",
              "           0.57658,     0.57758,     0.57858,     0.57958,     0.58058,     0.58158,     0.58258,     0.58358,     0.58458,     0.58559,     0.58659,     0.58759,     0.58859,     0.58959,     0.59059,     0.59159,     0.59259,     0.59359,     0.59459,      0.5956,      0.5966,      0.5976,      0.5986,      0.5996,\n",
              "            0.6006,      0.6016,      0.6026,      0.6036,      0.6046,     0.60561,     0.60661,     0.60761,     0.60861,     0.60961,     0.61061,     0.61161,     0.61261,     0.61361,     0.61461,     0.61562,     0.61662,     0.61762,     0.61862,     0.61962,     0.62062,     0.62162,     0.62262,     0.62362,\n",
              "           0.62462,     0.62563,     0.62663,     0.62763,     0.62863,     0.62963,     0.63063,     0.63163,     0.63263,     0.63363,     0.63463,     0.63564,     0.63664,     0.63764,     0.63864,     0.63964,     0.64064,     0.64164,     0.64264,     0.64364,     0.64464,     0.64565,     0.64665,     0.64765,\n",
              "           0.64865,     0.64965,     0.65065,     0.65165,     0.65265,     0.65365,     0.65465,     0.65566,     0.65666,     0.65766,     0.65866,     0.65966,     0.66066,     0.66166,     0.66266,     0.66366,     0.66466,     0.66567,     0.66667,     0.66767,     0.66867,     0.66967,     0.67067,     0.67167,\n",
              "           0.67267,     0.67367,     0.67467,     0.67568,     0.67668,     0.67768,     0.67868,     0.67968,     0.68068,     0.68168,     0.68268,     0.68368,     0.68468,     0.68569,     0.68669,     0.68769,     0.68869,     0.68969,     0.69069,     0.69169,     0.69269,     0.69369,     0.69469,      0.6957,\n",
              "            0.6967,      0.6977,      0.6987,      0.6997,      0.7007,      0.7017,      0.7027,      0.7037,      0.7047,     0.70571,     0.70671,     0.70771,     0.70871,     0.70971,     0.71071,     0.71171,     0.71271,     0.71371,     0.71471,     0.71572,     0.71672,     0.71772,     0.71872,     0.71972,\n",
              "           0.72072,     0.72172,     0.72272,     0.72372,     0.72472,     0.72573,     0.72673,     0.72773,     0.72873,     0.72973,     0.73073,     0.73173,     0.73273,     0.73373,     0.73473,     0.73574,     0.73674,     0.73774,     0.73874,     0.73974,     0.74074,     0.74174,     0.74274,     0.74374,\n",
              "           0.74474,     0.74575,     0.74675,     0.74775,     0.74875,     0.74975,     0.75075,     0.75175,     0.75275,     0.75375,     0.75475,     0.75576,     0.75676,     0.75776,     0.75876,     0.75976,     0.76076,     0.76176,     0.76276,     0.76376,     0.76476,     0.76577,     0.76677,     0.76777,\n",
              "           0.76877,     0.76977,     0.77077,     0.77177,     0.77277,     0.77377,     0.77477,     0.77578,     0.77678,     0.77778,     0.77878,     0.77978,     0.78078,     0.78178,     0.78278,     0.78378,     0.78478,     0.78579,     0.78679,     0.78779,     0.78879,     0.78979,     0.79079,     0.79179,\n",
              "           0.79279,     0.79379,     0.79479,      0.7958,      0.7968,      0.7978,      0.7988,      0.7998,      0.8008,      0.8018,      0.8028,      0.8038,      0.8048,     0.80581,     0.80681,     0.80781,     0.80881,     0.80981,     0.81081,     0.81181,     0.81281,     0.81381,     0.81481,     0.81582,\n",
              "           0.81682,     0.81782,     0.81882,     0.81982,     0.82082,     0.82182,     0.82282,     0.82382,     0.82482,     0.82583,     0.82683,     0.82783,     0.82883,     0.82983,     0.83083,     0.83183,     0.83283,     0.83383,     0.83483,     0.83584,     0.83684,     0.83784,     0.83884,     0.83984,\n",
              "           0.84084,     0.84184,     0.84284,     0.84384,     0.84484,     0.84585,     0.84685,     0.84785,     0.84885,     0.84985,     0.85085,     0.85185,     0.85285,     0.85385,     0.85485,     0.85586,     0.85686,     0.85786,     0.85886,     0.85986,     0.86086,     0.86186,     0.86286,     0.86386,\n",
              "           0.86486,     0.86587,     0.86687,     0.86787,     0.86887,     0.86987,     0.87087,     0.87187,     0.87287,     0.87387,     0.87487,     0.87588,     0.87688,     0.87788,     0.87888,     0.87988,     0.88088,     0.88188,     0.88288,     0.88388,     0.88488,     0.88589,     0.88689,     0.88789,\n",
              "           0.88889,     0.88989,     0.89089,     0.89189,     0.89289,     0.89389,     0.89489,      0.8959,      0.8969,      0.8979,      0.8989,      0.8999,      0.9009,      0.9019,      0.9029,      0.9039,      0.9049,     0.90591,     0.90691,     0.90791,     0.90891,     0.90991,     0.91091,     0.91191,\n",
              "           0.91291,     0.91391,     0.91491,     0.91592,     0.91692,     0.91792,     0.91892,     0.91992,     0.92092,     0.92192,     0.92292,     0.92392,     0.92492,     0.92593,     0.92693,     0.92793,     0.92893,     0.92993,     0.93093,     0.93193,     0.93293,     0.93393,     0.93493,     0.93594,\n",
              "           0.93694,     0.93794,     0.93894,     0.93994,     0.94094,     0.94194,     0.94294,     0.94394,     0.94494,     0.94595,     0.94695,     0.94795,     0.94895,     0.94995,     0.95095,     0.95195,     0.95295,     0.95395,     0.95495,     0.95596,     0.95696,     0.95796,     0.95896,     0.95996,\n",
              "           0.96096,     0.96196,     0.96296,     0.96396,     0.96496,     0.96597,     0.96697,     0.96797,     0.96897,     0.96997,     0.97097,     0.97197,     0.97297,     0.97397,     0.97497,     0.97598,     0.97698,     0.97798,     0.97898,     0.97998,     0.98098,     0.98198,     0.98298,     0.98398,\n",
              "           0.98498,     0.98599,     0.98699,     0.98799,     0.98899,     0.98999,     0.99099,     0.99199,     0.99299,     0.99399,     0.99499,       0.996,       0.997,       0.998,       0.999,           1]), array([[   0.025346,    0.025346,    0.026905,    0.028341,    0.030067,    0.032018,    0.033996,    0.036147,    0.038075,    0.039918,    0.041789,    0.043915,    0.045517,    0.047878,    0.050456,    0.052705,    0.055277,    0.056842,    0.059105,    0.061469,    0.064196,    0.066691,    0.068959,\n",
              "            0.07149,    0.074548,    0.076828,    0.079235,    0.081679,    0.084083,    0.086843,    0.090235,    0.091987,    0.093854,    0.095848,     0.09814,     0.10095,     0.10351,     0.10697,     0.11039,     0.11159,     0.11509,     0.11741,     0.11925,     0.12242,     0.12532,     0.12747,\n",
              "            0.13041,     0.13188,     0.13453,     0.13538,     0.13792,     0.14064,     0.14376,     0.14695,     0.14955,     0.15257,     0.15594,     0.15789,     0.16103,     0.16309,     0.16606,     0.16841,     0.17091,     0.17373,      0.1763,     0.17679,     0.18044,     0.18253,     0.18354,\n",
              "            0.18495,     0.18646,     0.18779,     0.18963,     0.19159,     0.19453,     0.19547,     0.19751,     0.19928,     0.20257,     0.20548,     0.20745,     0.20924,     0.21108,     0.21282,     0.21481,     0.21705,      0.2197,      0.2225,     0.22516,     0.22841,     0.22986,     0.23304,\n",
              "            0.23484,     0.23755,     0.24085,     0.24382,     0.24375,     0.24528,     0.24703,     0.24962,     0.25474,     0.25857,     0.26276,     0.26741,     0.26953,     0.27191,     0.27207,     0.27529,     0.27654,      0.2765,     0.27962,     0.28072,     0.28501,     0.28478,      0.2866,\n",
              "            0.28752,     0.28941,     0.29076,     0.29219,     0.29293,     0.29512,     0.29597,      0.2996,     0.30326,     0.30248,     0.30475,     0.30638,     0.30803,     0.31043,     0.31046,     0.30998,     0.31136,     0.31233,     0.31449,     0.31623,     0.31728,      0.3187,     0.31977,\n",
              "             0.3205,     0.32074,     0.31926,     0.32309,     0.32465,     0.32657,     0.32854,     0.33092,     0.33214,     0.33338,     0.33381,      0.3359,     0.33803,     0.33937,     0.34153,     0.34282,     0.34645,     0.34679,     0.34843,      0.3481,     0.34854,      0.3538,     0.35485,\n",
              "            0.35597,     0.35715,     0.36061,      0.3603,     0.36148,     0.36332,     0.36251,     0.36269,     0.36499,     0.36714,        0.37,     0.37122,     0.37272,     0.37367,     0.37524,      0.3768,     0.37848,     0.37998,     0.38597,     0.38504,     0.38514,     0.38589,     0.38708,\n",
              "            0.38542,      0.3878,     0.39116,     0.39292,     0.39436,     0.39473,     0.39647,     0.39687,     0.39533,     0.39766,     0.39879,     0.40064,     0.40037,     0.40261,     0.40116,     0.40171,     0.40463,     0.40474,     0.40534,     0.40927,     0.40918,     0.41043,     0.41224,\n",
              "              0.412,     0.41341,     0.41504,     0.41794,     0.41787,     0.42012,     0.42134,     0.42086,     0.42002,     0.42242,     0.42311,     0.42112,     0.42237,     0.42453,     0.42583,     0.42474,     0.42707,     0.42632,     0.42551,     0.42952,     0.42919,     0.43018,     0.43031,\n",
              "            0.42673,     0.42717,     0.42762,     0.43246,     0.43316,     0.43188,     0.43139,     0.43307,     0.43373,     0.43365,     0.43745,      0.4382,     0.44064,     0.44156,     0.44003,     0.43812,     0.43953,     0.44171,     0.44088,     0.44074,      0.4412,     0.44192,     0.44524,\n",
              "            0.44537,     0.45096,     0.44997,     0.44895,     0.44849,     0.45006,     0.45088,     0.45149,     0.45316,      0.4542,      0.4546,     0.45651,     0.45621,     0.45788,      0.4608,     0.46096,     0.46131,      0.4603,     0.46199,     0.46442,     0.46692,     0.46771,      0.4713,\n",
              "            0.47026,      0.4705,     0.46793,     0.46964,     0.46931,     0.46988,     0.47029,     0.46946,     0.47109,     0.47283,     0.47376,     0.47319,     0.47448,     0.47527,     0.47517,      0.4772,     0.47596,       0.475,      0.4757,     0.47388,     0.47069,     0.46953,     0.46781,\n",
              "            0.46873,     0.47003,     0.47323,     0.47441,     0.47542,     0.47121,     0.47017,     0.47084,     0.46878,     0.46901,     0.46807,        0.47,     0.46581,     0.46255,     0.46295,      0.4616,     0.46256,     0.46351,     0.46448,     0.46588,      0.4681,     0.46859,     0.46909,\n",
              "            0.46888,      0.4681,     0.46758,     0.46899,     0.46819,      0.4674,     0.47009,     0.47403,     0.47942,     0.48089,     0.47974,     0.47809,      0.4779,     0.47897,     0.48095,     0.48429,     0.48311,     0.48282,     0.48352,     0.48423,     0.48493,     0.48564,     0.48639,\n",
              "            0.48751,     0.48929,     0.49117,     0.49048,     0.48864,     0.48981,     0.49187,     0.49809,      0.4993,     0.49323,     0.49197,     0.49171,       0.492,     0.49228,     0.49257,     0.49285,     0.49314,     0.49342,     0.49451,     0.49849,      0.4996,     0.50144,     0.50419,\n",
              "            0.50652,     0.51108,     0.51513,     0.51608,     0.51695,     0.51783,      0.5244,     0.52469,      0.5272,      0.5328,     0.53544,     0.53806,     0.53843,     0.53559,     0.53363,     0.53246,     0.52858,     0.52843,     0.53144,     0.52919,     0.52798,      0.5296,     0.52846,\n",
              "             0.5292,     0.52994,     0.53313,     0.53409,     0.53457,     0.53601,     0.53385,     0.53258,     0.53306,     0.53474,     0.53742,       0.536,     0.53715,     0.53868,     0.54155,     0.55086,     0.55458,     0.55621,     0.56146,     0.56329,     0.56397,     0.55938,     0.55891,\n",
              "            0.55844,     0.55797,      0.5575,     0.55703,     0.55499,     0.55223,     0.55301,     0.55418,     0.55534,     0.55769,     0.55644,     0.55824,     0.55651,     0.55194,     0.55214,     0.55306,     0.55399,     0.55491,     0.55465,     0.55308,     0.55444,     0.55581,     0.55434,\n",
              "            0.55128,     0.55351,     0.55274,     0.55196,     0.55118,     0.54853,     0.54799,     0.54589,     0.54886,     0.55285,     0.55504,     0.55707,      0.5561,     0.55501,     0.55401,     0.55538,     0.55675,     0.55777,     0.55588,     0.55726,     0.56062,     0.56278,     0.56599,\n",
              "            0.57084,     0.56744,     0.56057,       0.557,     0.55338,      0.5604,     0.55948,     0.55856,     0.55764,     0.56077,     0.56788,      0.5695,     0.57113,     0.56702,     0.56608,     0.56513,     0.56418,     0.56638,     0.56887,     0.56644,     0.56771,     0.56898,     0.57049,\n",
              "            0.57567,      0.5805,     0.58184,     0.58318,     0.58452,     0.58672,      0.5922,     0.59778,     0.60078,     0.59901,      0.6019,     0.60309,     0.60116,     0.61687,     0.61493,     0.61297,     0.61099,      0.6096,     0.60879,     0.60798,     0.60717,     0.60637,       0.606,\n",
              "             0.6093,     0.61092,     0.61254,     0.61417,     0.61304,     0.61096,     0.60884,     0.60672,     0.60826,     0.61049,     0.61271,     0.61603,     0.61944,      0.6175,     0.61536,     0.61317,     0.61154,     0.61779,     0.61556,     0.61343,     0.61191,      0.6104,     0.60445,\n",
              "             0.6035,     0.60255,     0.60159,     0.60064,      0.6004,     0.60162,     0.60284,     0.60406,     0.60528,      0.6065,     0.60599,     0.60356,     0.60176,     0.60051,     0.59927,     0.59803,      0.5965,     0.59481,     0.59311,     0.59435,     0.59689,     0.59942,       0.598,\n",
              "            0.59541,     0.59385,     0.59252,     0.59119,     0.58986,     0.58641,      0.5862,     0.59014,     0.58931,      0.5888,     0.59287,     0.59939,     0.60161,     0.59973,     0.59784,     0.59331,     0.58486,     0.58363,     0.58239,     0.58116,     0.57993,     0.57452,     0.57723,\n",
              "            0.58162,     0.57778,     0.58005,     0.58232,     0.58459,     0.58585,      0.5871,     0.58835,      0.5896,     0.59084,     0.59209,     0.59334,     0.59456,     0.59577,     0.59698,     0.59819,     0.59939,      0.6006,     0.60181,     0.60302,     0.60895,     0.61027,     0.60745,\n",
              "            0.60952,     0.61159,     0.61366,     0.61574,     0.61166,     0.61435,     0.61705,     0.61974,     0.61774,     0.62468,     0.62293,     0.62118,     0.61943,      0.6175,     0.61508,     0.61267,     0.63689,     0.64327,     0.64589,     0.64299,      0.6401,     0.64571,     0.63832,\n",
              "            0.63955,     0.64079,     0.64203,     0.64326,      0.6445,     0.64574,     0.64697,     0.64821,     0.64945,     0.65068,     0.65192,     0.64797,     0.64169,     0.64178,     0.64461,      0.6492,     0.65379,     0.65838,     0.65008,     0.65847,     0.66631,     0.65772,     0.65501,\n",
              "             0.6523,      0.6496,     0.64664,     0.64599,     0.64535,     0.64471,     0.64406,     0.64342,     0.64277,     0.64213,     0.64148,     0.64084,     0.64019,     0.63955,      0.6389,     0.63826,     0.63761,     0.63697,     0.63561,     0.62562,      0.6325,     0.63939,     0.64488,\n",
              "            0.64315,     0.64142,     0.63968,     0.63795,     0.63622,     0.63449,     0.63483,      0.6393,     0.64378,     0.64826,     0.65273,     0.65389,     0.65109,     0.64828,     0.64548,     0.64318,     0.64806,     0.65294,     0.65782,      0.6627,      0.6642,     0.65264,     0.64697,\n",
              "            0.64129,     0.61854,     0.61018,     0.58996,      0.5871,     0.58425,      0.5814,     0.57855,     0.57569,     0.57284,     0.56921,     0.56482,     0.56042,     0.55603,     0.55164,     0.54619,     0.54013,     0.53406,     0.52799,     0.53252,     0.54108,     0.54965,     0.55468,\n",
              "            0.55186,     0.54904,     0.54622,      0.5434,     0.54058,     0.53776,     0.53494,     0.53211,     0.52963,     0.53485,     0.54007,     0.54528,      0.5505,     0.55572,     0.56094,     0.54853,     0.53704,     0.55266,     0.56828,     0.62588,     0.63902,     0.65216,      0.6653,\n",
              "            0.66855,     0.67066,     0.67277,     0.67487,     0.67698,     0.67908,     0.68119,     0.68329,      0.6854,     0.68751,     0.68961,     0.69172,     0.69382,     0.69593,     0.69804,     0.70014,     0.70225,     0.70435,     0.70646,     0.70856,     0.71067,     0.71278,     0.71488,\n",
              "            0.71699,     0.71909,      0.7212,     0.72331,     0.72541,     0.72673,     0.72207,     0.71741,     0.71275,     0.70809,     0.70344,     0.69402,     0.67124,      0.6646,     0.66201,     0.65942,     0.65683,     0.65424,     0.65166,     0.64907,     0.64648,     0.64389,      0.6413,\n",
              "            0.63871,     0.63612,     0.63354,     0.63095,     0.62836,     0.62577,     0.62251,     0.61897,     0.61543,     0.61188,     0.60834,      0.6048,     0.60126,     0.59771,     0.59417,     0.59063,     0.58709,     0.58354,        0.58,     0.57646,     0.57291,     0.57899,       0.592,\n",
              "            0.60502,     0.61803,     0.63105,     0.64407,     0.65708,     0.67696,     0.71601,     0.75506,     0.79411,     0.80657,      0.8143,     0.82204,     0.82978,     0.83751,     0.84525,     0.85299,     0.86072,     0.86846,     0.87619,     0.88393,     0.89167,      0.8994,     0.90714,\n",
              "            0.91487,     0.92261,     0.93035,     0.93808,     0.94582,     0.95355,     0.96129,     0.96903,     0.97676,      0.9845,     0.99223,     0.99997,           1,           1,           1,           1,           1,           1,           1,           1,           1,           1,           1,\n",
              "                  1,           1,           1,           1,           1,           1,           1,           1,           1,           1,           1,           1,           1,           1,           1,           1,           1,           1,           1,           1,           1,           1,           1,\n",
              "                  1,           1,           1,           1,           1,           1,           1,           1,           1,           1,           1,           1,           1,           1,           1,           1,           1,           1,           1,           1,           1,           1,           1,\n",
              "                  1,           1,           1,           1,           1,           1,           1,           1,           1,           1,           1,           1,           1,           1,           1,           1,           1,           1,           1,           1,           1,           1,           1,\n",
              "                  1,           1,           1,           1,           1,           1,           1,           1,           1,           1,           1,           1,           1,           1,           1,           1,           1,           1,           1,           1,           1,           1,           1,\n",
              "                  1,           1,           1,           1,           1,           1,           1,           1,           1,           1,           1,           1,           1,           1,           1,           1,           1,           1,           1,           1,           1,           1,           1,\n",
              "                  1,           1,           1,           1,           1,           1,           1,           1,           1,           1,           1,           1,           1,           1,           1,           1,           1,           1,           1,           1,           1,           1,           1,\n",
              "                  1,           1,           1,           1,           1,           1,           1,           1,           1,           1,           1]]), 'Confidence', 'Precision'], [array([          0,    0.001001,    0.002002,    0.003003,    0.004004,    0.005005,    0.006006,    0.007007,    0.008008,    0.009009,     0.01001,    0.011011,    0.012012,    0.013013,    0.014014,    0.015015,    0.016016,    0.017017,    0.018018,    0.019019,     0.02002,    0.021021,    0.022022,    0.023023,\n",
              "          0.024024,    0.025025,    0.026026,    0.027027,    0.028028,    0.029029,     0.03003,    0.031031,    0.032032,    0.033033,    0.034034,    0.035035,    0.036036,    0.037037,    0.038038,    0.039039,     0.04004,    0.041041,    0.042042,    0.043043,    0.044044,    0.045045,    0.046046,    0.047047,\n",
              "          0.048048,    0.049049,     0.05005,    0.051051,    0.052052,    0.053053,    0.054054,    0.055055,    0.056056,    0.057057,    0.058058,    0.059059,     0.06006,    0.061061,    0.062062,    0.063063,    0.064064,    0.065065,    0.066066,    0.067067,    0.068068,    0.069069,     0.07007,    0.071071,\n",
              "          0.072072,    0.073073,    0.074074,    0.075075,    0.076076,    0.077077,    0.078078,    0.079079,     0.08008,    0.081081,    0.082082,    0.083083,    0.084084,    0.085085,    0.086086,    0.087087,    0.088088,    0.089089,     0.09009,    0.091091,    0.092092,    0.093093,    0.094094,    0.095095,\n",
              "          0.096096,    0.097097,    0.098098,    0.099099,      0.1001,      0.1011,      0.1021,      0.1031,      0.1041,     0.10511,     0.10611,     0.10711,     0.10811,     0.10911,     0.11011,     0.11111,     0.11211,     0.11311,     0.11411,     0.11512,     0.11612,     0.11712,     0.11812,     0.11912,\n",
              "           0.12012,     0.12112,     0.12212,     0.12312,     0.12412,     0.12513,     0.12613,     0.12713,     0.12813,     0.12913,     0.13013,     0.13113,     0.13213,     0.13313,     0.13413,     0.13514,     0.13614,     0.13714,     0.13814,     0.13914,     0.14014,     0.14114,     0.14214,     0.14314,\n",
              "           0.14414,     0.14515,     0.14615,     0.14715,     0.14815,     0.14915,     0.15015,     0.15115,     0.15215,     0.15315,     0.15415,     0.15516,     0.15616,     0.15716,     0.15816,     0.15916,     0.16016,     0.16116,     0.16216,     0.16316,     0.16416,     0.16517,     0.16617,     0.16717,\n",
              "           0.16817,     0.16917,     0.17017,     0.17117,     0.17217,     0.17317,     0.17417,     0.17518,     0.17618,     0.17718,     0.17818,     0.17918,     0.18018,     0.18118,     0.18218,     0.18318,     0.18418,     0.18519,     0.18619,     0.18719,     0.18819,     0.18919,     0.19019,     0.19119,\n",
              "           0.19219,     0.19319,     0.19419,      0.1952,      0.1962,      0.1972,      0.1982,      0.1992,      0.2002,      0.2012,      0.2022,      0.2032,      0.2042,     0.20521,     0.20621,     0.20721,     0.20821,     0.20921,     0.21021,     0.21121,     0.21221,     0.21321,     0.21421,     0.21522,\n",
              "           0.21622,     0.21722,     0.21822,     0.21922,     0.22022,     0.22122,     0.22222,     0.22322,     0.22422,     0.22523,     0.22623,     0.22723,     0.22823,     0.22923,     0.23023,     0.23123,     0.23223,     0.23323,     0.23423,     0.23524,     0.23624,     0.23724,     0.23824,     0.23924,\n",
              "           0.24024,     0.24124,     0.24224,     0.24324,     0.24424,     0.24525,     0.24625,     0.24725,     0.24825,     0.24925,     0.25025,     0.25125,     0.25225,     0.25325,     0.25425,     0.25526,     0.25626,     0.25726,     0.25826,     0.25926,     0.26026,     0.26126,     0.26226,     0.26326,\n",
              "           0.26426,     0.26527,     0.26627,     0.26727,     0.26827,     0.26927,     0.27027,     0.27127,     0.27227,     0.27327,     0.27427,     0.27528,     0.27628,     0.27728,     0.27828,     0.27928,     0.28028,     0.28128,     0.28228,     0.28328,     0.28428,     0.28529,     0.28629,     0.28729,\n",
              "           0.28829,     0.28929,     0.29029,     0.29129,     0.29229,     0.29329,     0.29429,      0.2953,      0.2963,      0.2973,      0.2983,      0.2993,      0.3003,      0.3013,      0.3023,      0.3033,      0.3043,     0.30531,     0.30631,     0.30731,     0.30831,     0.30931,     0.31031,     0.31131,\n",
              "           0.31231,     0.31331,     0.31431,     0.31532,     0.31632,     0.31732,     0.31832,     0.31932,     0.32032,     0.32132,     0.32232,     0.32332,     0.32432,     0.32533,     0.32633,     0.32733,     0.32833,     0.32933,     0.33033,     0.33133,     0.33233,     0.33333,     0.33433,     0.33534,\n",
              "           0.33634,     0.33734,     0.33834,     0.33934,     0.34034,     0.34134,     0.34234,     0.34334,     0.34434,     0.34535,     0.34635,     0.34735,     0.34835,     0.34935,     0.35035,     0.35135,     0.35235,     0.35335,     0.35435,     0.35536,     0.35636,     0.35736,     0.35836,     0.35936,\n",
              "           0.36036,     0.36136,     0.36236,     0.36336,     0.36436,     0.36537,     0.36637,     0.36737,     0.36837,     0.36937,     0.37037,     0.37137,     0.37237,     0.37337,     0.37437,     0.37538,     0.37638,     0.37738,     0.37838,     0.37938,     0.38038,     0.38138,     0.38238,     0.38338,\n",
              "           0.38438,     0.38539,     0.38639,     0.38739,     0.38839,     0.38939,     0.39039,     0.39139,     0.39239,     0.39339,     0.39439,      0.3954,      0.3964,      0.3974,      0.3984,      0.3994,      0.4004,      0.4014,      0.4024,      0.4034,      0.4044,     0.40541,     0.40641,     0.40741,\n",
              "           0.40841,     0.40941,     0.41041,     0.41141,     0.41241,     0.41341,     0.41441,     0.41542,     0.41642,     0.41742,     0.41842,     0.41942,     0.42042,     0.42142,     0.42242,     0.42342,     0.42442,     0.42543,     0.42643,     0.42743,     0.42843,     0.42943,     0.43043,     0.43143,\n",
              "           0.43243,     0.43343,     0.43443,     0.43544,     0.43644,     0.43744,     0.43844,     0.43944,     0.44044,     0.44144,     0.44244,     0.44344,     0.44444,     0.44545,     0.44645,     0.44745,     0.44845,     0.44945,     0.45045,     0.45145,     0.45245,     0.45345,     0.45445,     0.45546,\n",
              "           0.45646,     0.45746,     0.45846,     0.45946,     0.46046,     0.46146,     0.46246,     0.46346,     0.46446,     0.46547,     0.46647,     0.46747,     0.46847,     0.46947,     0.47047,     0.47147,     0.47247,     0.47347,     0.47447,     0.47548,     0.47648,     0.47748,     0.47848,     0.47948,\n",
              "           0.48048,     0.48148,     0.48248,     0.48348,     0.48448,     0.48549,     0.48649,     0.48749,     0.48849,     0.48949,     0.49049,     0.49149,     0.49249,     0.49349,     0.49449,      0.4955,      0.4965,      0.4975,      0.4985,      0.4995,      0.5005,      0.5015,      0.5025,      0.5035,\n",
              "            0.5045,     0.50551,     0.50651,     0.50751,     0.50851,     0.50951,     0.51051,     0.51151,     0.51251,     0.51351,     0.51451,     0.51552,     0.51652,     0.51752,     0.51852,     0.51952,     0.52052,     0.52152,     0.52252,     0.52352,     0.52452,     0.52553,     0.52653,     0.52753,\n",
              "           0.52853,     0.52953,     0.53053,     0.53153,     0.53253,     0.53353,     0.53453,     0.53554,     0.53654,     0.53754,     0.53854,     0.53954,     0.54054,     0.54154,     0.54254,     0.54354,     0.54454,     0.54555,     0.54655,     0.54755,     0.54855,     0.54955,     0.55055,     0.55155,\n",
              "           0.55255,     0.55355,     0.55455,     0.55556,     0.55656,     0.55756,     0.55856,     0.55956,     0.56056,     0.56156,     0.56256,     0.56356,     0.56456,     0.56557,     0.56657,     0.56757,     0.56857,     0.56957,     0.57057,     0.57157,     0.57257,     0.57357,     0.57457,     0.57558,\n",
              "           0.57658,     0.57758,     0.57858,     0.57958,     0.58058,     0.58158,     0.58258,     0.58358,     0.58458,     0.58559,     0.58659,     0.58759,     0.58859,     0.58959,     0.59059,     0.59159,     0.59259,     0.59359,     0.59459,      0.5956,      0.5966,      0.5976,      0.5986,      0.5996,\n",
              "            0.6006,      0.6016,      0.6026,      0.6036,      0.6046,     0.60561,     0.60661,     0.60761,     0.60861,     0.60961,     0.61061,     0.61161,     0.61261,     0.61361,     0.61461,     0.61562,     0.61662,     0.61762,     0.61862,     0.61962,     0.62062,     0.62162,     0.62262,     0.62362,\n",
              "           0.62462,     0.62563,     0.62663,     0.62763,     0.62863,     0.62963,     0.63063,     0.63163,     0.63263,     0.63363,     0.63463,     0.63564,     0.63664,     0.63764,     0.63864,     0.63964,     0.64064,     0.64164,     0.64264,     0.64364,     0.64464,     0.64565,     0.64665,     0.64765,\n",
              "           0.64865,     0.64965,     0.65065,     0.65165,     0.65265,     0.65365,     0.65465,     0.65566,     0.65666,     0.65766,     0.65866,     0.65966,     0.66066,     0.66166,     0.66266,     0.66366,     0.66466,     0.66567,     0.66667,     0.66767,     0.66867,     0.66967,     0.67067,     0.67167,\n",
              "           0.67267,     0.67367,     0.67467,     0.67568,     0.67668,     0.67768,     0.67868,     0.67968,     0.68068,     0.68168,     0.68268,     0.68368,     0.68468,     0.68569,     0.68669,     0.68769,     0.68869,     0.68969,     0.69069,     0.69169,     0.69269,     0.69369,     0.69469,      0.6957,\n",
              "            0.6967,      0.6977,      0.6987,      0.6997,      0.7007,      0.7017,      0.7027,      0.7037,      0.7047,     0.70571,     0.70671,     0.70771,     0.70871,     0.70971,     0.71071,     0.71171,     0.71271,     0.71371,     0.71471,     0.71572,     0.71672,     0.71772,     0.71872,     0.71972,\n",
              "           0.72072,     0.72172,     0.72272,     0.72372,     0.72472,     0.72573,     0.72673,     0.72773,     0.72873,     0.72973,     0.73073,     0.73173,     0.73273,     0.73373,     0.73473,     0.73574,     0.73674,     0.73774,     0.73874,     0.73974,     0.74074,     0.74174,     0.74274,     0.74374,\n",
              "           0.74474,     0.74575,     0.74675,     0.74775,     0.74875,     0.74975,     0.75075,     0.75175,     0.75275,     0.75375,     0.75475,     0.75576,     0.75676,     0.75776,     0.75876,     0.75976,     0.76076,     0.76176,     0.76276,     0.76376,     0.76476,     0.76577,     0.76677,     0.76777,\n",
              "           0.76877,     0.76977,     0.77077,     0.77177,     0.77277,     0.77377,     0.77477,     0.77578,     0.77678,     0.77778,     0.77878,     0.77978,     0.78078,     0.78178,     0.78278,     0.78378,     0.78478,     0.78579,     0.78679,     0.78779,     0.78879,     0.78979,     0.79079,     0.79179,\n",
              "           0.79279,     0.79379,     0.79479,      0.7958,      0.7968,      0.7978,      0.7988,      0.7998,      0.8008,      0.8018,      0.8028,      0.8038,      0.8048,     0.80581,     0.80681,     0.80781,     0.80881,     0.80981,     0.81081,     0.81181,     0.81281,     0.81381,     0.81481,     0.81582,\n",
              "           0.81682,     0.81782,     0.81882,     0.81982,     0.82082,     0.82182,     0.82282,     0.82382,     0.82482,     0.82583,     0.82683,     0.82783,     0.82883,     0.82983,     0.83083,     0.83183,     0.83283,     0.83383,     0.83483,     0.83584,     0.83684,     0.83784,     0.83884,     0.83984,\n",
              "           0.84084,     0.84184,     0.84284,     0.84384,     0.84484,     0.84585,     0.84685,     0.84785,     0.84885,     0.84985,     0.85085,     0.85185,     0.85285,     0.85385,     0.85485,     0.85586,     0.85686,     0.85786,     0.85886,     0.85986,     0.86086,     0.86186,     0.86286,     0.86386,\n",
              "           0.86486,     0.86587,     0.86687,     0.86787,     0.86887,     0.86987,     0.87087,     0.87187,     0.87287,     0.87387,     0.87487,     0.87588,     0.87688,     0.87788,     0.87888,     0.87988,     0.88088,     0.88188,     0.88288,     0.88388,     0.88488,     0.88589,     0.88689,     0.88789,\n",
              "           0.88889,     0.88989,     0.89089,     0.89189,     0.89289,     0.89389,     0.89489,      0.8959,      0.8969,      0.8979,      0.8989,      0.8999,      0.9009,      0.9019,      0.9029,      0.9039,      0.9049,     0.90591,     0.90691,     0.90791,     0.90891,     0.90991,     0.91091,     0.91191,\n",
              "           0.91291,     0.91391,     0.91491,     0.91592,     0.91692,     0.91792,     0.91892,     0.91992,     0.92092,     0.92192,     0.92292,     0.92392,     0.92492,     0.92593,     0.92693,     0.92793,     0.92893,     0.92993,     0.93093,     0.93193,     0.93293,     0.93393,     0.93493,     0.93594,\n",
              "           0.93694,     0.93794,     0.93894,     0.93994,     0.94094,     0.94194,     0.94294,     0.94394,     0.94494,     0.94595,     0.94695,     0.94795,     0.94895,     0.94995,     0.95095,     0.95195,     0.95295,     0.95395,     0.95495,     0.95596,     0.95696,     0.95796,     0.95896,     0.95996,\n",
              "           0.96096,     0.96196,     0.96296,     0.96396,     0.96496,     0.96597,     0.96697,     0.96797,     0.96897,     0.96997,     0.97097,     0.97197,     0.97297,     0.97397,     0.97497,     0.97598,     0.97698,     0.97798,     0.97898,     0.97998,     0.98098,     0.98198,     0.98298,     0.98398,\n",
              "           0.98498,     0.98599,     0.98699,     0.98799,     0.98899,     0.98999,     0.99099,     0.99199,     0.99299,     0.99399,     0.99499,       0.996,       0.997,       0.998,       0.999,           1]), array([[    0.68089,     0.68089,     0.67911,     0.67467,     0.66933,     0.66133,     0.65511,     0.64889,        0.64,     0.63111,     0.61866,       0.608,       0.592,     0.58578,     0.58044,     0.57333,     0.56978,     0.55556,     0.54756,     0.53956,     0.53422,     0.52978,     0.52178,\n",
              "            0.51644,       0.512,     0.50517,     0.49778,     0.49244,     0.48444,        0.48,     0.47822,     0.47022,     0.46311,     0.45511,     0.44978,     0.44533,     0.44089,     0.43911,     0.43556,     0.42756,     0.42667,     0.42222,     0.41867,       0.416,     0.41333,     0.40978,\n",
              "              0.408,     0.40356,     0.40178,     0.39289,     0.39022,     0.38756,     0.38667,     0.38489,     0.38133,     0.37956,     0.37867,       0.376,     0.37422,     0.36889,       0.368,     0.36444,     0.36267,     0.36089,     0.35911,     0.35378,     0.35289,     0.34933,     0.34489,\n",
              "            0.34044,     0.33778,       0.336,     0.33511,     0.33333,     0.33244,       0.328,     0.32622,     0.32356,     0.32356,     0.32356,     0.32178,        0.32,     0.31822,     0.31644,     0.31644,     0.31467,     0.31378,     0.31378,     0.31289,     0.31289,       0.312,     0.31111,\n",
              "            0.30933,     0.30844,     0.30667,     0.30489,     0.30133,     0.29867,     0.29774,     0.29689,     0.29689,       0.296,     0.29511,     0.29422,     0.29422,     0.29422,     0.29156,     0.29067,     0.28889,     0.28622,     0.28533,     0.28356,     0.28267,        0.28,     0.27911,\n",
              "            0.27733,     0.27644,     0.27556,     0.27289,     0.27111,     0.26933,     0.26844,     0.26844,     0.26756,     0.26489,     0.26222,     0.26133,     0.26044,     0.26044,     0.25956,     0.25689,     0.25689,     0.25511,     0.25511,     0.25422,     0.25422,     0.25239,     0.25067,\n",
              "             0.2503,     0.24848,     0.24533,     0.24533,     0.24533,     0.24444,     0.24444,     0.24356,     0.24267,     0.24267,     0.24089,     0.24089,        0.24,     0.23822,     0.23822,     0.23733,     0.23644,     0.23359,     0.23289,     0.23111,     0.23022,     0.23022,     0.22844,\n",
              "            0.22667,     0.22489,     0.22489,     0.22311,     0.22293,     0.22217,     0.22044,     0.21867,     0.21816,     0.21689,       0.216,     0.21511,     0.21511,     0.21372,     0.21333,     0.21333,     0.21333,     0.21156,     0.21156,      0.2087,       0.208,       0.208,     0.20771,\n",
              "            0.20625,     0.20622,     0.20533,     0.20533,     0.20533,     0.20533,     0.20533,     0.20533,     0.20356,     0.20356,     0.20356,     0.20356,     0.20267,     0.20267,         0.2,     0.19911,     0.19911,     0.19822,     0.19822,     0.19822,     0.19576,     0.19467,     0.19389,\n",
              "            0.19245,       0.192,       0.192,       0.192,     0.19142,     0.19111,     0.19111,     0.19056,     0.18861,     0.18844,     0.18844,     0.18667,     0.18667,     0.18667,     0.18667,     0.18489,      0.1842,     0.18297,     0.18237,     0.18204,     0.18133,     0.18044,     0.17994,\n",
              "              0.176,       0.176,       0.176,       0.176,       0.176,     0.17422,     0.17244,     0.17244,     0.17244,     0.17084,     0.17067,     0.17067,     0.16978,     0.16939,     0.16764,     0.16622,     0.16622,     0.16533,     0.16472,     0.16444,     0.16444,     0.16444,     0.16356,\n",
              "            0.16267,     0.16136,     0.15925,     0.15715,     0.15644,     0.15644,     0.15644,     0.15584,     0.15467,      0.1546,     0.15378,     0.15306,       0.152,       0.152,       0.152,     0.15111,      0.1492,     0.14859,     0.14844,     0.14844,     0.14793,     0.14684,     0.14659,\n",
              "            0.14598,       0.144,     0.14227,     0.14222,     0.14133,     0.14133,     0.14127,     0.14044,     0.14044,     0.14044,     0.13956,     0.13778,     0.13724,     0.13689,       0.136,       0.136,     0.13483,     0.13431,     0.13422,      0.1321,     0.13043,     0.12982,     0.12893,\n",
              "            0.12889,     0.12889,       0.128,       0.128,       0.128,     0.12515,     0.12463,     0.12444,     0.12315,     0.12248,     0.12178,     0.12178,     0.11937,     0.11781,     0.11724,     0.11644,     0.11644,     0.11644,     0.11644,     0.11556,     0.11556,     0.11556,     0.11556,\n",
              "            0.11536,     0.11499,     0.11467,     0.11462,     0.11425,     0.11389,     0.11378,     0.11378,     0.11378,     0.11363,     0.11311,     0.11237,       0.112,       0.112,     0.11119,     0.11102,      0.1105,     0.11022,     0.11022,     0.11022,     0.11022,     0.11022,     0.11022,\n",
              "            0.11022,     0.10986,     0.10933,     0.10781,     0.10667,     0.10667,     0.10667,     0.10667,     0.10637,     0.10382,      0.1033,     0.10311,     0.10311,     0.10311,     0.10311,     0.10311,     0.10311,     0.10311,     0.10222,     0.10222,     0.10222,     0.10222,     0.10222,\n",
              "            0.10222,     0.10222,     0.10199,     0.10133,     0.10133,     0.10133,     0.10133,     0.10044,     0.10044,     0.10044,     0.10044,     0.10044,    0.099544,    0.098414,     0.09764,    0.097185,     0.09568,    0.095111,    0.095111,    0.093918,    0.093462,    0.093333,    0.092444,\n",
              "           0.092444,    0.092444,    0.092369,    0.091556,    0.090667,    0.090667,    0.089584,    0.089129,       0.088,       0.088,       0.088,     0.08728,    0.086222,    0.086222,    0.086222,    0.086222,    0.086222,    0.086222,    0.086222,    0.085991,     0.08508,    0.083508,    0.083349,\n",
              "           0.083191,    0.083032,    0.082874,    0.082715,    0.082035,    0.081124,        0.08,        0.08,        0.08,    0.079576,    0.079111,    0.079111,    0.078079,    0.076444,    0.075556,    0.075556,    0.075556,    0.075556,    0.075279,    0.074667,    0.074667,    0.074667,    0.074079,\n",
              "           0.073168,    0.072731,    0.072503,    0.072275,    0.072048,    0.071279,    0.070222,    0.069457,    0.069333,    0.069333,    0.069333,    0.069333,    0.069041,    0.068737,    0.068444,    0.068444,    0.068444,    0.068388,    0.067867,    0.066667,    0.066667,    0.066667,    0.066667,\n",
              "           0.066212,    0.065301,    0.063501,     0.06259,    0.061679,    0.061192,    0.060964,    0.060736,    0.060509,    0.060444,    0.060444,    0.060444,    0.060444,     0.05937,    0.059142,    0.058914,    0.058686,    0.058667,    0.058667,    0.057778,    0.057778,    0.057778,    0.057778,\n",
              "           0.057778,    0.057778,    0.057778,    0.057778,    0.057778,    0.057778,    0.057778,    0.057778,    0.057522,    0.056889,    0.056889,    0.056728,    0.056272,    0.055817,    0.055361,    0.054906,     0.05445,    0.054131,    0.053949,    0.053767,    0.053584,    0.053402,    0.052444,\n",
              "           0.052444,    0.052444,    0.052444,    0.052444,    0.052105,     0.05165,    0.051194,    0.050739,    0.050667,    0.050667,    0.050667,    0.050667,    0.050667,    0.050228,    0.049772,    0.049316,    0.048889,     0.04885,    0.048394,    0.047959,    0.047655,    0.047352,    0.046184,\n",
              "           0.046002,     0.04582,    0.045638,    0.045455,    0.045333,    0.045333,    0.045333,    0.045333,    0.045333,    0.045333,    0.045116,    0.044661,    0.044325,    0.044097,    0.043869,    0.043641,    0.043366,    0.043063,    0.042759,    0.042667,    0.042667,    0.042667,    0.042316,\n",
              "           0.041861,    0.041591,    0.041364,    0.041136,    0.040908,    0.040332,        0.04,        0.04,    0.039543,    0.039111,    0.039111,    0.039111,    0.038929,    0.038625,    0.038322,     0.03761,    0.036317,    0.036135,    0.035953,    0.035771,    0.035589,    0.034809,    0.034667,\n",
              "           0.034667,    0.033778,    0.033778,    0.033778,    0.033778,    0.033778,    0.033778,    0.033778,    0.033778,    0.033778,    0.033778,    0.033778,    0.033778,    0.033778,    0.033778,    0.033778,    0.033778,    0.033778,    0.033778,    0.033778,    0.033778,    0.033409,    0.032889,\n",
              "           0.032889,    0.032889,    0.032889,    0.032889,       0.032,       0.032,       0.032,       0.032,    0.031606,    0.031069,    0.030841,    0.030613,    0.030385,    0.030136,    0.029832,    0.029529,    0.029333,    0.029333,    0.029186,    0.028821,    0.028457,    0.027556,    0.026667,\n",
              "           0.026667,    0.026667,    0.026667,    0.026667,    0.026667,    0.026667,    0.026667,    0.026667,    0.026667,    0.026667,    0.026667,    0.026183,    0.025475,    0.024889,       0.024,       0.024,       0.024,       0.024,    0.023119,    0.023111,    0.023075,    0.022205,    0.021945,\n",
              "           0.021685,    0.021424,    0.019521,    0.019467,    0.019414,     0.01936,    0.019306,    0.019253,    0.019199,    0.019146,    0.019092,    0.019038,    0.018985,    0.018931,    0.018878,    0.018824,     0.01877,    0.018717,    0.018607,    0.017778,    0.017778,    0.017778,    0.017757,\n",
              "           0.017626,    0.017496,    0.017366,    0.017236,    0.017106,    0.016976,    0.016889,    0.016889,    0.016889,    0.016889,    0.016889,    0.016797,    0.016594,    0.016392,    0.016189,       0.016,       0.016,       0.016,       0.016,       0.016,    0.015829,    0.015034,    0.014669,\n",
              "           0.014305,    0.012981,    0.012526,    0.011512,    0.011382,    0.011252,    0.011122,    0.010991,    0.010861,    0.010731,    0.010575,    0.010392,     0.01021,    0.010028,   0.0098458,    0.009635,   0.0094072,   0.0091794,   0.0089516,   0.0088889,   0.0088889,   0.0088889,   0.0088592,\n",
              "          0.0087632,   0.0086673,   0.0085714,   0.0084755,   0.0083796,   0.0082837,   0.0081878,   0.0080919,       0.008,       0.008,       0.008,       0.008,       0.008,       0.008,       0.008,   0.0075744,   0.0071111,   0.0071111,   0.0071111,   0.0071111,   0.0071111,   0.0071111,   0.0071111,\n",
              "          0.0071111,   0.0071111,   0.0071111,   0.0071111,   0.0071111,   0.0071111,   0.0071111,   0.0071111,   0.0071111,   0.0071111,   0.0071111,   0.0071111,   0.0071111,   0.0071111,   0.0071111,   0.0071111,   0.0071111,   0.0071111,   0.0071111,   0.0071111,   0.0071111,   0.0071111,   0.0071111,\n",
              "          0.0071111,   0.0071111,   0.0071111,   0.0071111,   0.0071111,   0.0070935,   0.0069416,   0.0067898,   0.0066379,    0.006486,   0.0063342,   0.0060627,   0.0054552,   0.0052892,    0.005234,   0.0051788,   0.0051235,   0.0050683,   0.0050131,   0.0049579,   0.0049027,   0.0048474,   0.0047922,\n",
              "           0.004737,   0.0046818,   0.0046266,   0.0045713,   0.0045161,   0.0044609,   0.0044032,   0.0043444,   0.0042856,   0.0042268,    0.004168,   0.0041093,   0.0040505,   0.0039917,   0.0039329,   0.0038741,   0.0038153,   0.0037566,   0.0036978,    0.003639,   0.0035802,   0.0035556,   0.0035556,\n",
              "          0.0035556,   0.0035556,   0.0035556,   0.0035556,   0.0035556,   0.0035556,   0.0035556,   0.0035556,   0.0035556,   0.0035556,   0.0035556,   0.0035556,   0.0035556,   0.0035556,   0.0035556,   0.0035556,   0.0035556,   0.0035556,   0.0035556,   0.0035556,   0.0035556,   0.0035556,   0.0035556,\n",
              "          0.0035556,   0.0035556,   0.0035556,   0.0035556,   0.0035556,   0.0035556,   0.0035556,   0.0035556,   0.0035556,   0.0035556,   0.0035556,   0.0035556,   0.0033287,   0.0031009,   0.0028731,   0.0026553,   0.0025338,   0.0024123,   0.0022908,   0.0021693,   0.0020479,   0.0019264,   0.0018049,\n",
              "          0.0014239,   0.0009683,           0,           0,           0,           0,           0,           0,           0,           0,           0,           0,           0,           0,           0,           0,           0,           0,           0,           0,           0,           0,           0,\n",
              "                  0,           0,           0,           0,           0,           0,           0,           0,           0,           0,           0,           0,           0,           0,           0,           0,           0,           0,           0,           0,           0,           0,           0,\n",
              "                  0,           0,           0,           0,           0,           0,           0,           0,           0,           0,           0,           0,           0,           0,           0,           0,           0,           0,           0,           0,           0,           0,           0,\n",
              "                  0,           0,           0,           0,           0,           0,           0,           0,           0,           0,           0,           0,           0,           0,           0,           0,           0,           0,           0,           0,           0,           0,           0,\n",
              "                  0,           0,           0,           0,           0,           0,           0,           0,           0,           0,           0,           0,           0,           0,           0,           0,           0,           0,           0,           0,           0,           0,           0,\n",
              "                  0,           0,           0,           0,           0,           0,           0,           0,           0,           0,           0,           0,           0,           0,           0,           0,           0,           0,           0,           0,           0,           0,           0,\n",
              "                  0,           0,           0,           0,           0,           0,           0,           0,           0,           0,           0]]), 'Confidence', 'Recall']]\n",
              "fitness: 0.0823369053267116\n",
              "keys: ['metrics/precision(B)', 'metrics/recall(B)', 'metrics/mAP50(B)', 'metrics/mAP50-95(B)']\n",
              "maps: array([   0.071251,    0.071251,    0.071251])\n",
              "names: {0: 'Initial', 1: 'Middle', 2: 'Harvest'}\n",
              "plot: True\n",
              "results_dict: {'metrics/precision(B)': 0.33092077833343336, 'metrics/recall(B)': 0.24355555555555555, 'metrics/mAP50(B)': 0.18210727177304925, 'metrics/mAP50-95(B)': 0.07125130905489631, 'fitness': 0.0823369053267116}\n",
              "save_dir: PosixPath('runs/detect/yolov8-tomato')\n",
              "speed: {'preprocess': 0.2691382453555152, 'inference': 2.761009761265346, 'loss': 0.0006062643868582589, 'postprocess': 3.1846795763288225}\n",
              "task: 'detect'"
            ]
          },
          "metadata": {},
          "execution_count": 6
        }
      ]
    },
    {
      "cell_type": "code",
      "source": [
        "\n",
        "import os\n",
        "import numpy as np\n",
        "import matplotlib.pyplot as plt\n",
        "import pandas as pd\n",
        "# 设定结果目录\n",
        "results_dir = '/content/runs/detect/yolov8-tomato'  # 更新为你的结果目录\n",
        "results_file = os.path.join(results_dir, 'results.csv')  # 训练日志文件\n",
        "results_df = pd.read_csv(results_file)\n",
        "print(results_df.columns.tolist())\n",
        "train_loss = results_df['         train/box_loss']\n",
        "val_loss = results_df['           val/box_loss']\n",
        "\n",
        "# Plotting the losses\n",
        "plt.figure(figsize=(10, 5))\n",
        "plt.plot(train_loss, label='Training Loss')\n",
        "plt.plot(val_loss, label='Validation Loss')\n",
        "plt.xlabel('Epochs')\n",
        "plt.ylabel('Loss')\n",
        "plt.title('Training and Validation Loss Curves')\n",
        "plt.legend()\n",
        "plt.show()"
      ],
      "metadata": {
        "colab": {
          "base_uri": "https://localhost:8080/",
          "height": 524
        },
        "id": "yMaGEyPu1rkg",
        "outputId": "0b93b67f-ebe4-42a0-bb7c-eba71b39af4e"
      },
      "execution_count": 8,
      "outputs": [
        {
          "output_type": "stream",
          "name": "stdout",
          "text": [
            "['                  epoch', '         train/box_loss', '         train/cls_loss', '         train/dfl_loss', '   metrics/precision(B)', '      metrics/recall(B)', '       metrics/mAP50(B)', '    metrics/mAP50-95(B)', '           val/box_loss', '           val/cls_loss', '           val/dfl_loss', '                 lr/pg0', '                 lr/pg1', '                 lr/pg2']\n"
          ]
        },
        {
          "output_type": "display_data",
          "data": {
            "text/plain": [
              "<Figure size 1000x500 with 1 Axes>"
            ],
            "image/png": "[encoded data removed]"
          },
          "metadata": {}
        }
      ]
    },
    {
      "cell_type": "code",
      "source": [
        "from google.colab import files\n",
        "\n",
        "# 下载权重文件\n",
        "files.download('/content/runs/detect/yolov8-tomato/weights/best.pt')"
      ],
      "metadata": {
        "id": "tvjI4q_U3IIx",
        "colab": {
          "base_uri": "https://localhost:8080/",
          "height": 17
        },
        "outputId": "93d57578-7bc3-4d36-e9e3-26856aafd53b"
      },
      "execution_count": 9,
      "outputs": [
        {
          "output_type": "display_data",
          "data": {
            "text/plain": [
              "<IPython.core.display.Javascript object>"
            ],
            "application/javascript": [
              "\n",
              "    async function download(id, filename, size) {\n",
              "      if (!google.colab.kernel.accessAllowed) {\n",
              "        return;\n",
              "      }\n",
              "      const div = document.createElement('div');\n",
              "      const label = document.createElement('label');\n",
              "      label.textContent = `Downloading \"${filename}\": `;\n",
              "      div.appendChild(label);\n",
              "      const progress = document.createElement('progress');\n",
              "      progress.max = size;\n",
              "      div.appendChild(progress);\n",
              "      document.body.appendChild(div);\n",
              "\n",
              "      const buffers = [];\n",
              "      let downloaded = 0;\n",
              "\n",
              "      const channel = await google.colab.kernel.comms.open(id);\n",
              "      // Send a message to notify the kernel that we're ready.\n",
              "      channel.send({})\n",
              "\n",
              "      for await (const message of channel.messages) {\n",
              "        // Send a message to notify the kernel that we're ready.\n",
              "        channel.send({})\n",
              "        if (message.buffers) {\n",
              "          for (const buffer of message.buffers) {\n",
              "            buffers.push(buffer);\n",
              "            downloaded += buffer.byteLength;\n",
              "            progress.value = downloaded;\n",
              "          }\n",
              "        }\n",
              "      }\n",
              "      const blob = new Blob(buffers, {type: 'application/binary'});\n",
              "      const a = document.createElement('a');\n",
              "      a.href = window.URL.createObjectURL(blob);\n",
              "      a.download = filename;\n",
              "      div.appendChild(a);\n",
              "      a.click();\n",
              "      div.remove();\n",
              "    }\n",
              "  "
            ]
          },
          "metadata": {}
        },
        {
          "output_type": "display_data",
          "data": {
            "text/plain": [
              "<IPython.core.display.Javascript object>"
            ],
            "application/javascript": [
              "download(\"download_f05c7aff-acce-4912-a0b7-4b9a720b91bf\", \"best.pt\", 6243299)"
            ]
          },
          "metadata": {}
        }
      ]
    },
    {
      "cell_type": "code",
      "source": [
        "import os\n",
        "\n",
        "def check_labels(directory, num_classes):\n",
        "    if not os.path.exists(directory):\n",
        "        print(f\"Directory does not exist: {directory}\")\n",
        "        return\n",
        "\n",
        "    txt_files = [f for f in os.listdir(directory) if f.endswith('.txt')]\n",
        "    if not txt_files:\n",
        "        print(f\"No label files found in directory: {directory}\")\n",
        "        return\n",
        "\n",
        "    for filename in txt_files:\n",
        "        file_path = os.path.join(directory, filename)\n",
        "        with open(file_path, 'r') as f:\n",
        "            for line in f:\n",
        "                parts = line.strip().split()\n",
        "                if len(parts) < 5:\n",
        "                    print(f\"Invalid label line in {file_path}: {line}\")\n",
        "                    continue\n",
        "                try:\n",
        "                    class_id = int(parts[0])\n",
        "                    if class_id < 0 or class_id >= num_classes:\n",
        "                        print(f\"Class index out of bounds in {file_path}: {class_id}\")\n",
        "                except ValueError:\n",
        "                    print(f\"Invalid class index in {file_path}: {line}\")\n",
        "\n",
        "# 检查训练和验证标签文件\n",
        "check_labels('/content/drive/MyDrive/colabhw/dataset/organized_dataset/labels/train', num_classes=1)\n",
        "check_labels('/content/drive/MyDrive/colabhw/dataset/organized_dataset/labels/val', num_classes=1)"
      ],
      "metadata": {
        "collapsed": true,
        "id": "2Q_DJY4ij7L0"
      },
      "execution_count": null,
      "outputs": []
    },
    {
      "cell_type": "code",
      "source": [
        "import os\n",
        "\n",
        "def normalize_coordinates(directory):\n",
        "    if not os.path.exists(directory):\n",
        "        print(f\"Directory does not exist: {directory}\")\n",
        "        return\n",
        "\n",
        "    txt_files = [f for f in os.listdir(directory) if f.endswith('.txt')]\n",
        "    if not txt_files:\n",
        "        print(f\"No label files found in directory: {directory}\")\n",
        "        return\n",
        "\n",
        "    for filename in txt_files:\n",
        "        file_path = os.path.join(directory, filename)\n",
        "        with open(file_path, 'r') as f:\n",
        "            lines = f.readlines()\n",
        "\n",
        "        with open(file_path, 'w') as f:\n",
        "            for line in lines:\n",
        "                parts = line.strip().split()\n",
        "                if len(parts) >= 5:\n",
        "                    try:\n",
        "                        class_id = int(parts[0])\n",
        "                        x_center = float(parts[1])\n",
        "                        y_center = float(parts[2])\n",
        "                        width = float(parts[3])\n",
        "                        height = float(parts[4])\n",
        "\n",
        "                        # 修正坐标值\n",
        "                        x_center = min(max(x_center, 0.0), 1.0)\n",
        "                        y_center = min(max(y_center, 0.0), 1.0)\n",
        "                        width = min(max(width, 0.0), 1.0)\n",
        "                        height = min(max(height, 0.0), 1.0)\n",
        "\n",
        "                        f.write(f\"{class_id} {x_center} {y_center} {width} {height}\\n\")\n",
        "                    except ValueError:\n",
        "                        print(f\"Invalid label in {file_path}: {line}\")\n",
        "\n",
        "# 修正标签文件中的坐标\n",
        "normalize_coordinates('/content/drive/MyDrive/colabhw/dataset/organized_dataset/labels/train')\n",
        "normalize_coordinates('/content/drive/MyDrive/colabhw/dataset/organized_dataset/labels/val')"
      ],
      "metadata": {
        "id": "CC-by62tlsLr"
      },
      "execution_count": null,
      "outputs": []
    }
  ]
}